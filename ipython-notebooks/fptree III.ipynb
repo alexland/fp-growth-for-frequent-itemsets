{
 "metadata": {
  "name": ""
 },
 "nbformat": 3,
 "nbformat_minor": 0,
 "worksheets": [
  {
   "cells": [
    {
     "cell_type": "code",
     "collapsed": false,
     "input": [
      "import json as JSON\n",
      "import os\n",
      "import sys\n",
      "import itertools as IT\n",
      "from copy import deepcopy\n",
      "import collections as CL\n",
      "ddir = \"/Users/dougybarbo/Projects/fp-growth-for-frequent-itemsets\"\n",
      "import os\n",
      "os.chdir(ddir)"
     ],
     "language": "python",
     "metadata": {},
     "outputs": [],
     "prompt_number": 21
    },
    {
     "cell_type": "code",
     "collapsed": false,
     "input": [
      "s='C:3, BC:3, DE:3, ADE:3 , BE:3, ABE:3, AE:4, E:4, AD:4, ABD:3, AB:4, A:5, D:6, BD:4, B:6'\n",
      "target = s.split(', ')\n",
      "target = [itm.split(':') for itm in target]\n",
      "target = dict((t[0], int(t[1])) for t in target)\n",
      "target = {k:v for k, v in target.items() if len(k) > 1}\n",
      "len(target)"
     ],
     "language": "python",
     "metadata": {},
     "outputs": [
      {
       "metadata": {},
       "output_type": "pyout",
       "prompt_number": 22,
       "text": [
        "10"
       ]
      }
     ],
     "prompt_number": 22
    },
    {
     "cell_type": "code",
     "collapsed": false,
     "input": [
      "dataset = [\n",
      "\t['B', 'D', 'A', 'E'],\n",
      "\t['B', 'D', 'A', 'E', 'C'],\n",
      "\t['B', 'A', 'E', 'C'],\n",
      "\t['B', 'D', 'A'],\n",
      "\t['D'],\n",
      "\t['B', 'D'],\n",
      "\t['D', 'A', 'E'],\n",
      "\t['B', 'C']\n",
      "]"
     ],
     "language": "python",
     "metadata": {},
     "outputs": [],
     "prompt_number": 23
    },
    {
     "cell_type": "code",
     "collapsed": false,
     "input": [
      "import csv as CSV"
     ],
     "language": "python",
     "metadata": {},
     "outputs": [],
     "prompt_number": 24
    },
    {
     "cell_type": "code",
     "collapsed": false,
     "input": [
      "data_dir = os.path.join(ddir, \"data\")\n",
      "df = os.path.join(data_dir, \"sm_test1.csv\")\n",
      "with open(df, 'w', encoding='utf-8') as fh:\n",
      "    writer = CSV.writer(fh, delimiter=' ', quotechar='|', quoting=CSV.QUOTE_MINIMAL)\n",
      "    writer.writerows(dataset)"
     ],
     "language": "python",
     "metadata": {},
     "outputs": [],
     "prompt_number": 25
    },
    {
     "cell_type": "code",
     "collapsed": false,
     "input": [
      "with open(df, 'r', encoding='utf-8') as fh:\n",
      "    reader = CSV.reader(fh)\n",
      "    dataset = [line for line in reader]\n",
      "\n",
      "dataset"
     ],
     "language": "python",
     "metadata": {},
     "outputs": [
      {
       "metadata": {},
       "output_type": "pyout",
       "prompt_number": 35,
       "text": [
        "[['B D A E'],\n",
        " ['B D A E C'],\n",
        " ['B A E C'],\n",
        " ['B D A'],\n",
        " ['D'],\n",
        " ['B D'],\n",
        " ['D A E'],\n",
        " ['B C']]"
       ]
      }
     ],
     "prompt_number": 35
    },
    {
     "cell_type": "code",
     "collapsed": false,
     "input": [
      "def load_data(dfile=None, max_transactions=250):\n",
      "\timport random as RND\n",
      "\tif dfile and dfile.endswith('.csv'):\n",
      "\t\twith open(dfile, 'r', encoding='utf-8') as fh:\n",
      " \t\t\treader = CSV.reader(fh)\n",
      " \t\t\treturn [line for line in reader]\n",
      "\n",
      "\telif dfile and not dfile.endswith('.csv'):\n",
      "\t\twith open(dfile, \"r\", encoding=\"utf-8\") as fh:\n",
      "\t\t\tdata = [ line.strip().split(' ') for line in fh.readlines()\n",
      "\t\t\t\tif not line.startswith('#') ]\n",
      "\t\t\tRND.shuffle(data)\n",
      "\t\t\tdata = data[:max_transactions]\n",
      "\telse:\n",
      "\t\timport string\n",
      "\t\timport random as RND\n",
      "\t\tp = list(string.ascii_uppercase[:20])\n",
      "\t\tfnx = lambda: RND.randint(2, 10)\n",
      "\t\tdata = [ RND.sample(p, fnx()) for c in range(100000) ]\n",
      "\t\tRND.shuffle(data)\n",
      "\t\tif max_transactions & max_transactions < len(data):\n",
      "\t\t\treturn data[:max_transactions]\n",
      "\t\telse:\n",
      "\t\t\treturn data"
     ],
     "language": "python",
     "metadata": {},
     "outputs": [],
     "prompt_number": 39
    },
    {
     "cell_type": "code",
     "collapsed": false,
     "input": [
      "data = load_data(df)"
     ],
     "language": "python",
     "metadata": {},
     "outputs": [],
     "prompt_number": 40
    },
    {
     "cell_type": "code",
     "collapsed": false,
     "input": [
      "data"
     ],
     "language": "python",
     "metadata": {},
     "outputs": [],
     "prompt_number": 41
    },
    {
     "cell_type": "code",
     "collapsed": false,
     "input": [
      "%run fp_growth"
     ],
     "language": "python",
     "metadata": {},
     "outputs": [
      {
       "ename": "TypeError",
       "evalue": "object of type 'NoneType' has no len()",
       "output_type": "pyerr",
       "traceback": [
        "\u001b[0;31m---------------------------------------------------------------------------\u001b[0m\n\u001b[0;31mTypeError\u001b[0m                                 Traceback (most recent call last)",
        "\u001b[0;32m/usr/local/Frameworks/Python.framework/Versions/3.3/lib/python3.3/site-packages/IPython/utils/py3compat.py\u001b[0m in \u001b[0;36mexecfile\u001b[0;34m(fname, glob, loc)\u001b[0m\n\u001b[1;32m     98\u001b[0m         \u001b[0mloc\u001b[0m \u001b[0;34m=\u001b[0m \u001b[0mloc\u001b[0m \u001b[0;32mif\u001b[0m \u001b[0;34m(\u001b[0m\u001b[0mloc\u001b[0m \u001b[0;32mis\u001b[0m \u001b[0;32mnot\u001b[0m \u001b[0;32mNone\u001b[0m\u001b[0;34m)\u001b[0m \u001b[0;32melse\u001b[0m \u001b[0mglob\u001b[0m\u001b[0;34m\u001b[0m\u001b[0m\n\u001b[1;32m     99\u001b[0m         \u001b[0;32mwith\u001b[0m \u001b[0mopen\u001b[0m\u001b[0;34m(\u001b[0m\u001b[0mfname\u001b[0m\u001b[0;34m,\u001b[0m \u001b[0;34m'rb'\u001b[0m\u001b[0;34m)\u001b[0m \u001b[0;32mas\u001b[0m \u001b[0mf\u001b[0m\u001b[0;34m:\u001b[0m\u001b[0;34m\u001b[0m\u001b[0m\n\u001b[0;32m--> 100\u001b[0;31m             \u001b[0mexec\u001b[0m\u001b[0;34m(\u001b[0m\u001b[0mcompile\u001b[0m\u001b[0;34m(\u001b[0m\u001b[0mf\u001b[0m\u001b[0;34m.\u001b[0m\u001b[0mread\u001b[0m\u001b[0;34m(\u001b[0m\u001b[0;34m)\u001b[0m\u001b[0;34m,\u001b[0m \u001b[0mfname\u001b[0m\u001b[0;34m,\u001b[0m \u001b[0;34m'exec'\u001b[0m\u001b[0;34m)\u001b[0m\u001b[0;34m,\u001b[0m \u001b[0mglob\u001b[0m\u001b[0;34m,\u001b[0m \u001b[0mloc\u001b[0m\u001b[0;34m)\u001b[0m\u001b[0;34m\u001b[0m\u001b[0m\n\u001b[0m\u001b[1;32m    101\u001b[0m \u001b[0;34m\u001b[0m\u001b[0m\n\u001b[1;32m    102\u001b[0m     \u001b[0;31m# Refactor print statements in doctests.\u001b[0m\u001b[0;34m\u001b[0m\u001b[0;34m\u001b[0m\u001b[0m\n",
        "\u001b[0;32m/Users/dougybarbo/Projects/fp-growth-for-frequent-itemsets/fp_growth.py\u001b[0m in \u001b[0;36m<module>\u001b[0;34m()\u001b[0m\n\u001b[1;32m     56\u001b[0m \u001b[0mMIN_ITEMSET_LENGTH\u001b[0m \u001b[0;34m=\u001b[0m \u001b[0mconfigs\u001b[0m\u001b[0;34m[\u001b[0m\u001b[0;34m'min_itemset_length'\u001b[0m\u001b[0;34m]\u001b[0m\u001b[0;34m\u001b[0m\u001b[0m\n\u001b[1;32m     57\u001b[0m \u001b[0mdataset\u001b[0m \u001b[0;34m=\u001b[0m \u001b[0mload_data\u001b[0m\u001b[0;34m(\u001b[0m\u001b[0mconfigs\u001b[0m\u001b[0;34m[\u001b[0m\u001b[0;34m'data_file'\u001b[0m\u001b[0;34m]\u001b[0m\u001b[0;34m)\u001b[0m\u001b[0;34m\u001b[0m\u001b[0m\n\u001b[0;32m---> 58\u001b[0;31m \u001b[0mTRANS_COUNT\u001b[0m \u001b[0;34m=\u001b[0m \u001b[0mlen\u001b[0m\u001b[0;34m(\u001b[0m\u001b[0mdataset\u001b[0m\u001b[0;34m)\u001b[0m\u001b[0;34m\u001b[0m\u001b[0m\n\u001b[0m\u001b[1;32m     59\u001b[0m \u001b[0;34m\u001b[0m\u001b[0m\n\u001b[1;32m     60\u001b[0m \u001b[0;34m\u001b[0m\u001b[0m\n",
        "\u001b[0;31mTypeError\u001b[0m: object of type 'NoneType' has no len()"
       ]
      }
     ],
     "prompt_number": 37
    },
    {
     "cell_type": "code",
     "collapsed": false,
     "input": [
      "len(FIS)"
     ],
     "language": "python",
     "metadata": {},
     "outputs": [
      {
       "metadata": {},
       "output_type": "pyout",
       "prompt_number": 5,
       "text": [
        "10"
       ]
      }
     ],
     "prompt_number": 5
    },
    {
     "cell_type": "code",
     "collapsed": false,
     "input": [
      "fis, fis_cnt = create_fis_containers(FIS)\n",
      "fis_cnt"
     ],
     "language": "python",
     "metadata": {},
     "outputs": [
      {
       "metadata": {},
       "output_type": "pyout",
       "prompt_number": 6,
       "text": [
        "{'ABE': 3,\n",
        " 'ADE': 3,\n",
        " 'AE': 4,\n",
        " 'BA': 4,\n",
        " 'BC': 3,\n",
        " 'BD': 4,\n",
        " 'BDA': 3,\n",
        " 'BE': 3,\n",
        " 'DA': 4,\n",
        " 'DE': 3}"
       ]
      }
     ],
     "prompt_number": 6
    },
    {
     "cell_type": "code",
     "collapsed": false,
     "input": [
      "target"
     ],
     "language": "python",
     "metadata": {},
     "outputs": [
      {
       "metadata": {},
       "output_type": "pyout",
       "prompt_number": 8,
       "text": [
        "{'AB': 4,\n",
        " 'ABD': 3,\n",
        " 'ABE': 3,\n",
        " 'AD': 4,\n",
        " 'ADE': 3,\n",
        " 'AE': 4,\n",
        " 'BC': 3,\n",
        " 'BD': 4,\n",
        " 'BE': 3,\n",
        " 'DE': 3}"
       ]
      }
     ],
     "prompt_number": 8
    },
    {
     "cell_type": "code",
     "collapsed": false,
     "input": [
      "print(sum(target.values()))\n",
      "print(sum(fis_cnt.values()))"
     ],
     "language": "python",
     "metadata": {},
     "outputs": [
      {
       "output_type": "stream",
       "stream": "stdout",
       "text": [
        "34\n",
        "34\n"
       ]
      }
     ],
     "prompt_number": 9
    },
    {
     "cell_type": "code",
     "collapsed": false,
     "input": [
      "fis_cnt.keys() - target.keys()"
     ],
     "language": "python",
     "metadata": {},
     "outputs": [
      {
       "metadata": {},
       "output_type": "pyout",
       "prompt_number": 10,
       "text": [
        "{'BA', 'BDA', 'DA'}"
       ]
      }
     ],
     "prompt_number": 10
    },
    {
     "cell_type": "code",
     "collapsed": false,
     "input": [
      "target.keys() - fis_cnt.keys()"
     ],
     "language": "python",
     "metadata": {},
     "outputs": [
      {
       "metadata": {},
       "output_type": "pyout",
       "prompt_number": 11,
       "text": [
        "{'AB', 'ABD', 'AD'}"
       ]
      }
     ],
     "prompt_number": 11
    },
    {
     "cell_type": "code",
     "collapsed": false,
     "input": [
      "del target['AB']\n",
      "del target['ABD']\n",
      "del target['AD']"
     ],
     "language": "python",
     "metadata": {},
     "outputs": [],
     "prompt_number": 12
    },
    {
     "cell_type": "code",
     "collapsed": false,
     "input": [
      "target['BA'] = 4\n",
      "target['BDA'] = 3\n",
      "target['DA'] = 4"
     ],
     "language": "python",
     "metadata": {},
     "outputs": [],
     "prompt_number": 13
    },
    {
     "cell_type": "code",
     "collapsed": false,
     "input": [
      "target.keys() - fis_cnt.keys()"
     ],
     "language": "python",
     "metadata": {},
     "outputs": [
      {
       "metadata": {},
       "output_type": "pyout",
       "prompt_number": 14,
       "text": [
        "set()"
       ]
      }
     ],
     "prompt_number": 14
    },
    {
     "cell_type": "code",
     "collapsed": false,
     "input": [
      "df = \"/Users/dougybarbo/Projects/fp-growth-for-frequent-itemsets/data/sm_test1.csv\"\n",
      "os.path.exists(df)"
     ],
     "language": "python",
     "metadata": {},
     "outputs": [
      {
       "metadata": {},
       "output_type": "pyout",
       "prompt_number": 30,
       "text": [
        "True"
       ]
      }
     ],
     "prompt_number": 30
    },
    {
     "cell_type": "code",
     "collapsed": false,
     "input": [
      "if df.endswith('.csv'):\n",
      "    print('ok!')"
     ],
     "language": "python",
     "metadata": {},
     "outputs": [
      {
       "output_type": "stream",
       "stream": "stdout",
       "text": [
        "ok!\n"
       ]
      }
     ],
     "prompt_number": 33
    },
    {
     "cell_type": "code",
     "collapsed": false,
     "input": [
      "def get_configs(config_fname):\n",
      "\tconfig_file = os.path.expanduser(config_fname)\n",
      "\twith open(config_file, 'r', encoding='utf-8') as fh:\n",
      "\t\treturn JSON.load(fh)"
     ],
     "language": "python",
     "metadata": {},
     "outputs": [],
     "prompt_number": 2
    },
    {
     "cell_type": "code",
     "collapsed": false,
     "input": [
      "def load_data(dfile=None, max_transactions=250):\n",
      "\timport random as RND\n",
      "\tif dfile:\n",
      "\t\twith open(dfile, \"r\", encoding=\"utf-8\") as fh:\n",
      "\t\t\tdata = [ line.strip().split(' ') for line in fh.readlines()\n",
      "\t\t\t\tif not line.startswith('#') ]\n",
      "\t\t\tRND.shuffle(data)\n",
      "\t\t\tdata = data[:max_transactions]\n",
      "\telse:\n",
      "\t\timport string\n",
      "\t\timport random as RND\n",
      "\t\tp = list(string.ascii_uppercase[:20])\n",
      "\t\tfnx = lambda: RND.randint(2, 10)\n",
      "\t\tdata = [ RND.sample(p, fnx()) for c in range(100000) ]\n",
      "\t\tRND.shuffle(data)\n",
      "\t\tif max_transactions & max_transactions < len(data):\n",
      "\t\t\treturn data[:max_transactions]\n",
      "\t\telse:\n",
      "\t\t\treturn data"
     ],
     "language": "python",
     "metadata": {},
     "outputs": [],
     "prompt_number": 3
    },
    {
     "cell_type": "code",
     "collapsed": false,
     "input": [
      "import fptree_build as FPT"
     ],
     "language": "python",
     "metadata": {},
     "outputs": [],
     "prompt_number": 6
    },
    {
     "cell_type": "code",
     "collapsed": false,
     "input": [
      "configs_filename = \"~/Projects/fp-growth-for-frequent-itemsets/config.json\"\n",
      "configs = get_configs(configs_filename)\n",
      "MIN_SPT = configs['min_support']\n",
      "MIN_ITEMSET_LENGTH = configs['min_itemset_length']\n",
      "dataset = load_data()\n",
      "TRANS_COUNT = len(dataset)\n",
      "SORT_KEY=FPT.get_sort_key(dataset)"
     ],
     "language": "python",
     "metadata": {},
     "outputs": [],
     "prompt_number": 7
    },
    {
     "cell_type": "code",
     "collapsed": false,
     "input": [],
     "language": "python",
     "metadata": {},
     "outputs": [],
     "prompt_number": 7
    },
    {
     "cell_type": "code",
     "collapsed": false,
     "input": [
      "item_count = FPT.item_counter(dataset)"
     ],
     "language": "python",
     "metadata": {},
     "outputs": [],
     "prompt_number": 9
    },
    {
     "cell_type": "code",
     "collapsed": false,
     "input": [
      "excluded_items = FPT.get_items_below_min_spt(dataset, MIN_SPT, TRANS_COUNT)"
     ],
     "language": "python",
     "metadata": {},
     "outputs": [],
     "prompt_number": 10
    },
    {
     "cell_type": "code",
     "collapsed": false,
     "input": [],
     "language": "python",
     "metadata": {},
     "outputs": [],
     "prompt_number": 10
    },
    {
     "cell_type": "code",
     "collapsed": false,
     "input": [
      "dataset, item_count = FPT.filter_by_min_spt(dataset, item_count, MIN_SPT, TRANS_COUNT)"
     ],
     "language": "python",
     "metadata": {},
     "outputs": [],
     "prompt_number": 12
    },
    {
     "cell_type": "code",
     "collapsed": false,
     "input": [],
     "language": "python",
     "metadata": {},
     "outputs": []
    },
    {
     "cell_type": "code",
     "collapsed": false,
     "input": [],
     "language": "python",
     "metadata": {},
     "outputs": []
    },
    {
     "cell_type": "code",
     "collapsed": false,
     "input": [],
     "language": "python",
     "metadata": {},
     "outputs": []
    },
    {
     "cell_type": "code",
     "collapsed": false,
     "input": [
      "def item_counter(dataset):\n",
      "    trans_flat = [item for trans in dataset for item in trans]\n",
      "    ic = CL.defaultdict(int)\n",
      "    for item in trans_flat:\n",
      "        ic[item] += 1\n",
      "    return ic"
     ],
     "language": "python",
     "metadata": {},
     "outputs": [],
     "prompt_number": 6
    },
    {
     "cell_type": "code",
     "collapsed": false,
     "input": [
      "MIN_SPT = 0.35\n",
      "ic = item_counter(dataset)\n",
      "ic = {k:v for k, v in ic.items() if (v/TRANS_COUNT) < MIN_SPT}"
     ],
     "language": "python",
     "metadata": {},
     "outputs": [],
     "prompt_number": 12
    },
    {
     "cell_type": "code",
     "collapsed": false,
     "input": [
      "ic = item_counter(dataset)\n",
      "for k, v in ic.items():\n",
      "    w = v/TRANS_COUNT\n",
      "    if w < MIN_SPT:\n",
      "        print(w)"
     ],
     "language": "python",
     "metadata": {},
     "outputs": [
      {
       "output_type": "stream",
       "stream": "stdout",
       "text": [
        "0.328\n",
        "0.252\n",
        "0.308\n",
        "0.316\n",
        "0.332\n",
        "0.34\n",
        "0.284\n",
        "0.304\n",
        "0.328\n",
        "0.256\n",
        "0.232\n",
        "0.308\n",
        "0.308\n",
        "0.296\n",
        "0.3\n",
        "0.272\n",
        "0.34\n",
        "0.288\n"
       ]
      }
     ],
     "prompt_number": 13
    },
    {
     "cell_type": "code",
     "collapsed": false,
     "input": [
      "%run fp_growth"
     ],
     "language": "python",
     "metadata": {},
     "outputs": [
      {
       "ename": "TypeError",
       "evalue": "unsupported operand type(s) for /: 'int' and 'dict'",
       "output_type": "pyerr",
       "traceback": [
        "\u001b[0;31m---------------------------------------------------------------------------\u001b[0m\n\u001b[0;31mTypeError\u001b[0m                                 Traceback (most recent call last)",
        "\u001b[0;32m/usr/local/Frameworks/Python.framework/Versions/3.3/lib/python3.3/site-packages/IPython/utils/py3compat.py\u001b[0m in \u001b[0;36mexecfile\u001b[0;34m(fname, glob, loc)\u001b[0m\n\u001b[1;32m     98\u001b[0m         \u001b[0mloc\u001b[0m \u001b[0;34m=\u001b[0m \u001b[0mloc\u001b[0m \u001b[0;32mif\u001b[0m \u001b[0;34m(\u001b[0m\u001b[0mloc\u001b[0m \u001b[0;32mis\u001b[0m \u001b[0;32mnot\u001b[0m \u001b[0;32mNone\u001b[0m\u001b[0;34m)\u001b[0m \u001b[0;32melse\u001b[0m \u001b[0mglob\u001b[0m\u001b[0;34m\u001b[0m\u001b[0m\n\u001b[1;32m     99\u001b[0m         \u001b[0;32mwith\u001b[0m \u001b[0mopen\u001b[0m\u001b[0;34m(\u001b[0m\u001b[0mfname\u001b[0m\u001b[0;34m,\u001b[0m \u001b[0;34m'rb'\u001b[0m\u001b[0;34m)\u001b[0m \u001b[0;32mas\u001b[0m \u001b[0mf\u001b[0m\u001b[0;34m:\u001b[0m\u001b[0;34m\u001b[0m\u001b[0m\n\u001b[0;32m--> 100\u001b[0;31m             \u001b[0mexec\u001b[0m\u001b[0;34m(\u001b[0m\u001b[0mcompile\u001b[0m\u001b[0;34m(\u001b[0m\u001b[0mf\u001b[0m\u001b[0;34m.\u001b[0m\u001b[0mread\u001b[0m\u001b[0;34m(\u001b[0m\u001b[0;34m)\u001b[0m\u001b[0;34m,\u001b[0m \u001b[0mfname\u001b[0m\u001b[0;34m,\u001b[0m \u001b[0;34m'exec'\u001b[0m\u001b[0;34m)\u001b[0m\u001b[0;34m,\u001b[0m \u001b[0mglob\u001b[0m\u001b[0;34m,\u001b[0m \u001b[0mloc\u001b[0m\u001b[0;34m)\u001b[0m\u001b[0;34m\u001b[0m\u001b[0m\n\u001b[0m\u001b[1;32m    101\u001b[0m \u001b[0;34m\u001b[0m\u001b[0m\n\u001b[1;32m    102\u001b[0m     \u001b[0;31m# Refactor print statements in doctests.\u001b[0m\u001b[0;34m\u001b[0m\u001b[0;34m\u001b[0m\u001b[0m\n",
        "\u001b[0;32m/Users/dougybarbo/Projects/fp-growth-for-frequent-itemsets/fp_growth.py\u001b[0m in \u001b[0;36m<module>\u001b[0;34m()\u001b[0m\n\u001b[1;32m     48\u001b[0m \u001b[0;34m\u001b[0m\u001b[0m\n\u001b[1;32m     49\u001b[0m fptree, htab = FPT.build_fptree(dataset=dataset, trans_count=TRANS_COUNT,\n\u001b[0;32m---> 50\u001b[0;31m \tmin_spt=MIN_SPT, sort_key=SORT_KEY, root_node_name='root')\n\u001b[0m\u001b[1;32m     51\u001b[0m \u001b[0;34m\u001b[0m\u001b[0m\n\u001b[1;32m     52\u001b[0m \u001b[0mFIS\u001b[0m \u001b[0;34m=\u001b[0m \u001b[0;34m[\u001b[0m\u001b[0;34m]\u001b[0m\u001b[0;34m\u001b[0m\u001b[0m\n",
        "\u001b[0;32m/Users/dougybarbo/Projects/fp-growth-for-frequent-itemsets/fptree_build.py\u001b[0m in \u001b[0;36mbuild_fptree\u001b[0;34m(dataset, trans_count, min_spt, sort_key, root_node_name)\u001b[0m\n\u001b[1;32m    226\u001b[0m         \u001b[0mroot\u001b[0m \u001b[0;34m=\u001b[0m \u001b[0mfptree\u001b[0m\u001b[0;34m\u001b[0m\u001b[0m\n\u001b[1;32m    227\u001b[0m \theader_table, dataset = config_fptree_builder(dataset, trans_count,\n\u001b[0;32m--> 228\u001b[0;31m \t\tsort_key, min_spt)\n\u001b[0m\u001b[1;32m    229\u001b[0m         \u001b[0;32mfor\u001b[0m \u001b[0mtrans\u001b[0m \u001b[0;32min\u001b[0m \u001b[0mdataset\u001b[0m\u001b[0;34m:\u001b[0m\u001b[0;34m\u001b[0m\u001b[0m\n\u001b[1;32m    230\u001b[0m                 \u001b[0madd_nodes\u001b[0m\u001b[0;34m(\u001b[0m\u001b[0mtrans\u001b[0m\u001b[0;34m,\u001b[0m \u001b[0mheader_table\u001b[0m\u001b[0;34m,\u001b[0m \u001b[0mroot\u001b[0m\u001b[0;34m)\u001b[0m\u001b[0;34m\u001b[0m\u001b[0m\n",
        "\u001b[0;32m/Users/dougybarbo/Projects/fp-growth-for-frequent-itemsets/fptree_build.py\u001b[0m in \u001b[0;36mconfig_fptree_builder\u001b[0;34m(dataset, trans_count, min_spt, sort_key)\u001b[0m\n\u001b[1;32m    140\u001b[0m         \u001b[0;32mif\u001b[0m \u001b[0mmin_spt\u001b[0m\u001b[0;34m:\u001b[0m\u001b[0;34m\u001b[0m\u001b[0m\n\u001b[1;32m    141\u001b[0m \t\tdataset, item_count = filter_by_min_spt(dataset, item_count,\n\u001b[0;32m--> 142\u001b[0;31m \t\t\t\t\t\t\t\ttrans_count, min_spt)\n\u001b[0m\u001b[1;32m    143\u001b[0m         \u001b[0msort_key\u001b[0m \u001b[0;34m=\u001b[0m \u001b[0mget_sort_key\u001b[0m\u001b[0;34m(\u001b[0m\u001b[0mdataset\u001b[0m\u001b[0;34m)\u001b[0m\u001b[0;34m\u001b[0m\u001b[0m\n\u001b[1;32m    144\u001b[0m         \u001b[0mdataset_sorted\u001b[0m \u001b[0;34m=\u001b[0m \u001b[0mreorder_items\u001b[0m\u001b[0;34m(\u001b[0m\u001b[0mdataset\u001b[0m\u001b[0;34m,\u001b[0m \u001b[0msort_key\u001b[0m\u001b[0;34m)\u001b[0m\u001b[0;34m\u001b[0m\u001b[0m\n",
        "\u001b[0;32m/Users/dougybarbo/Projects/fp-growth-for-frequent-itemsets/fptree_build.py\u001b[0m in \u001b[0;36mfilter_by_min_spt\u001b[0;34m(dataset, item_count, min_spt, trans_count)\u001b[0m\n\u001b[1;32m     82\u001b[0m         \u001b[0mfiltered_trans\u001b[0m\u001b[0;34m,\u001b[0m \u001b[0mitem_count_dict\u001b[0m \u001b[0;34m=\u001b[0m \u001b[0mfilter_by_min_spt\u001b[0m\u001b[0;34m(\u001b[0m\u001b[0;34m...\u001b[0m\u001b[0;34m)\u001b[0m\u001b[0;34m\u001b[0m\u001b[0m\n\u001b[1;32m     83\u001b[0m \t\"\"\"\n\u001b[0;32m---> 84\u001b[0;31m         \u001b[0mexcluded_items\u001b[0m \u001b[0;34m=\u001b[0m \u001b[0mget_items_below_min_spt\u001b[0m\u001b[0;34m(\u001b[0m\u001b[0mdataset\u001b[0m\u001b[0;34m,\u001b[0m \u001b[0mmin_spt\u001b[0m\u001b[0;34m,\u001b[0m \u001b[0mtrans_count\u001b[0m\u001b[0;34m)\u001b[0m\u001b[0;34m\u001b[0m\u001b[0m\n\u001b[0m\u001b[1;32m     85\u001b[0m         \u001b[0;32mif\u001b[0m \u001b[0;32mnot\u001b[0m \u001b[0mexcluded_items\u001b[0m\u001b[0;34m:\u001b[0m\u001b[0;34m\u001b[0m\u001b[0m\n\u001b[1;32m     86\u001b[0m                 \u001b[0;31m# if all items are above min_spt, ie, there are no items to exclude\u001b[0m\u001b[0;34m\u001b[0m\u001b[0;34m\u001b[0m\u001b[0m\n",
        "\u001b[0;32m/Users/dougybarbo/Projects/fp-growth-for-frequent-itemsets/fptree_build.py\u001b[0m in \u001b[0;36mget_items_below_min_spt\u001b[0;34m(dataset, min_spt, trans_count)\u001b[0m\n\u001b[1;32m     44\u001b[0m     \"\"\"\n\u001b[1;32m     45\u001b[0m     \u001b[0mitem_count\u001b[0m \u001b[0;34m=\u001b[0m \u001b[0mitem_counter\u001b[0m\u001b[0;34m(\u001b[0m\u001b[0mdataset\u001b[0m\u001b[0;34m)\u001b[0m\u001b[0;34m\u001b[0m\u001b[0m\n\u001b[0;32m---> 46\u001b[0;31m     \u001b[0mic\u001b[0m \u001b[0;34m=\u001b[0m \u001b[0;34m{\u001b[0m\u001b[0mk\u001b[0m\u001b[0;34m:\u001b[0m\u001b[0mv\u001b[0m \u001b[0;32mfor\u001b[0m \u001b[0mk\u001b[0m\u001b[0;34m,\u001b[0m \u001b[0mv\u001b[0m \u001b[0;32min\u001b[0m \u001b[0mitem_count\u001b[0m\u001b[0;34m.\u001b[0m\u001b[0mitems\u001b[0m\u001b[0;34m(\u001b[0m\u001b[0;34m)\u001b[0m \u001b[0;32mif\u001b[0m \u001b[0;34m(\u001b[0m\u001b[0mv\u001b[0m\u001b[0;34m/\u001b[0m\u001b[0mtrans_count\u001b[0m\u001b[0;34m)\u001b[0m \u001b[0;34m<\u001b[0m \u001b[0mmin_spt\u001b[0m\u001b[0;34m}\u001b[0m\u001b[0;34m\u001b[0m\u001b[0m\n\u001b[0m\u001b[1;32m     47\u001b[0m     \u001b[0;32mreturn\u001b[0m \u001b[0mlist\u001b[0m\u001b[0;34m(\u001b[0m\u001b[0mic\u001b[0m\u001b[0;34m.\u001b[0m\u001b[0mkeys\u001b[0m\u001b[0;34m(\u001b[0m\u001b[0;34m)\u001b[0m\u001b[0;34m)\u001b[0m\u001b[0;34m\u001b[0m\u001b[0m\n\u001b[1;32m     48\u001b[0m \u001b[0;34m\u001b[0m\u001b[0m\n",
        "\u001b[0;32m/Users/dougybarbo/Projects/fp-growth-for-frequent-itemsets/fptree_build.py\u001b[0m in \u001b[0;36m<dictcomp>\u001b[0;34m(.0)\u001b[0m\n\u001b[1;32m     44\u001b[0m     \"\"\"\n\u001b[1;32m     45\u001b[0m     \u001b[0mitem_count\u001b[0m \u001b[0;34m=\u001b[0m \u001b[0mitem_counter\u001b[0m\u001b[0;34m(\u001b[0m\u001b[0mdataset\u001b[0m\u001b[0;34m)\u001b[0m\u001b[0;34m\u001b[0m\u001b[0m\n\u001b[0;32m---> 46\u001b[0;31m     \u001b[0mic\u001b[0m \u001b[0;34m=\u001b[0m \u001b[0;34m{\u001b[0m\u001b[0mk\u001b[0m\u001b[0;34m:\u001b[0m\u001b[0mv\u001b[0m \u001b[0;32mfor\u001b[0m \u001b[0mk\u001b[0m\u001b[0;34m,\u001b[0m \u001b[0mv\u001b[0m \u001b[0;32min\u001b[0m \u001b[0mitem_count\u001b[0m\u001b[0;34m.\u001b[0m\u001b[0mitems\u001b[0m\u001b[0;34m(\u001b[0m\u001b[0;34m)\u001b[0m \u001b[0;32mif\u001b[0m \u001b[0;34m(\u001b[0m\u001b[0mv\u001b[0m\u001b[0;34m/\u001b[0m\u001b[0mtrans_count\u001b[0m\u001b[0;34m)\u001b[0m \u001b[0;34m<\u001b[0m \u001b[0mmin_spt\u001b[0m\u001b[0;34m}\u001b[0m\u001b[0;34m\u001b[0m\u001b[0m\n\u001b[0m\u001b[1;32m     47\u001b[0m     \u001b[0;32mreturn\u001b[0m \u001b[0mlist\u001b[0m\u001b[0;34m(\u001b[0m\u001b[0mic\u001b[0m\u001b[0;34m.\u001b[0m\u001b[0mkeys\u001b[0m\u001b[0;34m(\u001b[0m\u001b[0;34m)\u001b[0m\u001b[0;34m)\u001b[0m\u001b[0;34m\u001b[0m\u001b[0m\n\u001b[1;32m     48\u001b[0m \u001b[0;34m\u001b[0m\u001b[0m\n",
        "\u001b[0;31mTypeError\u001b[0m: unsupported operand type(s) for /: 'int' and 'dict'"
       ]
      }
     ],
     "prompt_number": 9
    },
    {
     "cell_type": "code",
     "collapsed": false,
     "input": [],
     "language": "python",
     "metadata": {},
     "outputs": []
    },
    {
     "cell_type": "code",
     "collapsed": false,
     "input": [
      "ic.values()"
     ],
     "language": "python",
     "metadata": {},
     "outputs": [
      {
       "metadata": {},
       "output_type": "pyout",
       "prompt_number": 44,
       "text": [
        "dict_values([81, 79, 70, 87, 90, 83, 71, 85, 90, 86, 82, 68, 67, 69, 68, 76, 80, 72, 67, 68])"
       ]
      }
     ],
     "prompt_number": 44
    },
    {
     "cell_type": "code",
     "collapsed": false,
     "input": [
      "def get_items_below_min_spt(dataset, item_count, min_spt, trans_count):\n",
      "    item_count = item_counter(dataset)\n",
      "    ic = {k:v for k, v in item_count.items() if (v/trans_count) < min_spt}\n",
      "    return list(ic.keys())"
     ],
     "language": "python",
     "metadata": {},
     "outputs": [],
     "prompt_number": 45
    },
    {
     "cell_type": "code",
     "collapsed": false,
     "input": [
      "q = get_items_below_min_spt(dataset, item_counter(dataset), MIN_SPT, TRANS_COUNT)"
     ],
     "language": "python",
     "metadata": {},
     "outputs": [],
     "prompt_number": 57
    },
    {
     "cell_type": "code",
     "collapsed": false,
     "input": [
      "q"
     ],
     "language": "python",
     "metadata": {},
     "outputs": [
      {
       "metadata": {},
       "output_type": "pyout",
       "prompt_number": 58,
       "text": [
        "['E',\n",
        " 'D',\n",
        " 'G',\n",
        " 'F',\n",
        " 'A',\n",
        " 'C',\n",
        " 'O',\n",
        " 'N',\n",
        " 'I',\n",
        " 'H',\n",
        " 'J',\n",
        " 'T',\n",
        " 'Q',\n",
        " 'P',\n",
        " 'S',\n",
        " 'R']"
       ]
      }
     ],
     "prompt_number": 58
    },
    {
     "cell_type": "code",
     "collapsed": false,
     "input": [
      "len(ic)"
     ],
     "language": "python",
     "metadata": {},
     "outputs": [
      {
       "metadata": {},
       "output_type": "pyout",
       "prompt_number": 48,
       "text": [
        "20"
       ]
      }
     ],
     "prompt_number": 48
    },
    {
     "cell_type": "code",
     "collapsed": false,
     "input": [
      "%run fp_growth"
     ],
     "language": "python",
     "metadata": {},
     "outputs": [
      {
       "ename": "TypeError",
       "evalue": "unsupported operand type(s) for /: 'int' and 'dict'",
       "output_type": "pyerr",
       "traceback": [
        "\u001b[0;31m---------------------------------------------------------------------------\u001b[0m\n\u001b[0;31mTypeError\u001b[0m                                 Traceback (most recent call last)",
        "\u001b[0;32m/usr/local/Frameworks/Python.framework/Versions/3.3/lib/python3.3/site-packages/IPython/utils/py3compat.py\u001b[0m in \u001b[0;36mexecfile\u001b[0;34m(fname, glob, loc)\u001b[0m\n\u001b[1;32m     98\u001b[0m         \u001b[0mloc\u001b[0m \u001b[0;34m=\u001b[0m \u001b[0mloc\u001b[0m \u001b[0;32mif\u001b[0m \u001b[0;34m(\u001b[0m\u001b[0mloc\u001b[0m \u001b[0;32mis\u001b[0m \u001b[0;32mnot\u001b[0m \u001b[0;32mNone\u001b[0m\u001b[0;34m)\u001b[0m \u001b[0;32melse\u001b[0m \u001b[0mglob\u001b[0m\u001b[0;34m\u001b[0m\u001b[0m\n\u001b[1;32m     99\u001b[0m         \u001b[0;32mwith\u001b[0m \u001b[0mopen\u001b[0m\u001b[0;34m(\u001b[0m\u001b[0mfname\u001b[0m\u001b[0;34m,\u001b[0m \u001b[0;34m'rb'\u001b[0m\u001b[0;34m)\u001b[0m \u001b[0;32mas\u001b[0m \u001b[0mf\u001b[0m\u001b[0;34m:\u001b[0m\u001b[0;34m\u001b[0m\u001b[0m\n\u001b[0;32m--> 100\u001b[0;31m             \u001b[0mexec\u001b[0m\u001b[0;34m(\u001b[0m\u001b[0mcompile\u001b[0m\u001b[0;34m(\u001b[0m\u001b[0mf\u001b[0m\u001b[0;34m.\u001b[0m\u001b[0mread\u001b[0m\u001b[0;34m(\u001b[0m\u001b[0;34m)\u001b[0m\u001b[0;34m,\u001b[0m \u001b[0mfname\u001b[0m\u001b[0;34m,\u001b[0m \u001b[0;34m'exec'\u001b[0m\u001b[0;34m)\u001b[0m\u001b[0;34m,\u001b[0m \u001b[0mglob\u001b[0m\u001b[0;34m,\u001b[0m \u001b[0mloc\u001b[0m\u001b[0;34m)\u001b[0m\u001b[0;34m\u001b[0m\u001b[0m\n\u001b[0m\u001b[1;32m    101\u001b[0m \u001b[0;34m\u001b[0m\u001b[0m\n\u001b[1;32m    102\u001b[0m     \u001b[0;31m# Refactor print statements in doctests.\u001b[0m\u001b[0;34m\u001b[0m\u001b[0;34m\u001b[0m\u001b[0m\n",
        "\u001b[0;32m/Users/dougybarbo/Projects/fp-growth-for-frequent-itemsets/fp_growth.py\u001b[0m in \u001b[0;36m<module>\u001b[0;34m()\u001b[0m\n\u001b[1;32m     51\u001b[0m \u001b[0;34m\u001b[0m\u001b[0m\n\u001b[1;32m     52\u001b[0m fptree, htab = FPT.build_fptree(dataset=dataset, trans_count=TRANS_COUNT,\n\u001b[0;32m---> 53\u001b[0;31m \tmin_spt=MIN_SPT, sort_key=SORT_KEY, root_node_name='root')\n\u001b[0m\u001b[1;32m     54\u001b[0m \u001b[0;34m\u001b[0m\u001b[0m\n\u001b[1;32m     55\u001b[0m \u001b[0mFIS\u001b[0m \u001b[0;34m=\u001b[0m \u001b[0;34m[\u001b[0m\u001b[0;34m]\u001b[0m\u001b[0;34m\u001b[0m\u001b[0m\n",
        "\u001b[0;32m/Users/dougybarbo/Projects/fp-growth-for-frequent-itemsets/fptree_build.py\u001b[0m in \u001b[0;36mbuild_fptree\u001b[0;34m(dataset, trans_count, min_spt, sort_key, root_node_name)\u001b[0m\n\u001b[1;32m    225\u001b[0m         \u001b[0mfptree\u001b[0m \u001b[0;34m=\u001b[0m \u001b[0mTreeNode\u001b[0m\u001b[0;34m(\u001b[0m\u001b[0mroot_node_name\u001b[0m\u001b[0;34m,\u001b[0m \u001b[0;32mNone\u001b[0m\u001b[0;34m)\u001b[0m\u001b[0;34m\u001b[0m\u001b[0m\n\u001b[1;32m    226\u001b[0m         \u001b[0mroot\u001b[0m \u001b[0;34m=\u001b[0m \u001b[0mfptree\u001b[0m\u001b[0;34m\u001b[0m\u001b[0m\n\u001b[0;32m--> 227\u001b[0;31m \theader_table, dataset = config_fptree_builder(dataset, trans_count,\n\u001b[0m\u001b[1;32m    228\u001b[0m \t\tsort_key, min_spt)\n\u001b[1;32m    229\u001b[0m         \u001b[0;32mfor\u001b[0m \u001b[0mtrans\u001b[0m \u001b[0;32min\u001b[0m \u001b[0mdataset\u001b[0m\u001b[0;34m:\u001b[0m\u001b[0;34m\u001b[0m\u001b[0m\n",
        "\u001b[0;32m/Users/dougybarbo/Projects/fp-growth-for-frequent-itemsets/fptree_build.py\u001b[0m in \u001b[0;36mconfig_fptree_builder\u001b[0;34m(dataset, trans_count, min_spt, sort_key)\u001b[0m\n\u001b[1;32m    139\u001b[0m         \u001b[0mitem_count\u001b[0m \u001b[0;34m=\u001b[0m \u001b[0mitem_counter\u001b[0m\u001b[0;34m(\u001b[0m\u001b[0mdataset\u001b[0m\u001b[0;34m)\u001b[0m\u001b[0;34m\u001b[0m\u001b[0m\n\u001b[1;32m    140\u001b[0m         \u001b[0;32mif\u001b[0m \u001b[0mmin_spt\u001b[0m\u001b[0;34m:\u001b[0m\u001b[0;34m\u001b[0m\u001b[0m\n\u001b[0;32m--> 141\u001b[0;31m \t\tdataset, item_count = filter_by_min_spt(dataset, item_count,\n\u001b[0m\u001b[1;32m    142\u001b[0m \t\t\t\t\t\t\t\ttrans_count, min_spt)\n\u001b[1;32m    143\u001b[0m         \u001b[0msort_key\u001b[0m \u001b[0;34m=\u001b[0m \u001b[0mget_sort_key\u001b[0m\u001b[0;34m(\u001b[0m\u001b[0mdataset\u001b[0m\u001b[0;34m)\u001b[0m\u001b[0;34m\u001b[0m\u001b[0m\n",
        "\u001b[0;32m/Users/dougybarbo/Projects/fp-growth-for-frequent-itemsets/fptree_build.py\u001b[0m in \u001b[0;36mfilter_by_min_spt\u001b[0;34m(dataset, item_count, min_spt, trans_count)\u001b[0m\n\u001b[1;32m     81\u001b[0m         \u001b[0mfiltered_trans\u001b[0m\u001b[0;34m,\u001b[0m \u001b[0mitem_count_dict\u001b[0m \u001b[0;34m=\u001b[0m \u001b[0mfilter_by_min_spt\u001b[0m\u001b[0;34m(\u001b[0m\u001b[0;34m...\u001b[0m\u001b[0;34m)\u001b[0m\u001b[0;34m\u001b[0m\u001b[0m\n\u001b[1;32m     82\u001b[0m \t\"\"\"\n\u001b[0;32m---> 83\u001b[0;31m \texcluded_items = get_items_below_min_spt(dataset, item_count,\n\u001b[0m\u001b[1;32m     84\u001b[0m \t\tmin_spt, trans_count)\n\u001b[1;32m     85\u001b[0m         \u001b[0;32mif\u001b[0m \u001b[0;32mnot\u001b[0m \u001b[0mexcluded_items\u001b[0m\u001b[0;34m:\u001b[0m\u001b[0;34m\u001b[0m\u001b[0m\n",
        "\u001b[0;32m/Users/dougybarbo/Projects/fp-growth-for-frequent-itemsets/fptree_build.py\u001b[0m in \u001b[0;36mget_items_below_min_spt\u001b[0;34m(dataset, item_count, min_spt, trans_count)\u001b[0m\n\u001b[1;32m     43\u001b[0m                 \u001b[0mcalls\u001b[0m \u001b[0;34m'item_counter'\u001b[0m\u001b[0;34m\u001b[0m\u001b[0m\n\u001b[1;32m     44\u001b[0m     \"\"\"\n\u001b[0;32m---> 45\u001b[0;31m     \u001b[0mitem_count\u001b[0m \u001b[0;34m=\u001b[0m \u001b[0mitem_counter\u001b[0m\u001b[0;34m(\u001b[0m\u001b[0mdataset\u001b[0m\u001b[0;34m)\u001b[0m\u001b[0;34m\u001b[0m\u001b[0m\n\u001b[0m\u001b[1;32m     46\u001b[0m     \u001b[0mic\u001b[0m \u001b[0;34m=\u001b[0m \u001b[0;34m{\u001b[0m\u001b[0mk\u001b[0m\u001b[0;34m:\u001b[0m\u001b[0mv\u001b[0m \u001b[0;32mfor\u001b[0m \u001b[0mk\u001b[0m\u001b[0;34m,\u001b[0m \u001b[0mv\u001b[0m \u001b[0;32min\u001b[0m \u001b[0mitem_count\u001b[0m\u001b[0;34m.\u001b[0m\u001b[0mitems\u001b[0m\u001b[0;34m(\u001b[0m\u001b[0;34m)\u001b[0m \u001b[0;32mif\u001b[0m \u001b[0;34m(\u001b[0m\u001b[0mv\u001b[0m\u001b[0;34m/\u001b[0m\u001b[0mtrans_count\u001b[0m\u001b[0;34m)\u001b[0m \u001b[0;34m<\u001b[0m \u001b[0mmin_spt\u001b[0m\u001b[0;34m}\u001b[0m\u001b[0;34m\u001b[0m\u001b[0m\n\u001b[1;32m     47\u001b[0m     \u001b[0;32mreturn\u001b[0m \u001b[0mlist\u001b[0m\u001b[0;34m(\u001b[0m\u001b[0mic\u001b[0m\u001b[0;34m.\u001b[0m\u001b[0mkeys\u001b[0m\u001b[0;34m(\u001b[0m\u001b[0;34m)\u001b[0m\u001b[0;34m)\u001b[0m\u001b[0;34m\u001b[0m\u001b[0m\n",
        "\u001b[0;32m/Users/dougybarbo/Projects/fp-growth-for-frequent-itemsets/fptree_build.py\u001b[0m in \u001b[0;36m<dictcomp>\u001b[0;34m(.0)\u001b[0m\n\u001b[1;32m     43\u001b[0m                 \u001b[0mcalls\u001b[0m \u001b[0;34m'item_counter'\u001b[0m\u001b[0;34m\u001b[0m\u001b[0m\n\u001b[1;32m     44\u001b[0m     \"\"\"\n\u001b[0;32m---> 45\u001b[0;31m     \u001b[0mitem_count\u001b[0m \u001b[0;34m=\u001b[0m \u001b[0mitem_counter\u001b[0m\u001b[0;34m(\u001b[0m\u001b[0mdataset\u001b[0m\u001b[0;34m)\u001b[0m\u001b[0;34m\u001b[0m\u001b[0m\n\u001b[0m\u001b[1;32m     46\u001b[0m     \u001b[0mic\u001b[0m \u001b[0;34m=\u001b[0m \u001b[0;34m{\u001b[0m\u001b[0mk\u001b[0m\u001b[0;34m:\u001b[0m\u001b[0mv\u001b[0m \u001b[0;32mfor\u001b[0m \u001b[0mk\u001b[0m\u001b[0;34m,\u001b[0m \u001b[0mv\u001b[0m \u001b[0;32min\u001b[0m \u001b[0mitem_count\u001b[0m\u001b[0;34m.\u001b[0m\u001b[0mitems\u001b[0m\u001b[0;34m(\u001b[0m\u001b[0;34m)\u001b[0m \u001b[0;32mif\u001b[0m \u001b[0;34m(\u001b[0m\u001b[0mv\u001b[0m\u001b[0;34m/\u001b[0m\u001b[0mtrans_count\u001b[0m\u001b[0;34m)\u001b[0m \u001b[0;34m<\u001b[0m \u001b[0mmin_spt\u001b[0m\u001b[0;34m}\u001b[0m\u001b[0;34m\u001b[0m\u001b[0m\n\u001b[1;32m     47\u001b[0m     \u001b[0;32mreturn\u001b[0m \u001b[0mlist\u001b[0m\u001b[0;34m(\u001b[0m\u001b[0mic\u001b[0m\u001b[0;34m.\u001b[0m\u001b[0mkeys\u001b[0m\u001b[0;34m(\u001b[0m\u001b[0;34m)\u001b[0m\u001b[0;34m)\u001b[0m\u001b[0;34m\u001b[0m\u001b[0m\n",
        "\u001b[0;31mTypeError\u001b[0m: unsupported operand type(s) for /: 'int' and 'dict'"
       ]
      }
     ],
     "prompt_number": 49
    },
    {
     "cell_type": "code",
     "collapsed": false,
     "input": [],
     "language": "python",
     "metadata": {},
     "outputs": []
    },
    {
     "cell_type": "code",
     "collapsed": false,
     "input": [],
     "language": "python",
     "metadata": {},
     "outputs": [],
     "prompt_number": 7
    },
    {
     "cell_type": "code",
     "collapsed": false,
     "input": [],
     "language": "python",
     "metadata": {},
     "outputs": []
    },
    {
     "cell_type": "code",
     "collapsed": false,
     "input": [
      "dir(FPG)"
     ],
     "language": "python",
     "metadata": {},
     "outputs": [
      {
       "metadata": {},
       "output_type": "pyout",
       "prompt_number": 8,
       "text": [
        "['FPM',\n",
        " 'FPT',\n",
        " '__builtins__',\n",
        " '__cached__',\n",
        " '__doc__',\n",
        " '__file__',\n",
        " '__initializing__',\n",
        " '__loader__',\n",
        " '__name__',\n",
        " '__package__',\n",
        " 'main']"
       ]
      }
     ],
     "prompt_number": 8
    },
    {
     "cell_type": "code",
     "collapsed": false,
     "input": [
      "dir(FPG)"
     ],
     "language": "python",
     "metadata": {},
     "outputs": [
      {
       "metadata": {},
       "output_type": "pyout",
       "prompt_number": 5,
       "text": [
        "['FPM',\n",
        " 'FPT',\n",
        " '__builtins__',\n",
        " '__cached__',\n",
        " '__doc__',\n",
        " '__file__',\n",
        " '__initializing__',\n",
        " '__loader__',\n",
        " '__name__',\n",
        " '__package__',\n",
        " 'main']"
       ]
      }
     ],
     "prompt_number": 5
    },
    {
     "cell_type": "code",
     "collapsed": false,
     "input": [
      "import sys\n",
      "sys.getsizeof(fptree)"
     ],
     "language": "python",
     "metadata": {},
     "outputs": [
      {
       "metadata": {},
       "output_type": "pyout",
       "prompt_number": 6,
       "text": [
        "64"
       ]
      }
     ],
     "prompt_number": 6
    },
    {
     "cell_type": "code",
     "collapsed": false,
     "input": [
      "import memory_footprint as MF"
     ],
     "language": "python",
     "metadata": {},
     "outputs": [],
     "prompt_number": 7
    },
    {
     "cell_type": "code",
     "collapsed": false,
     "input": [
      "MF.total_size(fptree, verbose=True)"
     ],
     "language": "python",
     "metadata": {},
     "outputs": [
      {
       "output_type": "stream",
       "stream": "stderr",
       "text": [
        "64 <class 'fptree.TreeNode'> <fptree.TreeN...t 0x103f0c810>\n"
       ]
      },
      {
       "metadata": {},
       "output_type": "pyout",
       "prompt_number": 9,
       "text": [
        "64"
       ]
      }
     ],
     "prompt_number": 9
    },
    {
     "cell_type": "code",
     "collapsed": false,
     "input": [
      "print(len(dataset))"
     ],
     "language": "python",
     "metadata": {},
     "outputs": [
      {
       "output_type": "stream",
       "stream": "stdout",
       "text": [
        "100000\n"
       ]
      }
     ],
     "prompt_number": 5
    },
    {
     "cell_type": "code",
     "collapsed": false,
     "input": [
      "%run fptree_mine"
     ],
     "language": "python",
     "metadata": {},
     "outputs": [],
     "prompt_number": 13
    },
    {
     "cell_type": "code",
     "collapsed": false,
     "input": [
      "mine_tree()"
     ],
     "language": "python",
     "metadata": {},
     "outputs": [
      {
       "output_type": "stream",
       "stream": "stdout",
       "text": [
        "path: 3\n",
        "fis: 63: 61\n",
        "path: 11\n",
        "fis: 11: [89, <fptree.TreeNode object at 0x117c31390>]\n",
        "fis: 611: 73\n"
       ]
      }
     ],
     "prompt_number": 14
    },
    {
     "cell_type": "code",
     "collapsed": false,
     "input": [
      "for itm in FIS:\n",
      "    print(FIS)"
     ],
     "language": "python",
     "metadata": {},
     "outputs": [
      {
       "output_type": "stream",
       "stream": "stdout",
       "text": [
        "['14:264', '114:133', '14:65', '13:91', '12:79', '62:55', '42:58', '13:31', '16:68', '46:34', '27:35', '17:42', '47:47', '12:118', '112:33', '15:28', '45:11', '10:60', '110:33']\n",
        "['14:264', '114:133', '14:65', '13:91', '12:79', '62:55', '42:58', '13:31', '16:68', '46:34', '27:35', '17:42', '47:47', '12:118', '112:33', '15:28', '45:11', '10:60', '110:33']\n",
        "['14:264', '114:133', '14:65', '13:91', '12:79', '62:55', '42:58', '13:31', '16:68', '46:34', '27:35', '17:42', '47:47', '12:118', '112:33', '15:28', '45:11', '10:60', '110:33']\n",
        "['14:264', '114:133', '14:65', '13:91', '12:79', '62:55', '42:58', '13:31', '16:68', '46:34', '27:35', '17:42', '47:47', '12:118', '112:33', '15:28', '45:11', '10:60', '110:33']\n",
        "['14:264', '114:133', '14:65', '13:91', '12:79', '62:55', '42:58', '13:31', '16:68', '46:34', '27:35', '17:42', '47:47', '12:118', '112:33', '15:28', '45:11', '10:60', '110:33']\n",
        "['14:264', '114:133', '14:65', '13:91', '12:79', '62:55', '42:58', '13:31', '16:68', '46:34', '27:35', '17:42', '47:47', '12:118', '112:33', '15:28', '45:11', '10:60', '110:33']\n",
        "['14:264', '114:133', '14:65', '13:91', '12:79', '62:55', '42:58', '13:31', '16:68', '46:34', '27:35', '17:42', '47:47', '12:118', '112:33', '15:28', '45:11', '10:60', '110:33']\n",
        "['14:264', '114:133', '14:65', '13:91', '12:79', '62:55', '42:58', '13:31', '16:68', '46:34', '27:35', '17:42', '47:47', '12:118', '112:33', '15:28', '45:11', '10:60', '110:33']\n",
        "['14:264', '114:133', '14:65', '13:91', '12:79', '62:55', '42:58', '13:31', '16:68', '46:34', '27:35', '17:42', '47:47', '12:118', '112:33', '15:28', '45:11', '10:60', '110:33']\n",
        "['14:264', '114:133', '14:65', '13:91', '12:79', '62:55', '42:58', '13:31', '16:68', '46:34', '27:35', '17:42', '47:47', '12:118', '112:33', '15:28', '45:11', '10:60', '110:33']\n",
        "['14:264', '114:133', '14:65', '13:91', '12:79', '62:55', '42:58', '13:31', '16:68', '46:34', '27:35', '17:42', '47:47', '12:118', '112:33', '15:28', '45:11', '10:60', '110:33']\n",
        "['14:264', '114:133', '14:65', '13:91', '12:79', '62:55', '42:58', '13:31', '16:68', '46:34', '27:35', '17:42', '47:47', '12:118', '112:33', '15:28', '45:11', '10:60', '110:33']\n",
        "['14:264', '114:133', '14:65', '13:91', '12:79', '62:55', '42:58', '13:31', '16:68', '46:34', '27:35', '17:42', '47:47', '12:118', '112:33', '15:28', '45:11', '10:60', '110:33']\n",
        "['14:264', '114:133', '14:65', '13:91', '12:79', '62:55', '42:58', '13:31', '16:68', '46:34', '27:35', '17:42', '47:47', '12:118', '112:33', '15:28', '45:11', '10:60', '110:33']\n",
        "['14:264', '114:133', '14:65', '13:91', '12:79', '62:55', '42:58', '13:31', '16:68', '46:34', '27:35', '17:42', '47:47', '12:118', '112:33', '15:28', '45:11', '10:60', '110:33']\n",
        "['14:264', '114:133', '14:65', '13:91', '12:79', '62:55', '42:58', '13:31', '16:68', '46:34', '27:35', '17:42', '47:47', '12:118', '112:33', '15:28', '45:11', '10:60', '110:33']\n",
        "['14:264', '114:133', '14:65', '13:91', '12:79', '62:55', '42:58', '13:31', '16:68', '46:34', '27:35', '17:42', '47:47', '12:118', '112:33', '15:28', '45:11', '10:60', '110:33']\n",
        "['14:264', '114:133', '14:65', '13:91', '12:79', '62:55', '42:58', '13:31', '16:68', '46:34', '27:35', '17:42', '47:47', '12:118', '112:33', '15:28', '45:11', '10:60', '110:33']\n",
        "['14:264', '114:133', '14:65', '13:91', '12:79', '62:55', '42:58', '13:31', '16:68', '46:34', '27:35', '17:42', '47:47', '12:118', '112:33', '15:28', '45:11', '10:60', '110:33']\n"
       ]
      }
     ],
     "prompt_number": 10
    },
    {
     "cell_type": "code",
     "collapsed": false,
     "input": [
      "def create_fis_containers(freq_item_sets=FIS):\n",
      "    fis_all = [itm.strip().split(':') for itm in freq_item_sets]\n",
      "    fis =  [list(t[0]) for t in fis_all]\n",
      "    fis_cnt = {k:v for k, v in fis_all}\n",
      "    return fis, fis_cnt"
     ],
     "language": "python",
     "metadata": {},
     "outputs": [],
     "prompt_number": 15
    },
    {
     "cell_type": "code",
     "collapsed": false,
     "input": [
      "fis, fis_cnt = create_fis_containers(FIS)"
     ],
     "language": "python",
     "metadata": {},
     "outputs": [],
     "prompt_number": 16
    },
    {
     "cell_type": "code",
     "collapsed": false,
     "input": [
      "fis_cnt = sorted(fis_cnt.keys())"
     ],
     "language": "python",
     "metadata": {},
     "outputs": [],
     "prompt_number": 17
    },
    {
     "cell_type": "code",
     "collapsed": false,
     "input": [
      "fis_cnt"
     ],
     "language": "python",
     "metadata": {},
     "outputs": [
      {
       "metadata": {},
       "output_type": "pyout",
       "prompt_number": 19,
       "text": [
        "['11', '611', '63']"
       ]
      }
     ],
     "prompt_number": 19
    },
    {
     "cell_type": "code",
     "collapsed": false,
     "input": [
      "def all_itemsets_that_begin_with(query, fis):\n",
      "    query_str = r'{}'.format(query)\n",
      "    return [ line for line in fis if line.startswith(query_str) ]"
     ],
     "language": "python",
     "metadata": {},
     "outputs": [],
     "prompt_number": 17
    },
    {
     "cell_type": "code",
     "collapsed": false,
     "input": [
      "all_itemsets_that_begin_with('4', fis_cnt)"
     ],
     "language": "python",
     "metadata": {},
     "outputs": [
      {
       "metadata": {},
       "output_type": "pyout",
       "prompt_number": 18,
       "text": [
        "['42', '45', '46', '47']"
       ]
      }
     ],
     "prompt_number": 18
    },
    {
     "cell_type": "code",
     "collapsed": false,
     "input": [],
     "language": "python",
     "metadata": {},
     "outputs": []
    },
    {
     "cell_type": "code",
     "collapsed": false,
     "input": [
      "%run fptree_query"
     ],
     "language": "python",
     "metadata": {},
     "outputs": [
      {
       "output_type": "stream",
       "stream": "stdout",
       "text": [
        "**********************************************************************\n",
        "File \"fptree_query.py\", line 37, in __main__.all_itemsets_that_begin_with\n",
        "Failed example:\n",
        "    all_itemsets_that_begin_with('4', fis_cnt)\n",
        "Expected:\n",
        "    ['42', '45', '46', '47']\n",
        "Got:\n",
        "    []\n",
        "**********************************************************************\n",
        "1 items had failures:\n",
        "   1 of   3 in __main__.all_itemsets_that_begin_with\n",
        "***Test Failed*** 1 failures.\n",
        "path: 14\n",
        "fis: 14: [264, <fptree.TreeNode object at 0x1049f7d90>]\n",
        "fis: 114: 133\n",
        "path: 4\n",
        "fis: 14: 65\n",
        "path: 13\n",
        "fis: 13: [91, <fptree.TreeNode object at 0x1049f7650>]\n",
        "path: 2\n",
        "fis: 12: 79\n",
        "path: 62\n",
        "fis: 62: 55\n",
        "path: 42\n",
        "fis: 42: 94\n",
        "path: 3\n",
        "fis: 13: 31\n",
        "path: 6\n",
        "fis: 16: 68\n",
        "path: 46\n",
        "fis: 46: 59\n",
        "path: 7\n",
        "path: 27\n",
        "fis: 27: 60\n",
        "path: 17\n",
        "fis: 17: 85\n",
        "fis: 47: 47\n",
        "path: 12\n",
        "fis: 12: [118, <fptree.TreeNode object at 0x1049f7210>]\n",
        "fis: 112: 33\n",
        "path: 5\n",
        "fis: 15: 28\n",
        "path: 45\n",
        "fis: 45: 53\n",
        "path: 10\n",
        "fis: 10: [60, <fptree.TreeNode object at 0x1049f1950>]\n",
        "fis: 110: 33\n",
        "path: 8\n",
        "path: 9\n"
       ]
      }
     ],
     "prompt_number": 19
    },
    {
     "cell_type": "code",
     "collapsed": false,
     "input": [],
     "language": "python",
     "metadata": {},
     "outputs": [
      {
       "metadata": {},
       "output_type": "pyout",
       "prompt_number": 43,
       "text": [
        "21"
       ]
      }
     ],
     "prompt_number": 43
    },
    {
     "cell_type": "code",
     "collapsed": false,
     "input": [
      "def all_itemsets_that_begin_with(query, FIS=sorted(fis_cnt.keys())):\n",
      "    query_str = r'{}'.format(query)\n",
      "    return [ line for line in FIS if line.startswith(query_str) ]"
     ],
     "language": "python",
     "metadata": {},
     "outputs": [],
     "prompt_number": 53
    },
    {
     "cell_type": "code",
     "collapsed": false,
     "input": [
      "all_itemsets_that_begin_with('E')"
     ],
     "language": "python",
     "metadata": {},
     "outputs": [
      {
       "metadata": {},
       "output_type": "pyout",
       "prompt_number": 54,
       "text": [
        "['EA', 'EAC', 'EC']"
       ]
      }
     ],
     "prompt_number": 54
    },
    {
     "cell_type": "heading",
     "level": 3,
     "metadata": {},
     "source": [
      "test for accurate mining of the fp-tree"
     ]
    },
    {
     "cell_type": "code",
     "collapsed": false,
     "input": [
      "# target = ['ADE:3', 'ABE:3', 'BC:3', 'BE:3', 'BD:4', 'BA:4', 'BDA:3', 'DA:4', 'DE:3', 'AE:4']\n",
      "# target = set(target)\n",
      "# FIS = set(FIS)\n",
      "\n",
      "# print(FIS - target)\n",
      "# print(target - FIS)"
     ],
     "language": "python",
     "metadata": {},
     "outputs": [],
     "prompt_number": 41
    },
    {
     "cell_type": "code",
     "collapsed": false,
     "input": [
      "import re\n",
      "p = r'^(A.*?)$'\n",
      "po = re.compile(p)\n",
      "\n",
      "s = 'ABE:3'.split(':')[0]\n",
      "m = po.search(s)\n",
      "if m:\n",
      "    print(m.group(1))"
     ],
     "language": "python",
     "metadata": {},
     "outputs": [
      {
       "output_type": "stream",
       "stream": "stdout",
       "text": [
        "ABE\n"
       ]
      }
     ],
     "prompt_number": 42
    },
    {
     "cell_type": "code",
     "collapsed": false,
     "input": [
      "def itemsets_begin_with():\n",
      "    p = r'^(A.*?)$'\n",
      "    po = re.compile(p)\n",
      "    for line in FIS:\n",
      "        m = po.search(line)\n",
      "        if m:\n",
      "            print(m.group(1))\n",
      "            \n",
      "itemsets_begin_with()\n",
      "\n",
      "def itemsets_begin_with(probe):\n",
      "    return [ line for line in FIS if line.startswith(probe) ]\n"
     ],
     "language": "python",
     "metadata": {},
     "outputs": [
      {
       "output_type": "stream",
       "stream": "stdout",
       "text": [
        "AE:488\n"
       ]
      }
     ],
     "prompt_number": 43
    },
    {
     "cell_type": "code",
     "collapsed": false,
     "input": [
      "def itemset_begins_with(probe, fis = FIS):\n",
      "    p = r\" \" + re.escape(probe) + r\"\"\n",
      "    p = r\"{} {} {} \".format(a, b, c)\n",
      "    po = re.compile(p)\n",
      "    po.findall"
     ],
     "language": "python",
     "metadata": {},
     "outputs": [],
     "prompt_number": 44
    },
    {
     "cell_type": "code",
     "collapsed": false,
     "input": [],
     "language": "python",
     "metadata": {},
     "outputs": [],
     "prompt_number": 55
    },
    {
     "cell_type": "code",
     "collapsed": false,
     "input": [],
     "language": "python",
     "metadata": {},
     "outputs": []
    },
    {
     "cell_type": "code",
     "collapsed": false,
     "input": [
      "import re\n",
      "p = r'^([A-Z][^A-Z])$'\n",
      "p = r'^([A-Z]?)(?![A-Z])'\n",
      "po = re.compile(p)\n",
      "\n",
      "fis = [ itm for itm in FIS if not po.search(itm) ]\n",
      "\n",
      "p1 = r'\\d'\n",
      "po1 = re.compile(p1)\n",
      "\n",
      "fis = [ po1.sub('', itm) for itm in fis ]"
     ],
     "language": "python",
     "metadata": {},
     "outputs": [],
     "prompt_number": 45
    },
    {
     "cell_type": "code",
     "collapsed": false,
     "input": [
      "tg = '''C:3, BC:3, DE:3, ADE:3 , BE:3, ABE:3, AE:4, E:4, AD:4, ABD:3, AB:4, A:5, \n",
      "D:6, BD:4, B:6'''.split(', ')\n",
      "\n",
      "tg1 = [ s.strip().split(':') for s in tg ]\n",
      "tg1 = dict([ (lx[0], int(lx[1])) for lx in tg1 ])\n",
      "t = list(tg1.keys())\n",
      "t = [ (itm, len(itm)) for itm in t ]\n",
      "\n",
      "from operator import itemgetter, attrgetter\n",
      "t1 = sorted(t, key=itemgetter(1))\n",
      "t2 = { k:v for k, v in t if len(k) > 1}\n",
      "trg1 = list(t2.keys())\n",
      "trg = t2"
     ],
     "language": "python",
     "metadata": {},
     "outputs": [],
     "prompt_number": 46
    },
    {
     "cell_type": "code",
     "collapsed": false,
     "input": [
      "def sort_seq(seq, sort_key=FPT.SORT_KEY):\n",
      "    fnx = lambda q: sorted(q, key=sort_key.__getitem__)\n",
      "    return fnx(seq)\n",
      "\n",
      "# fis1 = list(fis1)\n",
      "# fis1 = [ ''.join(sort_seq(list(itm))) for itm in fis1 ]\n",
      "# fis1 = set(fis1)\n",
      "\n",
      "# trg1 = [ ''.join(sort_seq(list(itm))) for itm in trg1 ]\n",
      "# trg1 = set(trg1)\n",
      "\n",
      "# the dictionary representation of frequent itemsets for the target: trg"
     ],
     "language": "python",
     "metadata": {},
     "outputs": [],
     "prompt_number": 47
    },
    {
     "cell_type": "code",
     "collapsed": false,
     "input": [
      "\n",
      "# print(\"items in target NOT in result: {}\".format(trg1 - fis1))\n",
      "# print(\"items in result NOT in target: {}\".format(fis1 - trg1))"
     ],
     "language": "python",
     "metadata": {},
     "outputs": [],
     "prompt_number": 48
    },
    {
     "cell_type": "code",
     "collapsed": false,
     "input": [
      "def sort_fis1(adict):\n",
      "    \"\"\"\n",
      "    returns:\n",
      "        the same dict passed in except that the items comprising the key\n",
      "        are ordered according to some sort key\n",
      "    \n",
      "    pass in:\n",
      "        a dict in which keys are frequent itemsets & values are frequency, \n",
      "        eg 'BC':3\n",
      "    \"\"\"\n",
      "    def sort_seq(seq, sort_key=FPT.sort_key):\n",
      "        fnx = lambda q: sorted(q, key=sort_key.__getitem__)\n",
      "        return fnx(seq)\n",
      "    r0 = adict.items()\n",
      "    kx = [t[0] for t in r0]\n",
      "    vx = [t[1] for t in r0]\n",
      "    kx = list(kx)\n",
      "    kx = [ ''.join(sort_seq(list(itm))) for itm in fis1 ]\n",
      "    return dict(zip(kx, vx))\n",
      "\n",
      "\n",
      "def sort_fis(path_str, sort_key=FPT.SORT_KEY):\n",
      "    fnx = lambda q: sorted(q, key=sort_key.__getitem__)\n",
      "    return ''.join(fnx(list(path_str)))\n",
      "\n",
      "\n",
      "# res = sort_fis1(res)\n",
      "# trg = sort_fis1(trg)"
     ],
     "language": "python",
     "metadata": {},
     "outputs": [],
     "prompt_number": 49
    },
    {
     "cell_type": "code",
     "collapsed": false,
     "input": [
      "def sort_fis(path_str, sort_key=FPT.SORT_KEY):\n",
      "    fnx = lambda q: sorted(q, key=sort_key.__getitem__)\n",
      "    return ''.join(fnx(list(path_str)))"
     ],
     "language": "python",
     "metadata": {},
     "outputs": [],
     "prompt_number": 51
    },
    {
     "cell_type": "code",
     "collapsed": false,
     "input": [
      "dfile = \"/Users/dougybarbo/Projects/fp-growth-for-frequent-itemsets/data/twitter-1.csv\""
     ],
     "language": "python",
     "metadata": {},
     "outputs": [],
     "prompt_number": 52
    },
    {
     "cell_type": "code",
     "collapsed": false,
     "input": [
      "with open(dfile, \"r\", encoding=\"utf-8\") as fh:\n",
      "\tpdata = [ map(int, line.strip().split(',')) for line in fh.readlines() ][:100]"
     ],
     "language": "python",
     "metadata": {},
     "outputs": [],
     "prompt_number": 53
    },
    {
     "cell_type": "code",
     "collapsed": false,
     "input": [
      "import string\n",
      "dx = {k:v for v, k in enumerate(string.ascii_letters[:5])}  "
     ],
     "language": "python",
     "metadata": {},
     "outputs": [],
     "prompt_number": 54
    },
    {
     "cell_type": "code",
     "collapsed": false,
     "input": [
      "dx"
     ],
     "language": "python",
     "metadata": {},
     "outputs": [
      {
       "metadata": {},
       "output_type": "pyout",
       "prompt_number": 30,
       "text": [
        "{'a': 0, 'b': 1, 'c': 2, 'd': 3, 'e': 4}"
       ]
      }
     ],
     "prompt_number": 30
    },
    {
     "cell_type": "code",
     "collapsed": false,
     "input": [
      "# fis_all = [ fis.key() for fis in FIS ]\n"
     ],
     "language": "python",
     "metadata": {},
     "outputs": [],
     "prompt_number": 31
    },
    {
     "cell_type": "code",
     "collapsed": false,
     "input": [
      "def create_fis_containers(FIS):\n",
      "    fis_all = [itm.strip().split(':') for itm in FIS]\n",
      "    fis =  [list(t[0]) for t in fis_all]\n",
      "    fis_cnt = {k:v for k, v in fis_all}\n",
      "    return fis, fis_cnt"
     ],
     "language": "python",
     "metadata": {},
     "outputs": [],
     "prompt_number": 55
    },
    {
     "cell_type": "code",
     "collapsed": false,
     "input": [
      "fis, fis_cnt = create_fis_containers(FIS)"
     ],
     "language": "python",
     "metadata": {},
     "outputs": [],
     "prompt_number": 56
    },
    {
     "cell_type": "code",
     "collapsed": false,
     "input": [
      "len(fis)"
     ],
     "language": "python",
     "metadata": {},
     "outputs": [
      {
       "metadata": {},
       "output_type": "pyout",
       "prompt_number": 57,
       "text": [
        "22"
       ]
      }
     ],
     "prompt_number": 57
    },
    {
     "cell_type": "code",
     "collapsed": false,
     "input": [
      "fis_cnt.keys()"
     ],
     "language": "python",
     "metadata": {},
     "outputs": [
      {
       "metadata": {},
       "output_type": "pyout",
       "prompt_number": 59,
       "text": [
        "dict_keys(['BCAE', 'DA', 'BE', 'DAE', 'BCD', 'BDE', 'AE', 'BCE', 'BDA', 'CAE', 'BC', 'CBDA', 'BA', 'CDA', 'CE', 'DCE', 'BD', 'DE', 'CA', 'BAE', 'CD', 'CBA'])"
       ]
      }
     ],
     "prompt_number": 59
    },
    {
     "cell_type": "code",
     "collapsed": false,
     "input": [
      "print(len(fis))\n",
      "fis[0]"
     ],
     "language": "python",
     "metadata": {},
     "outputs": [
      {
       "output_type": "stream",
       "stream": "stdout",
       "text": [
        "22\n"
       ]
      },
      {
       "metadata": {},
       "output_type": "pyout",
       "prompt_number": 60,
       "text": [
        "['B', 'A']"
       ]
      }
     ],
     "prompt_number": 60
    },
    {
     "cell_type": "code",
     "collapsed": false,
     "input": [
      "fis = [set(itm) for itm in fis]"
     ],
     "language": "python",
     "metadata": {},
     "outputs": [],
     "prompt_number": 68
    },
    {
     "cell_type": "code",
     "collapsed": false,
     "input": [
      "F1 = fis_cnt.keys()"
     ],
     "language": "python",
     "metadata": {},
     "outputs": [],
     "prompt_number": 62
    },
    {
     "cell_type": "code",
     "collapsed": false,
     "input": [
      "F1"
     ],
     "language": "python",
     "metadata": {},
     "outputs": [
      {
       "metadata": {},
       "output_type": "pyout",
       "prompt_number": 64,
       "text": [
        "dict_keys(['BCAE', 'DA', 'BE', 'DAE', 'BCD', 'BDE', 'AE', 'BCE', 'BDA', 'CAE', 'BC', 'CBDA', 'BA', 'CDA', 'CE', 'DCE', 'BD', 'DE', 'CA', 'BAE', 'CD', 'CBA'])"
       ]
      }
     ],
     "prompt_number": 64
    },
    {
     "cell_type": "code",
     "collapsed": false,
     "input": [
      "q = list('DA')\n",
      "q = set(q)\n",
      "\n",
      "res = [ itm & q for itm in fis]\n",
      "fis[10] & q"
     ],
     "language": "python",
     "metadata": {},
     "outputs": [
      {
       "metadata": {},
       "output_type": "pyout",
       "prompt_number": 80,
       "text": [
        "{'D'}"
       ]
      }
     ],
     "prompt_number": 80
    },
    {
     "cell_type": "code",
     "collapsed": false,
     "input": [
      "F1 = list(F1)"
     ],
     "language": "python",
     "metadata": {},
     "outputs": [],
     "prompt_number": 81
    },
    {
     "cell_type": "code",
     "collapsed": false,
     "input": [
      "import re\n",
      "\n",
      "q = 'DA'\n",
      "p = r'^({}\\w+)$'.format(re.escape(q))\n",
      "po = re.compile(p)\n",
      "\n",
      "s = 'DABEAC'\n",
      "\n",
      "\n",
      "m = po.search(s)\n",
      "if m:\n",
      "    print(m.group(1))"
     ],
     "language": "python",
     "metadata": {},
     "outputs": [
      {
       "output_type": "stream",
       "stream": "stdout",
       "text": [
        "DABEAC\n"
       ]
      }
     ],
     "prompt_number": 1
    },
    {
     "cell_type": "code",
     "collapsed": false,
     "input": [],
     "language": "python",
     "metadata": {},
     "outputs": [
      {
       "metadata": {},
       "output_type": "pyout",
       "prompt_number": 86,
       "text": [
        "'^DA\\\\w+$'"
       ]
      }
     ],
     "prompt_number": 86
    },
    {
     "cell_type": "code",
     "collapsed": false,
     "input": [
      "%run fptree_mine"
     ],
     "language": "python",
     "metadata": {},
     "outputs": [],
     "prompt_number": 21
    },
    {
     "cell_type": "code",
     "collapsed": false,
     "input": [
      "mine_tree()"
     ],
     "language": "python",
     "metadata": {},
     "outputs": [
      {
       "output_type": "stream",
       "stream": "stdout",
       "text": [
        "path: D\n",
        "fis: BD: 481\n",
        "path: CD\n",
        "fis: CD: 464\n",
        "path: BCD\n",
        "fis: BCD: 349\n",
        "fis: ACD: 350\n",
        "path: AD\n",
        "fis: AD: 469\n",
        "fis: BAD: 350\n",
        "path: E\n",
        "path: DE\n",
        "fis: DE: 458\n",
        "fis: BDE: 351\n",
        "path: CDE\n",
        "fis: CDE: 343\n",
        "path: ADE\n",
        "fis: ADE: 343\n",
        "fis: BE: 494\n",
        "path: CE\n",
        "fis: CE: 473\n",
        "fis: BCE: 370\n",
        "path: ACE"
       ]
      },
      {
       "output_type": "stream",
       "stream": "stdout",
       "text": [
        "\n",
        "fis: ACE: 369\n",
        "fis: BACE: 304\n",
        "path: AE\n",
        "fis: AE: 483\n",
        "fis: BAE: 372\n",
        "path: C\n",
        "path: BC\n",
        "fis: BC: 490\n",
        "fis: ABC: 369\n",
        "fis: AC: 496\n",
        "path: A\n",
        "fis: BA: 490\n"
       ]
      }
     ],
     "prompt_number": 25
    },
    {
     "cell_type": "code",
     "collapsed": false,
     "input": [
      "%run fptree_query"
     ],
     "language": "python",
     "metadata": {},
     "outputs": [],
     "prompt_number": 26
    },
    {
     "cell_type": "code",
     "collapsed": false,
     "input": [
      "fis, fis_cnt = create_fis_containers()"
     ],
     "language": "python",
     "metadata": {},
     "outputs": [],
     "prompt_number": 27
    },
    {
     "cell_type": "code",
     "collapsed": false,
     "input": [
      "len(fis)"
     ],
     "language": "python",
     "metadata": {},
     "outputs": [
      {
       "metadata": {},
       "output_type": "pyout",
       "prompt_number": 28,
       "text": [
        "0"
       ]
      }
     ],
     "prompt_number": 28
    },
    {
     "cell_type": "code",
     "collapsed": false,
     "input": [
      "len(FIS)"
     ],
     "language": "python",
     "metadata": {},
     "outputs": [
      {
       "metadata": {},
       "output_type": "pyout",
       "prompt_number": 29,
       "text": [
        "0"
       ]
      }
     ],
     "prompt_number": 29
    },
    {
     "cell_type": "code",
     "collapsed": false,
     "input": [
      "df = \"/Users/dougybarbo/Projects/fp-growth-for-frequent-itemsets/data/msnbc.dat\"\n",
      "import os\n",
      "import sys\n",
      "os.path.exists(df)"
     ],
     "language": "python",
     "metadata": {},
     "outputs": [
      {
       "metadata": {},
       "output_type": "pyout",
       "prompt_number": 27,
       "text": [
        "True"
       ]
      }
     ],
     "prompt_number": 27
    },
    {
     "cell_type": "code",
     "collapsed": false,
     "input": [
      "with open(df, \"r\", encoding=\"utf-8\") as fh: \n",
      "    data = [ line.strip().split(' ') for line in fh.readlines() if not line.startswith('#') ][:1000]"
     ],
     "language": "python",
     "metadata": {},
     "outputs": [],
     "prompt_number": 39
    },
    {
     "cell_type": "code",
     "collapsed": false,
     "input": [],
     "language": "python",
     "metadata": {},
     "outputs": [
      {
       "metadata": {},
       "output_type": "pyout",
       "prompt_number": 41,
       "text": [
        "builtins.str"
       ]
      }
     ],
     "prompt_number": 41
    },
    {
     "cell_type": "code",
     "collapsed": false,
     "input": [
      "config_file = df = \"/Users/dougybarbo/Projects/fp-growth-for-frequent-itemsets/config.json\"\n",
      "import json as JSON\n",
      "with open(config_file, 'r', encoding='utf-8') as fh:\n",
      "    configs = JSON.load(fh)"
     ],
     "language": "python",
     "metadata": {},
     "outputs": [],
     "prompt_number": 5
    },
    {
     "cell_type": "code",
     "collapsed": false,
     "input": [],
     "language": "python",
     "metadata": {},
     "outputs": [
      {
       "metadata": {},
       "output_type": "pyout",
       "prompt_number": 45,
       "text": [
        "3"
       ]
      }
     ],
     "prompt_number": 45
    },
    {
     "cell_type": "code",
     "collapsed": false,
     "input": [],
     "language": "python",
     "metadata": {},
     "outputs": [
      {
       "metadata": {},
       "output_type": "pyout",
       "prompt_number": 46,
       "text": [
        "dict_keys(['data_filef', 'Remove_Duplicate_Items_in_Transaction', 'MIN_SPT'])"
       ]
      }
     ],
     "prompt_number": 46
    },
    {
     "cell_type": "code",
     "collapsed": false,
     "input": [
      "v = os.path.expanduser(\"~/Projects/fp-growth-for-frequent-itemsets\")\n",
      "v"
     ],
     "language": "python",
     "metadata": {},
     "outputs": [
      {
       "metadata": {},
       "output_type": "pyout",
       "prompt_number": 49,
       "text": [
        "'/Users/dougybarbo/Projects/fp-growth-for-frequent-itemsets'"
       ]
      }
     ],
     "prompt_number": 49
    },
    {
     "cell_type": "code",
     "collapsed": false,
     "input": [
      "def get_configs():\n",
      "    config_file = os.path.expanduser(\"~/Projects/fp-growth-for-frequent-itemsets/config.json\")\n",
      "    with open(config_file, 'r', encoding='utf-8') as fh:\n",
      "        return JSON.load(fh)"
     ],
     "language": "python",
     "metadata": {},
     "outputs": [],
     "prompt_number": 6
    },
    {
     "cell_type": "code",
     "collapsed": false,
     "input": [
      "configs = get_configs()"
     ],
     "language": "python",
     "metadata": {},
     "outputs": [],
     "prompt_number": 7
    },
    {
     "cell_type": "code",
     "collapsed": false,
     "input": [
      "configs"
     ],
     "language": "python",
     "metadata": {},
     "outputs": [
      {
       "metadata": {},
       "output_type": "pyout",
       "prompt_number": 8,
       "text": [
        "{'MIN_SPT': 0.05,\n",
        " 'data_file': '/Users/dougybarbo/Projects/fp-growth-for-frequent-itemsets/data/kosarek.dat',\n",
        " 'max_transactions': 250,\n",
        " 'project_dir': 'Projects/fp-growth-for-frequent-itemsets',\n",
        " 'remove_duplicate_items': 0}"
       ]
      }
     ],
     "prompt_number": 8
    },
    {
     "cell_type": "code",
     "collapsed": false,
     "input": [
      "configs['project_dir']"
     ],
     "language": "python",
     "metadata": {},
     "outputs": [
      {
       "metadata": {},
       "output_type": "pyout",
       "prompt_number": 9,
       "text": [
        "'Projects/fp-growth-for-frequent-itemsets'"
       ]
      }
     ],
     "prompt_number": 9
    },
    {
     "cell_type": "code",
     "collapsed": false,
     "input": [
      "os.path.join(os.path.expanduser(\"~\") , os.path.join(configs['project_dir'], 'profile.stats'))\n"
     ],
     "language": "python",
     "metadata": {},
     "outputs": [
      {
       "metadata": {},
       "output_type": "pyout",
       "prompt_number": 20,
       "text": [
        "'/Users/dougybarbo/Projects/fp-growth-for-frequent-itemsets/profile.stats'"
       ]
      }
     ],
     "prompt_number": 20
    },
    {
     "cell_type": "code",
     "collapsed": false,
     "input": [
      "import string\n",
      "import random as RND\n",
      "dataset = [\n",
      "\t\t\t    ['E', 'B', 'D', 'A'],\n",
      "\t\t\t\t['E', 'A', 'D', 'C', 'B'],\n",
      "\t\t\t\t['C', 'E', 'B', 'A'],\n",
      "\t\t\t\t['A', 'B', 'D'],\n",
      "\t\t\t\t['D'],\n",
      "\t\t\t\t['D', 'B'],\n",
      "\t\t\t\t['D', 'A', 'E'],\n",
      "\t\t\t\t['B', 'C'],\n",
      "\t\t\t]\n",
      "p = list(string.ascii_uppercase[:20])\n",
      "fnx = lambda: RND.randint(2, 12)\n",
      "data = [ RND.sample(p, fnx()) for c in range(100000) ]\n",
      "data.extend(dataset)\n",
      "RND.shuffle(data)\n",
      "len(data)"
     ],
     "language": "python",
     "metadata": {},
     "outputs": [
      {
       "metadata": {},
       "output_type": "pyout",
       "prompt_number": 24,
       "text": [
        "100008"
       ]
      }
     ],
     "prompt_number": 24
    },
    {
     "cell_type": "code",
     "collapsed": false,
     "input": [
      "import csv as CSV\n",
      "csv_file = \"/Users/dougybarbo/Projects/fp-growth-for-frequent-itemsets/data/syn_data_1e5.csv\"\n",
      "with open(csv_file, 'w', encoding='utf-8') as fh:\n",
      "    writer = CSV.writer(fh, delimiter=',', quotechar='|', quoting=CSV.QUOTE_MINIMAL)\n",
      "    writer.writerows(data)"
     ],
     "language": "python",
     "metadata": {},
     "outputs": [],
     "prompt_number": 26
    },
    {
     "cell_type": "code",
     "collapsed": false,
     "input": [],
     "language": "python",
     "metadata": {},
     "outputs": []
    }
   ],
   "metadata": {}
  }
 ]
}