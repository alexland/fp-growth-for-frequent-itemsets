{
 "metadata": {
  "name": ""
 },
 "nbformat": 3,
 "nbformat_minor": 0,
 "worksheets": [
  {
   "cells": [
    {
     "cell_type": "code",
     "collapsed": false,
     "input": [
      "import itertools as IT\n",
      "from copy import deepcopy\n",
      "import collections as CL\n",
      "ddir = \"/Users/dougybarbo/Projects/fp-growth-for-frequent-itemsets\"\n",
      "import os\n",
      "os.chdir(ddir)"
     ],
     "language": "python",
     "metadata": {},
     "outputs": [],
     "prompt_number": 1
    },
    {
     "cell_type": "code",
     "collapsed": false,
     "input": [
      "%run fptree\n",
      "%run fptree_query_utils\n",
      "%run fptree_query"
     ],
     "language": "python",
     "metadata": {},
     "outputs": [],
     "prompt_number": 2
    },
    {
     "cell_type": "code",
     "collapsed": false,
     "input": [
      "fptree = FPT.fptree\n",
      "header_table = FPT.htab\n",
      "dataset = FPT.data\n",
      "MIN_SPT = 0.3\n",
      "trans_count = len(dataset)"
     ],
     "language": "python",
     "metadata": {},
     "outputs": [],
     "prompt_number": 3
    },
    {
     "cell_type": "code",
     "collapsed": false,
     "input": [
      "def persist_freq_patterns(path, f_list):\n",
      "    k = ''.join(path)\n",
      "    q = path[-1]\n",
      "    v = f_list[q]\n",
      "    return {k:v}"
     ],
     "language": "python",
     "metadata": {},
     "outputs": [],
     "prompt_number": 4
    },
    {
     "cell_type": "code",
     "collapsed": false,
     "input": [
      "def gather_nodes(node, N=[]):\n",
      "    nx = node.children\n",
      "    if len(nx) == 0:\n",
      "        return N\n",
      "    else:\n",
      "        for n in nx.keys():\n",
      "            N.append(n)\n",
      "            gather_nodes(node.children[n], N)\n",
      "    return N"
     ],
     "language": "python",
     "metadata": {},
     "outputs": [],
     "prompt_number": 5
    },
    {
     "cell_type": "code",
     "collapsed": false,
     "input": [
      "def fpt(tn):\n",
      "    \"\"\"\n",
      "    returns: None\n",
      "    pass in: an fptree node\n",
      "    convenience function for informal, node-by-node introspection\n",
      "    of the fptree object call unbound to variable\n",
      "    \"\"\"\n",
      "    if tn.node_link:\n",
      "        print(\"node_link? {0}\".format(tn.node_link.name))\n",
      "    else:\n",
      "         print(\"node_link? none\")\n",
      "    print(\"name: {0}\".format(tn.name))\n",
      "    print(\"count: {0}\".format(tn.count))\n",
      "    print(\"children: {0}\".format(list(tn.children.keys())))\n",
      "    print(\"parent: {0}\".format(tn.parent.name))\n",
      "    print(\"\\n\")"
     ],
     "language": "python",
     "metadata": {},
     "outputs": [],
     "prompt_number": 6
    },
    {
     "cell_type": "code",
     "collapsed": false,
     "input": [
      "target = { 'C': {'BC': 3}, 'E': {'DE': {'DE': 3, 'ADE': 3}, 'BE': {'BE': 3, 'ABE': 3}, 'AE': 4 }, 'A': {'AD': {'AD': 4, 'ABD': 3}, 'AB': {'AB': 4}}, 'B':{}, 'D': {'BD': 4} }"
     ],
     "language": "python",
     "metadata": {},
     "outputs": [],
     "prompt_number": 7
    },
    {
     "cell_type": "code",
     "collapsed": false,
     "input": [
      "target.keys()"
     ],
     "language": "python",
     "metadata": {},
     "outputs": [
      {
       "metadata": {},
       "output_type": "pyout",
       "prompt_number": 8,
       "text": [
        "dict_keys(['B', 'C', 'A', 'D', 'E'])"
       ]
      }
     ],
     "prompt_number": 8
    },
    {
     "cell_type": "code",
     "collapsed": false,
     "input": [
      "target['A']"
     ],
     "language": "python",
     "metadata": {},
     "outputs": [
      {
       "metadata": {},
       "output_type": "pyout",
       "prompt_number": 9,
       "text": [
        "{'AB': {'AB': 4}, 'AD': {'ABD': 3, 'AD': 4}}"
       ]
      }
     ],
     "prompt_number": 9
    },
    {
     "cell_type": "code",
     "collapsed": false,
     "input": [
      "tx = '''BC:3 DE:3 ADE:3 BE:3 ABE:3 AE:4 AD:4, ABD:3 AB:4 BD:4'''.split()\n",
      "tx = dict([ s.split(':') for s in tx ])\n",
      "t = list(tx.keys())\n",
      "print(t)"
     ],
     "language": "python",
     "metadata": {},
     "outputs": [
      {
       "output_type": "stream",
       "stream": "stdout",
       "text": [
        "['ADE', 'BC', 'BE', 'BD', 'AB', 'ABE', 'ABD', 'AD', 'DE', 'AE']\n"
       ]
      }
     ],
     "prompt_number": 10
    },
    {
     "cell_type": "code",
     "collapsed": false,
     "input": [
      "len(tx.keys())"
     ],
     "language": "python",
     "metadata": {},
     "outputs": [
      {
       "metadata": {},
       "output_type": "pyout",
       "prompt_number": 11,
       "text": [
        "10"
       ]
      }
     ],
     "prompt_number": 11
    },
    {
     "cell_type": "code",
     "collapsed": false,
     "input": [
      "tx= set(tx)"
     ],
     "language": "python",
     "metadata": {},
     "outputs": [],
     "prompt_number": 12
    },
    {
     "cell_type": "heading",
     "level": 3,
     "metadata": {},
     "source": [
      "Mine the Tree for Frequent Patterns"
     ]
    },
    {
     "cell_type": "code",
     "collapsed": false,
     "input": [
      "fptree = FPT.fptree\n",
      "header_table = FPT.htab\n",
      "dataset = FPT.data\n",
      "MIN_SPT = 0.3\n",
      "trans_count = len(dataset)"
     ],
     "language": "python",
     "metadata": {},
     "outputs": [],
     "prompt_number": 13
    },
    {
     "cell_type": "code",
     "collapsed": false,
     "input": [
      "p = []\n",
      "k = 'D'\n",
      "p1 = deepcopy(p)\n",
      "p1.append(k)\n",
      "\n",
      "if (len(fptree.children) == 0) | len(gather_nodes(fptree)) <= 1:\n",
      "    print(\"iteration terminated\")\n",
      "    print(persist_freq_patterns(p1, f_list))\n",
      "\n",
      "else:\n",
      "    cpb_all = get_conditional_pattern_bases(k, header_table=header_table)\n",
      "    f_list = create_flist(cpb_all=cpb_all, min_spt=MIN_SPT, trans_count=trans_count)\n",
      "    cpb_all = filter_cpb_by_flist(cpb_all, f_list)\n",
      "    cpb_all = sort_cpb_by_freq(cpb_all)\n",
      "    cpb_all = deepcopy(list(cpb_all))\n",
      "    \n",
      "print(cpb_all)\n",
      "print(f_list)"
     ],
     "language": "python",
     "metadata": {},
     "outputs": [
      {
       "output_type": "stream",
       "stream": "stdout",
       "text": [
        "[['B'], ['B'], ['B'], ['B']]\n",
        "{'B': 4}\n"
       ]
      }
     ],
     "prompt_number": 14
    },
    {
     "cell_type": "code",
     "collapsed": false,
     "input": [
      "cfptree, chtab = build_fptree(cpb_all, len(cpb_all), MIN_SPT, k)\n",
      "\n",
      "if (len(fptree.children) == 0) | len(gather_nodes(fptree)) <= 1:\n",
      "    print(\"iteration terminated\")\n",
      "\n",
      "else:\n",
      "    cpb_all = get_conditional_pattern_bases(k, header_table=header_table)\n",
      "    f_list = create_flist(cpb_all=cpb_all, min_spt=MIN_SPT, trans_count=trans_count)\n",
      "    cpb_all = filter_cpb_by_flist(cpb_all, f_list)\n",
      "    cpb_all = sort_cpb_by_freq(cpb_all)\n",
      "    cpb_all = deepcopy(list(cpb_all))\n",
      "    print(\"continue iteration\")\n",
      "    print(cpb_all)\n",
      "    print(f_list)\n",
      "    \n"
     ],
     "language": "python",
     "metadata": {},
     "outputs": [
      {
       "output_type": "stream",
       "stream": "stdout",
       "text": [
        "continue iteration\n",
        "[['B'], ['B'], ['B'], ['B']]\n",
        "{'B': 4}\n"
       ]
      }
     ],
     "prompt_number": 15
    },
    {
     "cell_type": "code",
     "collapsed": false,
     "input": [
      "k = list(f_list.keys()).pop()\n",
      "p1.append(k)\n",
      "\n",
      "cfptree, chtab = build_fptree(cpb_all, len(cpb_all), MIN_SPT, k)\n",
      "\n",
      "if len(cfptree.children) == 0:\n",
      "    print(\"iteration terminated\")\n",
      "    print(persist_freq_patterns(p1, f_list))\n",
      "\n",
      "else:\n",
      "    cpb_all = get_conditional_pattern_bases(k, header_table=header_table)\n",
      "    f_list = create_flist(cpb_all=cpb_all, min_spt=MIN_SPT, trans_count=trans_count)\n",
      "    cpb_all = filter_cpb_by_flist(cpb_all, f_list)\n",
      "    cpb_all = sort_cpb_by_freq(cpb_all)\n",
      "    cpb_all = deepcopy(list(cpb_all))"
     ],
     "language": "python",
     "metadata": {},
     "outputs": [
      {
       "output_type": "stream",
       "stream": "stdout",
       "text": [
        "iteration terminated\n",
        "{'DB': 4}\n"
       ]
      }
     ],
     "prompt_number": 16
    },
    {
     "cell_type": "code",
     "collapsed": false,
     "input": [
      "print(p1)\n",
      "print(f_list)"
     ],
     "language": "python",
     "metadata": {},
     "outputs": [
      {
       "output_type": "stream",
       "stream": "stdout",
       "text": [
        "['D', 'B']\n",
        "{'B': 4}\n"
       ]
      }
     ],
     "prompt_number": 17
    },
    {
     "cell_type": "code",
     "collapsed": false,
     "input": [
      "def cpbs(k, header_table, MIN_SPT, trans_count):\n",
      "\tcpb_all = get_conditional_pattern_bases(k, header_table=header_table)\n",
      "\tif len(cpb_all) == 0:\n",
      "\t\treturn None\n",
      "\telse:\n",
      "\t\tf_list = create_flist(cpb_all=cpb_all, min_spt=MIN_SPT,trans_count=trans_count)\n",
      "\t\tcpb_all = filter_cpb_by_flist(cpb_all, f_list)\n",
      "\t\tcpb_all = sort_cpb_by_freq(cpb_all)\n",
      "\t\tcpb_all = deepcopy(list(cpb_all))\n",
      "\treturn cpb_all, f_list"
     ],
     "language": "python",
     "metadata": {},
     "outputs": [],
     "prompt_number": 262
    },
    {
     "cell_type": "code",
     "collapsed": false,
     "input": [
      "FIS = []"
     ],
     "language": "python",
     "metadata": {},
     "outputs": [],
     "prompt_number": 329
    },
    {
     "cell_type": "code",
     "collapsed": false,
     "input": [
      "def mine_tree(p=CL.deque([]), header_table=FPT.htab, min_spt=MIN_SPT, trans_count=len(dataset), \n",
      "              c=0, f_list=FPT.htab):\n",
      "    for k in f_list.keys():\n",
      "        p1 = deepcopy(p)\n",
      "        p1.appendleft(k)\n",
      "        q = ''.join(p1)\n",
      "        x = cpbs(k, header_table, MIN_SPT, trans_count)\n",
      "        if len(q) > 1:\n",
      "            fis = q + str(header_table[k][0])\n",
      "            # print('fis: {}: {}'.format(q, f_list[k]))\n",
      "            FIS.append(fis)\n",
      "        if x:\n",
      "            cpb_all_, f_list_ = x\n",
      "            q = ''.join(p1)\n",
      "            print('path: {}'.format(q))\n",
      "            # print('f_list {}'.format(f_list))\n",
      "            if len(q) > 1:\n",
      "                fis = q + str(header_table[k][0])\n",
      "                print('fis: {}: {}'.format(q, f_list[k]))\n",
      "            cfptree, chtab = build_fptree(cpb_all_, len(cpb_all_), MIN_SPT, k)\n",
      "            mine_tree(p=p1, header_table=chtab, min_spt=MIN_SPT, trans_count=trans_count,\n",
      "                      c=c+5, f_list=f_list_)\n",
      "        elif not x:\n",
      "            q = ''.join(p1)\n",
      "            if len(q) > 1:\n",
      "                fis = q + str(header_table[k][0])\n",
      "                print('fis: {}: {}'.format(q, header_table[k][0]))\n",
      "                FIS.append(fis)\n",
      "            # q1 = q[1:]\n",
      "            # fis = q1\n",
      "            # if len(fis) > 1:\n",
      "                # print('fis: {}: '.format(q1))\n",
      "                # FIS.append(fis)\n",
      "            # k = 'key: ' + k\n",
      "            print(\"\\n\")\n",
      "            continue"
     ],
     "language": "python",
     "metadata": {},
     "outputs": [],
     "prompt_number": 340
    },
    {
     "cell_type": "code",
     "collapsed": false,
     "input": [
      "FIS.clear()\n",
      "\n",
      "mine_tree()"
     ],
     "language": "python",
     "metadata": {},
     "outputs": [
      {
       "output_type": "stream",
       "stream": "stdout",
       "text": [
        "\n",
        "\n",
        "path: C\n",
        "fis: BC: 3\n",
        "\n",
        "\n",
        "path: A\n",
        "fis: BA: 4\n",
        "\n",
        "\n",
        "path: DA\n",
        "fis: DA: 4\n",
        "fis: BDA: 3\n",
        "\n",
        "\n",
        "path: D\n",
        "fis: BD: 4\n",
        "\n",
        "\n",
        "path: E\n",
        "path: BE\n",
        "fis: BE: 3\n",
        "fis: ABE: 3\n",
        "\n",
        "\n",
        "fis: AE: 4\n",
        "\n",
        "\n",
        "path: DE\n",
        "fis: DE: 3\n",
        "fis: ADE: 3\n",
        "\n",
        "\n"
       ]
      }
     ],
     "prompt_number": 341
    },
    {
     "cell_type": "code",
     "collapsed": false,
     "input": [
      "import re\n",
      "p = r'^([A-Z][^A-Z])$'\n",
      "p = r'^([A-Z]?)(?![A-Z])'\n",
      "po = re.compile(p)\n",
      "\n",
      "fis = [ itm for itm in FIS if not po.search(itm) ]\n",
      "\n",
      "p1 = r'\\d'\n",
      "po1 = re.compile(p1)\n",
      "\n",
      "fis = [ po1.sub('', itm) for itm in fis ]"
     ],
     "language": "python",
     "metadata": {},
     "outputs": [],
     "prompt_number": 290
    },
    {
     "cell_type": "code",
     "collapsed": false,
     "input": [
      "tg = '''C:3, BC:3, DE:3, ADE:3 , BE:3, ABE:3, AE:4, E:4, AD:4, ABD:3, AB:4, A:5, \n",
      "D:6, BD:4, B:6'''.split(', ')\n",
      "\n",
      "tg1 = [ s.strip().split(':') for s in tg ]\n",
      "tg1 = dict([ (lx[0], int(lx[1])) for lx in tg1 ])\n",
      "t = list(tg1.keys())\n",
      "t = [ (itm, len(itm)) for itm in t ]\n",
      "\n",
      "from operator import itemgetter, attrgetter\n",
      "t1 = sorted(t, key=itemgetter(1))\n",
      "t2 = { k:v for k, v in t if len(k) > 1}\n",
      "trg1 = list(t2.keys())\n",
      "trg = t2"
     ],
     "language": "python",
     "metadata": {},
     "outputs": [],
     "prompt_number": 291
    },
    {
     "cell_type": "code",
     "collapsed": false,
     "input": [
      "def sort_seq(seq, sort_key=FPT.sort_key):\n",
      "    fnx = lambda q: sorted(q, key=sort_key.__getitem__)\n",
      "    return fnx(seq)\n",
      "\n",
      "fis1 = list(fis1)\n",
      "fis1 = [ ''.join(sort_seq(list(itm))) for itm in fis1 ]\n",
      "fis1 = set(fis1)\n",
      "\n",
      "trg1 = [ ''.join(sort_seq(list(itm))) for itm in trg1 ]\n",
      "trg1 = set(trg1)\n",
      "\n",
      "# the dictionary representation of frequent itemsets for the target: trg"
     ],
     "language": "python",
     "metadata": {},
     "outputs": [],
     "prompt_number": 292
    },
    {
     "cell_type": "code",
     "collapsed": false,
     "input": [
      "\n",
      "print(\"items in target NOT in result: {}\".format(trg1 - fis1))\n",
      "print(\"items in result NOT in target: {}\".format(fis1 - trg1))"
     ],
     "language": "python",
     "metadata": {},
     "outputs": [
      {
       "output_type": "stream",
       "stream": "stdout",
       "text": [
        "items in target NOT in result: set()\n",
        "items in result NOT in target: set()\n"
       ]
      }
     ],
     "prompt_number": 293
    },
    {
     "cell_type": "code",
     "collapsed": false,
     "input": [
      "res = ['BC:3', 'BA:4', 'DA:4', 'BDA:3', 'BD:4', 'BE:3', 'ABE:3', 'AE:4', 'DE:3', 'ADE:3']\n",
      "res = dict([ itm.split(':') for itm in res ])\n",
      "\n",
      "r0 = res.items()\n",
      "kx = [t[0] for t in r0]\n",
      "vx = [t[1] for t in r0]\n",
      "\n",
      "kx = list(kx)\n",
      "kx = [ ''.join(sort_seq(list(itm))) for itm in fis1 ]\n",
      "res = dict(zip(kx, vx))\n",
      "\n",
      "def sort_fis1(adict):\n",
      "    \"\"\"\n",
      "    returns:\n",
      "        the same dict passed in except that the items comprising the key\n",
      "        are ordered according to some sort key\n",
      "    \n",
      "    pass in:\n",
      "        a dict in which keys are frequent itemsets & values are frequency, \n",
      "        eg 'BC':3\n",
      "    \"\"\"\n",
      "    def sort_seq(seq, sort_key=FPT.sort_key):\n",
      "        fnx = lambda q: sorted(q, key=sort_key.__getitem__)\n",
      "        return fnx(seq)\n",
      "    r0 = adict.items()\n",
      "    kx = [t[0] for t in r0]\n",
      "    vx = [t[1] for t in r0]\n",
      "    kx = list(kx)\n",
      "    kx = [ ''.join(sort_seq(list(itm))) for itm in fis1 ]\n",
      "    return dict(zip(kx, vx))\n",
      "\n",
      "\n",
      "def sort_fis(path_str, sort_key=FPT.sort_key):\n",
      "    fnx = lambda q: sorted(q, key=sort_key.__getitem__)\n",
      "    return ''.join(fnx(list(path_str)))\n",
      "\n",
      "\n",
      "res = sort_fis1(res)\n",
      "trg = sort_fis1(trg)"
     ],
     "language": "python",
     "metadata": {},
     "outputs": [],
     "prompt_number": 301
    },
    {
     "cell_type": "code",
     "collapsed": false,
     "input": [
      "# res.items() - trg.items()\n",
      "# trg.items() - res.items()\n",
      "\n",
      "res"
     ],
     "language": "python",
     "metadata": {},
     "outputs": [
      {
       "metadata": {},
       "output_type": "pyout",
       "prompt_number": 303,
       "text": [
        "{'AE': '3',\n",
        " 'BA': '4',\n",
        " 'BAE': '3',\n",
        " 'BC': '3',\n",
        " 'BD': '3',\n",
        " 'BDA': '3',\n",
        " 'BE': '3',\n",
        " 'DA': '4',\n",
        " 'DAE': '4',\n",
        " 'DE': '4'}"
       ]
      }
     ],
     "prompt_number": 303
    },
    {
     "cell_type": "code",
     "collapsed": false,
     "input": [
      "for k in trg:\n",
      "    print(\"{}: \\t {} \\t {}\".format(k, trg[k], res[k]))"
     ],
     "language": "python",
     "metadata": {},
     "outputs": [
      {
       "output_type": "stream",
       "stream": "stdout",
       "text": [
        "BA: \t 3 \t 4\n",
        "BC: \t 3 \t 3\n",
        "BE: \t 2 \t 3\n",
        "BD: \t 2 \t 3\n",
        "DA: \t 2 \t 4\n",
        "DAE: \t 2 \t 4\n",
        "BAE: \t 2 \t 3\n",
        "BDA: \t 2 \t 3\n",
        "DE: \t 2 \t 4\n",
        "AE: \t 3 \t 3\n"
       ]
      }
     ],
     "prompt_number": 309
    },
    {
     "cell_type": "code",
     "collapsed": false,
     "input": [
      "res.keys() - trg.keys()\n",
      "trg.keys() - res.keys()"
     ],
     "language": "python",
     "metadata": {},
     "outputs": [
      {
       "metadata": {},
       "output_type": "pyout",
       "prompt_number": 306,
       "text": [
        "set()"
       ]
      }
     ],
     "prompt_number": 306
    },
    {
     "cell_type": "code",
     "collapsed": false,
     "input": [
      "trg.items() & res.items()"
     ],
     "language": "python",
     "metadata": {},
     "outputs": [
      {
       "metadata": {},
       "output_type": "pyout",
       "prompt_number": 307,
       "text": [
        "set()"
       ]
      }
     ],
     "prompt_number": 307
    },
    {
     "cell_type": "code",
     "collapsed": false,
     "input": [
      "def sort_fis(path_str, sort_key=FPT.sort_key):\n",
      "    fnx = lambda q: sorted(q, key=sort_key.__getitem__)\n",
      "    return ''.join(fnx(list(path_str)))"
     ],
     "language": "python",
     "metadata": {},
     "outputs": [],
     "prompt_number": 316
    },
    {
     "cell_type": "code",
     "collapsed": false,
     "input": [
      "p = 'EAD'\n",
      "sort_fis(p)"
     ],
     "language": "python",
     "metadata": {},
     "outputs": [
      {
       "metadata": {},
       "output_type": "pyout",
       "prompt_number": 318,
       "text": [
        "'DAE'"
       ]
      }
     ],
     "prompt_number": 318
    },
    {
     "cell_type": "code",
     "collapsed": false,
     "input": [],
     "language": "python",
     "metadata": {},
     "outputs": []
    }
   ],
   "metadata": {}
  }
 ]
}