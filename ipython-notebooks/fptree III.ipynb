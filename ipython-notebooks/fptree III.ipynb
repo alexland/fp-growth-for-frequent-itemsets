{
 "metadata": {
  "name": ""
 },
 "nbformat": 3,
 "nbformat_minor": 0,
 "worksheets": [
  {
   "cells": [
    {
     "cell_type": "code",
     "collapsed": false,
     "input": [
      "import itertools as IT\n",
      "from copy import deepcopy\n",
      "import collections as CL\n",
      "ddir = \"/Users/dougybarbo/Projects/fp-growth-for-frequent-itemsets\"\n",
      "import os\n",
      "os.chdir(ddir)"
     ],
     "language": "python",
     "metadata": {},
     "outputs": [],
     "prompt_number": 1
    },
    {
     "cell_type": "code",
     "collapsed": false,
     "input": [
      "%run fptree\n",
      "%run fptree_query_utils\n",
      "%run fptree_query"
     ],
     "language": "python",
     "metadata": {},
     "outputs": [],
     "prompt_number": 2
    },
    {
     "cell_type": "code",
     "collapsed": false,
     "input": [
      "fptree = FPT.fptree\n",
      "header_table = FPT.htab\n",
      "dataset = FPT.data\n",
      "MIN_SPT = 0.3\n",
      "trans_count = len(dataset)"
     ],
     "language": "python",
     "metadata": {},
     "outputs": [],
     "prompt_number": 3
    },
    {
     "cell_type": "code",
     "collapsed": false,
     "input": [
      "def persist_freq_patterns(path, f_list):\n",
      "    k = ''.join(path)\n",
      "    q = path[-1]\n",
      "    v = f_list[q]\n",
      "    return {k:v}"
     ],
     "language": "python",
     "metadata": {},
     "outputs": [],
     "prompt_number": 4
    },
    {
     "cell_type": "code",
     "collapsed": false,
     "input": [
      "def gather_nodes(node, N=[]):\n",
      "    nx = node.children\n",
      "    if len(nx) == 0:\n",
      "        return N\n",
      "    else:\n",
      "        for n in nx.keys():\n",
      "            N.append(n)\n",
      "            gather_nodes(node.children[n], N)\n",
      "    return N"
     ],
     "language": "python",
     "metadata": {},
     "outputs": [],
     "prompt_number": 5
    },
    {
     "cell_type": "code",
     "collapsed": false,
     "input": [
      "def fpt(tn):\n",
      "    \"\"\"\n",
      "    returns: None\n",
      "    pass in: an fptree node\n",
      "    convenience function for informal, node-by-node introspection\n",
      "    of the fptree object call unbound to variable\n",
      "    \"\"\"\n",
      "    if tn.node_link:\n",
      "        print(\"node_link? {0}\".format(tn.node_link.name))\n",
      "    else:\n",
      "         print(\"node_link? none\")\n",
      "    print(\"name: {0}\".format(tn.name))\n",
      "    print(\"count: {0}\".format(tn.count))\n",
      "    print(\"children: {0}\".format(list(tn.children.keys())))\n",
      "    print(\"parent: {0}\".format(tn.parent.name))\n",
      "    print(\"\\n\")"
     ],
     "language": "python",
     "metadata": {},
     "outputs": [],
     "prompt_number": 6
    },
    {
     "cell_type": "code",
     "collapsed": false,
     "input": [
      "target = { 'C': {'BC': 3}, 'E': {'DE': {'DE': 3, 'ADE': 3}, 'BE': {'BE': 3, 'ABE': 3}, 'AE': 4 }, 'A': {'AD': {'AD': 4, 'ABD': 3}, 'AB': {'AB': 4}}, 'B':{}, 'D': {'BD': 4} }"
     ],
     "language": "python",
     "metadata": {},
     "outputs": [],
     "prompt_number": 7
    },
    {
     "cell_type": "code",
     "collapsed": false,
     "input": [
      "target.keys()"
     ],
     "language": "python",
     "metadata": {},
     "outputs": [
      {
       "metadata": {},
       "output_type": "pyout",
       "prompt_number": 8,
       "text": [
        "dict_keys(['E', 'D', 'C', 'B', 'A'])"
       ]
      }
     ],
     "prompt_number": 8
    },
    {
     "cell_type": "code",
     "collapsed": false,
     "input": [
      "target['A']"
     ],
     "language": "python",
     "metadata": {},
     "outputs": [
      {
       "metadata": {},
       "output_type": "pyout",
       "prompt_number": 9,
       "text": [
        "{'AB': {'AB': 4}, 'AD': {'ABD': 3, 'AD': 4}}"
       ]
      }
     ],
     "prompt_number": 9
    },
    {
     "cell_type": "code",
     "collapsed": false,
     "input": [
      "tx = '''BC:3 DE:3 ADE:3 BE:3 ABE:3 AE:4 AD:4, ABD:3 AB:4 BD:4'''.split()\n",
      "tx = dict([ s.split(':') for s in tx ])\n",
      "t = list(tx.keys())\n",
      "print(t)"
     ],
     "language": "python",
     "metadata": {},
     "outputs": [
      {
       "output_type": "stream",
       "stream": "stdout",
       "text": [
        "['BD', 'BE', 'BC', 'AD', 'DE', 'AE', 'ABE', 'ADE', 'ABD', 'AB']\n"
       ]
      }
     ],
     "prompt_number": 10
    },
    {
     "cell_type": "code",
     "collapsed": false,
     "input": [
      "len(tx.keys())"
     ],
     "language": "python",
     "metadata": {},
     "outputs": [
      {
       "metadata": {},
       "output_type": "pyout",
       "prompt_number": 11,
       "text": [
        "10"
       ]
      }
     ],
     "prompt_number": 11
    },
    {
     "cell_type": "code",
     "collapsed": false,
     "input": [
      "tx= set(tx)"
     ],
     "language": "python",
     "metadata": {},
     "outputs": [],
     "prompt_number": 12
    },
    {
     "cell_type": "heading",
     "level": 3,
     "metadata": {},
     "source": [
      "Mine the Tree for Frequent Patterns"
     ]
    },
    {
     "cell_type": "code",
     "collapsed": false,
     "input": [
      "fptree = FPT.fptree\n",
      "header_table = FPT.htab\n",
      "dataset = FPT.data\n",
      "MIN_SPT = 0.3\n",
      "trans_count = len(dataset)"
     ],
     "language": "python",
     "metadata": {},
     "outputs": [],
     "prompt_number": 13
    },
    {
     "cell_type": "code",
     "collapsed": false,
     "input": [
      "p = []\n",
      "k = 'D'\n",
      "p1 = deepcopy(p)\n",
      "p1.append(k)\n",
      "\n",
      "if (len(fptree.children) == 0) | len(gather_nodes(fptree)) <= 1:\n",
      "    print(\"iteration terminated\")\n",
      "    print(persist_freq_patterns(p1, f_list))\n",
      "\n",
      "else:\n",
      "    cpb_all = get_conditional_pattern_bases(k, header_table=header_table)\n",
      "    f_list = create_flist(cpb_all=cpb_all, min_spt=MIN_SPT, trans_count=trans_count)\n",
      "    cpb_all = filter_cpb_by_flist(cpb_all, f_list)\n",
      "    cpb_all = sort_cpb_by_freq(cpb_all)\n",
      "    cpb_all = deepcopy(list(cpb_all))\n",
      "    \n",
      "print(cpb_all)\n",
      "print(f_list)"
     ],
     "language": "python",
     "metadata": {},
     "outputs": [
      {
       "output_type": "stream",
       "stream": "stdout",
       "text": [
        "[['B'], ['B'], ['B'], ['B']]\n",
        "{'B': 4}\n"
       ]
      }
     ],
     "prompt_number": 14
    },
    {
     "cell_type": "code",
     "collapsed": false,
     "input": [
      "cfptree, chtab = build_fptree(cpb_all, len(cpb_all), MIN_SPT, k)\n",
      "\n",
      "if (len(fptree.children) == 0) | len(gather_nodes(fptree)) <= 1:\n",
      "    print(\"iteration terminated\")\n",
      "\n",
      "else:\n",
      "    cpb_all = get_conditional_pattern_bases(k, header_table=header_table)\n",
      "    f_list = create_flist(cpb_all=cpb_all, min_spt=MIN_SPT, trans_count=trans_count)\n",
      "    cpb_all = filter_cpb_by_flist(cpb_all, f_list)\n",
      "    cpb_all = sort_cpb_by_freq(cpb_all)\n",
      "    cpb_all = deepcopy(list(cpb_all))\n",
      "    print(\"continue iteration\")\n",
      "    print(cpb_all)\n",
      "    print(f_list)\n",
      "    \n"
     ],
     "language": "python",
     "metadata": {},
     "outputs": [
      {
       "output_type": "stream",
       "stream": "stdout",
       "text": [
        "continue iteration\n",
        "[['B'], ['B'], ['B'], ['B']]\n",
        "{'B': 4}\n"
       ]
      }
     ],
     "prompt_number": 15
    },
    {
     "cell_type": "code",
     "collapsed": false,
     "input": [
      "k = list(f_list.keys()).pop()\n",
      "p1.append(k)\n",
      "\n",
      "cfptree, chtab = build_fptree(cpb_all, len(cpb_all), MIN_SPT, k)\n",
      "\n",
      "if len(cfptree.children) == 0:\n",
      "    print(\"iteration terminated\")\n",
      "    print(persist_freq_patterns(p1, f_list))\n",
      "\n",
      "else:\n",
      "    cpb_all = get_conditional_pattern_bases(k, header_table=header_table)\n",
      "    f_list = create_flist(cpb_all=cpb_all, min_spt=MIN_SPT, trans_count=trans_count)\n",
      "    cpb_all = filter_cpb_by_flist(cpb_all, f_list)\n",
      "    cpb_all = sort_cpb_by_freq(cpb_all)\n",
      "    cpb_all = deepcopy(list(cpb_all))"
     ],
     "language": "python",
     "metadata": {},
     "outputs": [
      {
       "output_type": "stream",
       "stream": "stdout",
       "text": [
        "iteration terminated\n",
        "{'DB': 4}\n"
       ]
      }
     ],
     "prompt_number": 16
    },
    {
     "cell_type": "code",
     "collapsed": false,
     "input": [
      "print(p1)\n",
      "print(f_list)"
     ],
     "language": "python",
     "metadata": {},
     "outputs": [
      {
       "output_type": "stream",
       "stream": "stdout",
       "text": [
        "['D', 'B']\n",
        "{'B': 4}\n"
       ]
      }
     ],
     "prompt_number": 17
    },
    {
     "cell_type": "code",
     "collapsed": false,
     "input": [
      "def cpbs(k, header_table, MIN_SPT, trans_count):\n",
      "\tcpb_all = get_conditional_pattern_bases(k, header_table=header_table)\n",
      "\tif len(cpb_all) == 0:\n",
      "\t\treturn None\n",
      "\telse:\n",
      "\t\tf_list = create_flist(cpb_all=cpb_all, min_spt=MIN_SPT,trans_count=trans_count)\n",
      "\t\tcpb_all = filter_cpb_by_flist(cpb_all, f_list)\n",
      "\t\tcpb_all = sort_cpb_by_freq(cpb_all)\n",
      "\t\tcpb_all = deepcopy(list(cpb_all))\n",
      "\treturn cpb_all, f_list"
     ],
     "language": "python",
     "metadata": {},
     "outputs": [],
     "prompt_number": 18
    },
    {
     "cell_type": "code",
     "collapsed": false,
     "input": [],
     "language": "python",
     "metadata": {},
     "outputs": [],
     "prompt_number": 18
    },
    {
     "cell_type": "code",
     "collapsed": false,
     "input": [
      "def mine_tree(p=CL.deque([]), header_table=FPT.htab, min_spt=MIN_SPT, trans_count=len(dataset), c=0):\n",
      "    for k in header_table.keys():\n",
      "        p1 = deepcopy(p)\n",
      "        p1.appendleft(k)\n",
      "        # print(\"f_list: {}\".format(f_list))\n",
      "        q = ''.join(p1)\n",
      "        print('{0:>{1}}'.format(q, c))\n",
      "        x = cpbs(k, header_table, MIN_SPT, trans_count)\n",
      "        if x:\n",
      "            cpb_all_, f_list_ = x\n",
      "            cfptree, chtab = build_fptree(cpb_all_, len(cpb_all_), MIN_SPT, k)\n",
      "            mine_tree(p=p1, header_table=chtab, min_spt=min_spt, c=c+5)\n",
      "        else:\n",
      "            c += 5\n",
      "            st = 'iteration terminated'\n",
      "            print('{0:>{1}}'.format(st, c))\n",
      "            q = ''.join(p1)\n",
      "            k = 'key: ' + k\n",
      "            print('{0:>{1}}'.format(k, c))\n",
      "            print(\"\\n\")\n",
      "            continue"
     ],
     "language": "python",
     "metadata": {},
     "outputs": [],
     "prompt_number": 23
    },
    {
     "cell_type": "code",
     "collapsed": false,
     "input": [
      "mine_tree()"
     ],
     "language": "python",
     "metadata": {},
     "outputs": [
      {
       "output_type": "stream",
       "stream": "stdout",
       "text": [
        "E\n",
        "   DE\n",
        "       ADE\n",
        "iteration terminated\n",
        "         key: A\n",
        "\n",
        "\n",
        "   BE\n",
        "       ABE\n",
        "iteration terminated\n",
        "         key: A\n",
        "\n",
        "\n",
        "   AE\n",
        "iteration terminated\n",
        "    key: A\n",
        "\n",
        "\n",
        "D\n",
        "   BD\n",
        "iteration terminated\n",
        "    key: B\n",
        "\n",
        "\n",
        "C\n",
        "   BC\n",
        "iteration terminated\n",
        "    key: B\n",
        "\n",
        "\n",
        "B\n",
        "iteration terminated\n",
        "key: B\n",
        "\n",
        "\n",
        "    A\n",
        "        DA\n",
        "            BDA\n",
        "iteration terminated\n",
        "              key: B\n",
        "\n",
        "\n",
        "        BA\n",
        "iteration terminated\n",
        "         key: B\n",
        "\n",
        "\n"
       ]
      }
     ],
     "prompt_number": 24
    },
    {
     "cell_type": "code",
     "collapsed": false,
     "input": [
      "c = 10\n",
      "k = 'E'\n",
      "k = 'key: ' + k\n",
      "print(\"{}\".format(k))\n",
      "print('{0:>{1}}'.format(k, c))\n"
     ],
     "language": "python",
     "metadata": {},
     "outputs": [
      {
       "output_type": "stream",
       "stream": "stdout",
       "text": [
        "key: E\n",
        "    key: E\n"
       ]
      }
     ],
     "prompt_number": 105
    },
    {
     "cell_type": "code",
     "collapsed": false,
     "input": [],
     "language": "python",
     "metadata": {},
     "outputs": [],
     "prompt_number": 104
    },
    {
     "cell_type": "code",
     "collapsed": false,
     "input": [],
     "language": "python",
     "metadata": {},
     "outputs": []
    }
   ],
   "metadata": {}
  }
 ]
}