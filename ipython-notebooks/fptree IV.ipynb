{
 "metadata": {
  "name": ""
 },
 "nbformat": 3,
 "nbformat_minor": 0,
 "worksheets": [
  {
   "cells": [
    {
     "cell_type": "code",
     "collapsed": false,
     "input": [
      "import json as JSON\n",
      "import os\n",
      "import sys\n",
      "import itertools as IT\n",
      "from copy import deepcopy\n",
      "import collections as CL\n",
      "ddir = \"/Users/dougybarbo/Projects/fp-growth-for-frequent-itemsets\"\n",
      "import os\n",
      "os.chdir(ddir)"
     ],
     "language": "python",
     "metadata": {},
     "outputs": [],
     "prompt_number": 21
    },
    {
     "cell_type": "code",
     "collapsed": false,
     "input": [
      "s='C:3, BC:3, DE:3, ADE:3 , BE:3, ABE:3, AE:4, E:4, AD:4, ABD:3, AB:4, A:5, D:6, BD:4, B:6'\n",
      "target = s.split(', ')\n",
      "target = [itm.split(':') for itm in target]\n",
      "target = dict((t[0], int(t[1])) for t in target)\n",
      "target = {k:v for k, v in target.items() if len(k) > 1}\n",
      "len(target)"
     ],
     "language": "python",
     "metadata": {},
     "outputs": [
      {
       "metadata": {},
       "output_type": "pyout",
       "prompt_number": 22,
       "text": [
        "10"
       ]
      }
     ],
     "prompt_number": 22
    },
    {
     "cell_type": "code",
     "collapsed": false,
     "input": [
      "dataset = [\n",
      "\t['B', 'D', 'A', 'E'],\n",
      "\t['B', 'D', 'A', 'E', 'C'],\n",
      "\t['B', 'A', 'E', 'C'],\n",
      "\t['B', 'D', 'A'],\n",
      "\t['D'],\n",
      "\t['B', 'D'],\n",
      "\t['D', 'A', 'E'],\n",
      "\t['B', 'C']\n",
      "]"
     ],
     "language": "python",
     "metadata": {},
     "outputs": [],
     "prompt_number": 23
    },
    {
     "cell_type": "code",
     "collapsed": false,
     "input": [
      "import csv as CSV"
     ],
     "language": "python",
     "metadata": {},
     "outputs": [],
     "prompt_number": 24
    },
    {
     "cell_type": "code",
     "collapsed": false,
     "input": [
      "data_dir = os.path.join(ddir, \"data\")\n",
      "df = os.path.join(data_dir, \"sm_test1.csv\")\n",
      "with open(df, 'w', encoding='utf-8') as fh:\n",
      "    writer = CSV.writer(fh, delimiter=' ', quotechar='|', quoting=CSV.QUOTE_MINIMAL)\n",
      "    writer.writerows(dataset)"
     ],
     "language": "python",
     "metadata": {},
     "outputs": [],
     "prompt_number": 25
    },
    {
     "cell_type": "code",
     "collapsed": false,
     "input": [
      "with open(df, 'r', encoding='utf-8') as fh:\n",
      "    reader = CSV.reader(fh)\n",
      "    dataset = [line for line in reader]\n",
      "\n",
      "dataset"
     ],
     "language": "python",
     "metadata": {},
     "outputs": [
      {
       "metadata": {},
       "output_type": "pyout",
       "prompt_number": 35,
       "text": [
        "[['B D A E'],\n",
        " ['B D A E C'],\n",
        " ['B A E C'],\n",
        " ['B D A'],\n",
        " ['D'],\n",
        " ['B D'],\n",
        " ['D A E'],\n",
        " ['B C']]"
       ]
      }
     ],
     "prompt_number": 35
    },
    {
     "cell_type": "code",
     "collapsed": false,
     "input": [
      "def load_data(dfile=None, max_transactions=250):\n",
      "\timport random as RND\n",
      "\tif dfile and dfile.endswith('.csv'):\n",
      "\t\twith open(dfile, 'r', encoding='utf-8') as fh:\n",
      " \t\t\treader = CSV.reader(fh)\n",
      " \t\t\treturn [line for line in reader]\n",
      "\n",
      "\telif dfile and not dfile.endswith('.csv'):\n",
      "\t\twith open(dfile, \"r\", encoding=\"utf-8\") as fh:\n",
      "\t\t\tdata = [ line.strip().split(' ') for line in fh.readlines()\n",
      "\t\t\t\tif not line.startswith('#') ]\n",
      "\t\t\tRND.shuffle(data)\n",
      "\t\t\tdata = data[:max_transactions]\n",
      "\telse:\n",
      "\t\timport string\n",
      "\t\timport random as RND\n",
      "\t\tp = list(string.ascii_uppercase[:20])\n",
      "\t\tfnx = lambda: RND.randint(2, 10)\n",
      "\t\tdata = [ RND.sample(p, fnx()) for c in range(100000) ]\n",
      "\t\tRND.shuffle(data)\n",
      "\t\tif max_transactions & max_transactions < len(data):\n",
      "\t\t\treturn data[:max_transactions]\n",
      "\t\telse:\n",
      "\t\t\treturn data"
     ],
     "language": "python",
     "metadata": {},
     "outputs": [],
     "prompt_number": 39
    },
    {
     "cell_type": "code",
     "collapsed": false,
     "input": [
      "data = load_data(df)"
     ],
     "language": "python",
     "metadata": {},
     "outputs": [],
     "prompt_number": 40
    },
    {
     "cell_type": "code",
     "collapsed": false,
     "input": [
      "data"
     ],
     "language": "python",
     "metadata": {},
     "outputs": [],
     "prompt_number": 41
    },
    {
     "cell_type": "code",
     "collapsed": false,
     "input": [
      "%run fp_growth"
     ],
     "language": "python",
     "metadata": {},
     "outputs": [
      {
       "ename": "TypeError",
       "evalue": "object of type 'NoneType' has no len()",
       "output_type": "pyerr",
       "traceback": [
        "\u001b[0;31m---------------------------------------------------------------------------\u001b[0m\n\u001b[0;31mTypeError\u001b[0m                                 Traceback (most recent call last)",
        "\u001b[0;32m/usr/local/Frameworks/Python.framework/Versions/3.3/lib/python3.3/site-packages/IPython/utils/py3compat.py\u001b[0m in \u001b[0;36mexecfile\u001b[0;34m(fname, glob, loc)\u001b[0m\n\u001b[1;32m     98\u001b[0m         \u001b[0mloc\u001b[0m \u001b[0;34m=\u001b[0m \u001b[0mloc\u001b[0m \u001b[0;32mif\u001b[0m \u001b[0;34m(\u001b[0m\u001b[0mloc\u001b[0m \u001b[0;32mis\u001b[0m \u001b[0;32mnot\u001b[0m \u001b[0;32mNone\u001b[0m\u001b[0;34m)\u001b[0m \u001b[0;32melse\u001b[0m \u001b[0mglob\u001b[0m\u001b[0;34m\u001b[0m\u001b[0m\n\u001b[1;32m     99\u001b[0m         \u001b[0;32mwith\u001b[0m \u001b[0mopen\u001b[0m\u001b[0;34m(\u001b[0m\u001b[0mfname\u001b[0m\u001b[0;34m,\u001b[0m \u001b[0;34m'rb'\u001b[0m\u001b[0;34m)\u001b[0m \u001b[0;32mas\u001b[0m \u001b[0mf\u001b[0m\u001b[0;34m:\u001b[0m\u001b[0;34m\u001b[0m\u001b[0m\n\u001b[0;32m--> 100\u001b[0;31m             \u001b[0mexec\u001b[0m\u001b[0;34m(\u001b[0m\u001b[0mcompile\u001b[0m\u001b[0;34m(\u001b[0m\u001b[0mf\u001b[0m\u001b[0;34m.\u001b[0m\u001b[0mread\u001b[0m\u001b[0;34m(\u001b[0m\u001b[0;34m)\u001b[0m\u001b[0;34m,\u001b[0m \u001b[0mfname\u001b[0m\u001b[0;34m,\u001b[0m \u001b[0;34m'exec'\u001b[0m\u001b[0;34m)\u001b[0m\u001b[0;34m,\u001b[0m \u001b[0mglob\u001b[0m\u001b[0;34m,\u001b[0m \u001b[0mloc\u001b[0m\u001b[0;34m)\u001b[0m\u001b[0;34m\u001b[0m\u001b[0m\n\u001b[0m\u001b[1;32m    101\u001b[0m \u001b[0;34m\u001b[0m\u001b[0m\n\u001b[1;32m    102\u001b[0m     \u001b[0;31m# Refactor print statements in doctests.\u001b[0m\u001b[0;34m\u001b[0m\u001b[0;34m\u001b[0m\u001b[0m\n",
        "\u001b[0;32m/Users/dougybarbo/Projects/fp-growth-for-frequent-itemsets/fp_growth.py\u001b[0m in \u001b[0;36m<module>\u001b[0;34m()\u001b[0m\n\u001b[1;32m     56\u001b[0m \u001b[0mMIN_ITEMSET_LENGTH\u001b[0m \u001b[0;34m=\u001b[0m \u001b[0mconfigs\u001b[0m\u001b[0;34m[\u001b[0m\u001b[0;34m'min_itemset_length'\u001b[0m\u001b[0;34m]\u001b[0m\u001b[0;34m\u001b[0m\u001b[0m\n\u001b[1;32m     57\u001b[0m \u001b[0mdataset\u001b[0m \u001b[0;34m=\u001b[0m \u001b[0mload_data\u001b[0m\u001b[0;34m(\u001b[0m\u001b[0mconfigs\u001b[0m\u001b[0;34m[\u001b[0m\u001b[0;34m'data_file'\u001b[0m\u001b[0;34m]\u001b[0m\u001b[0;34m)\u001b[0m\u001b[0;34m\u001b[0m\u001b[0m\n\u001b[0;32m---> 58\u001b[0;31m \u001b[0mTRANS_COUNT\u001b[0m \u001b[0;34m=\u001b[0m \u001b[0mlen\u001b[0m\u001b[0;34m(\u001b[0m\u001b[0mdataset\u001b[0m\u001b[0;34m)\u001b[0m\u001b[0;34m\u001b[0m\u001b[0m\n\u001b[0m\u001b[1;32m     59\u001b[0m \u001b[0;34m\u001b[0m\u001b[0m\n\u001b[1;32m     60\u001b[0m \u001b[0;34m\u001b[0m\u001b[0m\n",
        "\u001b[0;31mTypeError\u001b[0m: object of type 'NoneType' has no len()"
       ]
      }
     ],
     "prompt_number": 37
    },
    {
     "cell_type": "code",
     "collapsed": false,
     "input": [
      "len(FIS)"
     ],
     "language": "python",
     "metadata": {},
     "outputs": [
      {
       "metadata": {},
       "output_type": "pyout",
       "prompt_number": 5,
       "text": [
        "10"
       ]
      }
     ],
     "prompt_number": 5
    },
    {
     "cell_type": "code",
     "collapsed": false,
     "input": [
      "fis, fis_cnt = create_fis_containers(FIS)\n",
      "fis_cnt"
     ],
     "language": "python",
     "metadata": {},
     "outputs": [
      {
       "metadata": {},
       "output_type": "pyout",
       "prompt_number": 6,
       "text": [
        "{'ABE': 3,\n",
        " 'ADE': 3,\n",
        " 'AE': 4,\n",
        " 'BA': 4,\n",
        " 'BC': 3,\n",
        " 'BD': 4,\n",
        " 'BDA': 3,\n",
        " 'BE': 3,\n",
        " 'DA': 4,\n",
        " 'DE': 3}"
       ]
      }
     ],
     "prompt_number": 6
    },
    {
     "cell_type": "code",
     "collapsed": false,
     "input": [
      "target"
     ],
     "language": "python",
     "metadata": {},
     "outputs": [
      {
       "metadata": {},
       "output_type": "pyout",
       "prompt_number": 8,
       "text": [
        "{'AB': 4,\n",
        " 'ABD': 3,\n",
        " 'ABE': 3,\n",
        " 'AD': 4,\n",
        " 'ADE': 3,\n",
        " 'AE': 4,\n",
        " 'BC': 3,\n",
        " 'BD': 4,\n",
        " 'BE': 3,\n",
        " 'DE': 3}"
       ]
      }
     ],
     "prompt_number": 8
    },
    {
     "cell_type": "code",
     "collapsed": false,
     "input": [
      "print(sum(target.values()))\n",
      "print(sum(fis_cnt.values()))"
     ],
     "language": "python",
     "metadata": {},
     "outputs": [
      {
       "output_type": "stream",
       "stream": "stdout",
       "text": [
        "34\n",
        "34\n"
       ]
      }
     ],
     "prompt_number": 9
    },
    {
     "cell_type": "code",
     "collapsed": false,
     "input": [
      "fis_cnt.keys() - target.keys()"
     ],
     "language": "python",
     "metadata": {},
     "outputs": [
      {
       "metadata": {},
       "output_type": "pyout",
       "prompt_number": 10,
       "text": [
        "{'BA', 'BDA', 'DA'}"
       ]
      }
     ],
     "prompt_number": 10
    },
    {
     "cell_type": "code",
     "collapsed": false,
     "input": [
      "target.keys() - fis_cnt.keys()"
     ],
     "language": "python",
     "metadata": {},
     "outputs": [
      {
       "metadata": {},
       "output_type": "pyout",
       "prompt_number": 11,
       "text": [
        "{'AB', 'ABD', 'AD'}"
       ]
      }
     ],
     "prompt_number": 11
    },
    {
     "cell_type": "code",
     "collapsed": false,
     "input": [
      "del target['AB']\n",
      "del target['ABD']\n",
      "del target['AD']"
     ],
     "language": "python",
     "metadata": {},
     "outputs": [],
     "prompt_number": 12
    },
    {
     "cell_type": "code",
     "collapsed": false,
     "input": [
      "target['BA'] = 4\n",
      "target['BDA'] = 3\n",
      "target['DA'] = 4"
     ],
     "language": "python",
     "metadata": {},
     "outputs": [],
     "prompt_number": 13
    },
    {
     "cell_type": "code",
     "collapsed": false,
     "input": [
      "target.keys() - fis_cnt.keys()"
     ],
     "language": "python",
     "metadata": {},
     "outputs": [
      {
       "metadata": {},
       "output_type": "pyout",
       "prompt_number": 14,
       "text": [
        "set()"
       ]
      }
     ],
     "prompt_number": 14
    },
    {
     "cell_type": "code",
     "collapsed": false,
     "input": [
      "df = \"/Users/dougybarbo/Projects/fp-growth-for-frequent-itemsets/data/sm_test1.csv\"\n",
      "os.path.exists(df)"
     ],
     "language": "python",
     "metadata": {},
     "outputs": [
      {
       "metadata": {},
       "output_type": "pyout",
       "prompt_number": 30,
       "text": [
        "True"
       ]
      }
     ],
     "prompt_number": 30
    },
    {
     "cell_type": "code",
     "collapsed": false,
     "input": [
      "if df.endswith('.csv'):\n",
      "    print('ok!')"
     ],
     "language": "python",
     "metadata": {},
     "outputs": [
      {
       "output_type": "stream",
       "stream": "stdout",
       "text": [
        "ok!\n"
       ]
      }
     ],
     "prompt_number": 33
    },
    {
     "cell_type": "code",
     "collapsed": false,
     "input": [
      "def get_configs(config_fname):\n",
      "\tconfig_file = os.path.expanduser(config_fname)\n",
      "\twith open(config_file, 'r', encoding='utf-8') as fh:\n",
      "\t\treturn JSON.load(fh)"
     ],
     "language": "python",
     "metadata": {},
     "outputs": [],
     "prompt_number": 2
    },
    {
     "cell_type": "code",
     "collapsed": false,
     "input": [
      "def load_data(dfile=None, max_transactions=250):\n",
      "\timport random as RND\n",
      "\tif dfile:\n",
      "\t\twith open(dfile, \"r\", encoding=\"utf-8\") as fh:\n",
      "\t\t\tdata = [ line.strip().split(' ') for line in fh.readlines()\n",
      "\t\t\t\tif not line.startswith('#') ]\n",
      "\t\t\tRND.shuffle(data)\n",
      "\t\t\tdata = data[:max_transactions]\n",
      "\telse:\n",
      "\t\timport string\n",
      "\t\timport random as RND\n",
      "\t\tp = list(string.ascii_uppercase[:20])\n",
      "\t\tfnx = lambda: RND.randint(2, 10)\n",
      "\t\tdata = [ RND.sample(p, fnx()) for c in range(100000) ]\n",
      "\t\tRND.shuffle(data)\n",
      "\t\tif max_transactions & max_transactions < len(data):\n",
      "\t\t\treturn data[:max_transactions]\n",
      "\t\telse:\n",
      "\t\t\treturn data"
     ],
     "language": "python",
     "metadata": {},
     "outputs": [],
     "prompt_number": 3
    },
    {
     "cell_type": "code",
     "collapsed": false,
     "input": [
      "import fptree_build as FPT"
     ],
     "language": "python",
     "metadata": {},
     "outputs": [],
     "prompt_number": 6
    },
    {
     "cell_type": "code",
     "collapsed": false,
     "input": [
      "configs_filename = \"~/Projects/fp-growth-for-frequent-itemsets/config.json\"\n",
      "configs = get_configs(configs_filename)\n",
      "MIN_SPT = configs['min_support']\n",
      "MIN_ITEMSET_LENGTH = configs['min_itemset_length']\n",
      "dataset = load_data()\n",
      "TRANS_COUNT = len(dataset)\n",
      "SORT_KEY=FPT.get_sort_key(dataset)"
     ],
     "language": "python",
     "metadata": {},
     "outputs": [],
     "prompt_number": 7
    },
    {
     "cell_type": "code",
     "collapsed": false,
     "input": [],
     "language": "python",
     "metadata": {},
     "outputs": [],
     "prompt_number": 7
    },
    {
     "cell_type": "code",
     "collapsed": false,
     "input": [
      "item_count = FPT.item_counter(dataset)"
     ],
     "language": "python",
     "metadata": {},
     "outputs": [],
     "prompt_number": 9
    },
    {
     "cell_type": "code",
     "collapsed": false,
     "input": [
      "excluded_items = FPT.get_items_below_min_spt(dataset, MIN_SPT, TRANS_COUNT)"
     ],
     "language": "python",
     "metadata": {},
     "outputs": [],
     "prompt_number": 10
    },
    {
     "cell_type": "code",
     "collapsed": false,
     "input": [],
     "language": "python",
     "metadata": {},
     "outputs": [],
     "prompt_number": 10
    },
    {
     "cell_type": "code",
     "collapsed": false,
     "input": [
      "dataset, item_count = FPT.filter_by_min_spt(dataset, item_count, MIN_SPT, TRANS_COUNT)"
     ],
     "language": "python",
     "metadata": {},
     "outputs": [],
     "prompt_number": 12
    },
    {
     "cell_type": "code",
     "collapsed": false,
     "input": [],
     "language": "python",
     "metadata": {},
     "outputs": []
    },
    {
     "cell_type": "code",
     "collapsed": false,
     "input": [],
     "language": "python",
     "metadata": {},
     "outputs": []
    },
    {
     "cell_type": "code",
     "collapsed": false,
     "input": [],
     "language": "python",
     "metadata": {},
     "outputs": []
    },
    {
     "cell_type": "code",
     "collapsed": false,
     "input": [
      "def item_counter(dataset):\n",
      "    trans_flat = [item for trans in dataset for item in trans]\n",
      "    ic = CL.defaultdict(int)\n",
      "    for item in trans_flat:\n",
      "        ic[item] += 1\n",
      "    return ic"
     ],
     "language": "python",
     "metadata": {},
     "outputs": [],
     "prompt_number": 6
    },
    {
     "cell_type": "code",
     "collapsed": false,
     "input": [
      "MIN_SPT = 0.35\n",
      "ic = item_counter(dataset)\n",
      "ic = {k:v for k, v in ic.items() if (v/TRANS_COUNT) < MIN_SPT}"
     ],
     "language": "python",
     "metadata": {},
     "outputs": [],
     "prompt_number": 12
    },
    {
     "cell_type": "code",
     "collapsed": false,
     "input": [
      "ic = item_counter(dataset)\n",
      "for k, v in ic.items():\n",
      "    w = v/TRANS_COUNT\n",
      "    if w < MIN_SPT:\n",
      "        print(w)"
     ],
     "language": "python",
     "metadata": {},
     "outputs": [
      {
       "output_type": "stream",
       "stream": "stdout",
       "text": [
        "0.328\n",
        "0.252\n",
        "0.308\n",
        "0.316\n",
        "0.332\n",
        "0.34\n",
        "0.284\n",
        "0.304\n",
        "0.328\n",
        "0.256\n",
        "0.232\n",
        "0.308\n",
        "0.308\n",
        "0.296\n",
        "0.3\n",
        "0.272\n",
        "0.34\n",
        "0.288\n"
       ]
      }
     ],
     "prompt_number": 13
    },
    {
     "cell_type": "code",
     "collapsed": false,
     "input": [],
     "language": "python",
     "metadata": {},
     "outputs": []
    },
    {
     "cell_type": "code",
     "collapsed": false,
     "input": [
      "ic.values()"
     ],
     "language": "python",
     "metadata": {},
     "outputs": [
      {
       "metadata": {},
       "output_type": "pyout",
       "prompt_number": 44,
       "text": [
        "dict_values([81, 79, 70, 87, 90, 83, 71, 85, 90, 86, 82, 68, 67, 69, 68, 76, 80, 72, 67, 68])"
       ]
      }
     ],
     "prompt_number": 44
    },
    {
     "cell_type": "code",
     "collapsed": false,
     "input": [
      "def get_items_below_min_spt(dataset, item_count, min_spt, trans_count):\n",
      "    item_count = item_counter(dataset)\n",
      "    ic = {k:v for k, v in item_count.items() if (v/trans_count) < min_spt}\n",
      "    return list(ic.keys())"
     ],
     "language": "python",
     "metadata": {},
     "outputs": [],
     "prompt_number": 45
    },
    {
     "cell_type": "heading",
     "level": 3,
     "metadata": {},
     "source": [
      "test for accurate mining of the fp-tree"
     ]
    },
    {
     "cell_type": "code",
     "collapsed": false,
     "input": [
      "# target = ['ADE:3', 'ABE:3', 'BC:3', 'BE:3', 'BD:4', 'BA:4', 'BDA:3', 'DA:4', 'DE:3', 'AE:4']\n",
      "# target = set(target)\n",
      "# FIS = set(FIS)\n",
      "\n",
      "# print(FIS - target)\n",
      "# print(target - FIS)"
     ],
     "language": "python",
     "metadata": {},
     "outputs": [],
     "prompt_number": 41
    },
    {
     "cell_type": "code",
     "collapsed": false,
     "input": [
      "import re\n",
      "p = r'^(A.*?)$'\n",
      "po = re.compile(p)\n",
      "\n",
      "s = 'ABE:3'.split(':')[0]\n",
      "m = po.search(s)\n",
      "if m:\n",
      "    print(m.group(1))"
     ],
     "language": "python",
     "metadata": {},
     "outputs": [
      {
       "output_type": "stream",
       "stream": "stdout",
       "text": [
        "ABE\n"
       ]
      }
     ],
     "prompt_number": 42
    },
    {
     "cell_type": "code",
     "collapsed": false,
     "input": [
      "def itemsets_begin_with():\n",
      "    p = r'^(A.*?)$'\n",
      "    po = re.compile(p)\n",
      "    for line in FIS:\n",
      "        m = po.search(line)\n",
      "        if m:\n",
      "            print(m.group(1))\n",
      "            \n",
      "itemsets_begin_with()\n",
      "\n",
      "def itemsets_begin_with(probe):\n",
      "    return [ line for line in FIS if line.startswith(probe) ]\n"
     ],
     "language": "python",
     "metadata": {},
     "outputs": [
      {
       "output_type": "stream",
       "stream": "stdout",
       "text": [
        "AE:488\n"
       ]
      }
     ],
     "prompt_number": 43
    },
    {
     "cell_type": "code",
     "collapsed": false,
     "input": [
      "def itemset_begins_with(probe, fis = FIS):\n",
      "    p = r\" \" + re.escape(probe) + r\"\"\n",
      "    p = r\"{} {} {} \".format(a, b, c)\n",
      "    po = re.compile(p)\n",
      "    po.findall"
     ],
     "language": "python",
     "metadata": {},
     "outputs": [],
     "prompt_number": 44
    },
    {
     "cell_type": "code",
     "collapsed": false,
     "input": [],
     "language": "python",
     "metadata": {},
     "outputs": [],
     "prompt_number": 55
    },
    {
     "cell_type": "code",
     "collapsed": false,
     "input": [],
     "language": "python",
     "metadata": {},
     "outputs": []
    },
    {
     "cell_type": "code",
     "collapsed": false,
     "input": [
      "import re\n",
      "p = r'^([A-Z][^A-Z])$'\n",
      "p = r'^([A-Z]?)(?![A-Z])'\n",
      "po = re.compile(p)\n",
      "\n",
      "fis = [ itm for itm in FIS if not po.search(itm) ]\n",
      "\n",
      "p1 = r'\\d'\n",
      "po1 = re.compile(p1)\n",
      "\n",
      "fis = [ po1.sub('', itm) for itm in fis ]"
     ],
     "language": "python",
     "metadata": {},
     "outputs": [],
     "prompt_number": 45
    },
    {
     "cell_type": "code",
     "collapsed": false,
     "input": [
      "tg = '''C:3, BC:3, DE:3, ADE:3 , BE:3, ABE:3, AE:4, E:4, AD:4, ABD:3, AB:4, A:5, \n",
      "D:6, BD:4, B:6'''.split(', ')\n",
      "\n",
      "tg1 = [ s.strip().split(':') for s in tg ]\n",
      "tg1 = dict([ (lx[0], int(lx[1])) for lx in tg1 ])\n",
      "t = list(tg1.keys())\n",
      "t = [ (itm, len(itm)) for itm in t ]\n",
      "\n",
      "from operator import itemgetter, attrgetter\n",
      "t1 = sorted(t, key=itemgetter(1))\n",
      "t2 = { k:v for k, v in t if len(k) > 1}\n",
      "trg1 = list(t2.keys())\n",
      "trg = t2"
     ],
     "language": "python",
     "metadata": {},
     "outputs": [],
     "prompt_number": 46
    },
    {
     "cell_type": "code",
     "collapsed": false,
     "input": [
      "def sort_seq(seq, sort_key=FPT.SORT_KEY):\n",
      "    fnx = lambda q: sorted(q, key=sort_key.__getitem__)\n",
      "    return fnx(seq)\n",
      "\n",
      "# fis1 = list(fis1)\n",
      "# fis1 = [ ''.join(sort_seq(list(itm))) for itm in fis1 ]\n",
      "# fis1 = set(fis1)\n",
      "\n",
      "# trg1 = [ ''.join(sort_seq(list(itm))) for itm in trg1 ]\n",
      "# trg1 = set(trg1)\n",
      "\n",
      "# the dictionary representation of frequent itemsets for the target: trg"
     ],
     "language": "python",
     "metadata": {},
     "outputs": [],
     "prompt_number": 47
    },
    {
     "cell_type": "code",
     "collapsed": false,
     "input": [
      "\n",
      "# print(\"items in target NOT in result: {}\".format(trg1 - fis1))\n",
      "# print(\"items in result NOT in target: {}\".format(fis1 - trg1))"
     ],
     "language": "python",
     "metadata": {},
     "outputs": [],
     "prompt_number": 48
    },
    {
     "cell_type": "code",
     "collapsed": false,
     "input": [
      "def sort_fis1(adict):\n",
      "    \"\"\"\n",
      "    returns:\n",
      "        the same dict passed in except that the items comprising the key\n",
      "        are ordered according to some sort key\n",
      "    \n",
      "    pass in:\n",
      "        a dict in which keys are frequent itemsets & values are frequency, \n",
      "        eg 'BC':3\n",
      "    \"\"\"\n",
      "    def sort_seq(seq, sort_key=FPT.sort_key):\n",
      "        fnx = lambda q: sorted(q, key=sort_key.__getitem__)\n",
      "        return fnx(seq)\n",
      "    r0 = adict.items()\n",
      "    kx = [t[0] for t in r0]\n",
      "    vx = [t[1] for t in r0]\n",
      "    kx = list(kx)\n",
      "    kx = [ ''.join(sort_seq(list(itm))) for itm in fis1 ]\n",
      "    return dict(zip(kx, vx))\n",
      "\n",
      "\n",
      "def sort_fis(path_str, sort_key=FPT.SORT_KEY):\n",
      "    fnx = lambda q: sorted(q, key=sort_key.__getitem__)\n",
      "    return ''.join(fnx(list(path_str)))\n",
      "\n",
      "\n",
      "# res = sort_fis1(res)\n",
      "# trg = sort_fis1(trg)"
     ],
     "language": "python",
     "metadata": {},
     "outputs": [],
     "prompt_number": 49
    },
    {
     "cell_type": "code",
     "collapsed": false,
     "input": [
      "def sort_fis(path_str, sort_key=FPT.SORT_KEY):\n",
      "    fnx = lambda q: sorted(q, key=sort_key.__getitem__)\n",
      "    return ''.join(fnx(list(path_str)))"
     ],
     "language": "python",
     "metadata": {},
     "outputs": [],
     "prompt_number": 51
    },
    {
     "cell_type": "code",
     "collapsed": false,
     "input": [
      "dfile = \"/Users/dougybarbo/Projects/fp-growth-for-frequent-itemsets/data/twitter-1.csv\""
     ],
     "language": "python",
     "metadata": {},
     "outputs": [],
     "prompt_number": 52
    },
    {
     "cell_type": "code",
     "collapsed": false,
     "input": [
      "with open(dfile, \"r\", encoding=\"utf-8\") as fh:\n",
      "\tpdata = [ map(int, line.strip().split(',')) for line in fh.readlines() ][:100]"
     ],
     "language": "python",
     "metadata": {},
     "outputs": [],
     "prompt_number": 53
    },
    {
     "cell_type": "code",
     "collapsed": false,
     "input": [
      "import string\n",
      "dx = {k:v for v, k in enumerate(string.ascii_letters[:5])}  "
     ],
     "language": "python",
     "metadata": {},
     "outputs": [],
     "prompt_number": 54
    },
    {
     "cell_type": "code",
     "collapsed": false,
     "input": [
      "dx"
     ],
     "language": "python",
     "metadata": {},
     "outputs": [
      {
       "metadata": {},
       "output_type": "pyout",
       "prompt_number": 30,
       "text": [
        "{'a': 0, 'b': 1, 'c': 2, 'd': 3, 'e': 4}"
       ]
      }
     ],
     "prompt_number": 30
    },
    {
     "cell_type": "code",
     "collapsed": false,
     "input": [
      "# fis_all = [ fis.key() for fis in FIS ]\n"
     ],
     "language": "python",
     "metadata": {},
     "outputs": [],
     "prompt_number": 31
    },
    {
     "cell_type": "code",
     "collapsed": false,
     "input": [
      "def create_fis_containers(FIS):\n",
      "    fis_all = [itm.strip().split(':') for itm in FIS]\n",
      "    fis =  [list(t[0]) for t in fis_all]\n",
      "    fis_cnt = {k:v for k, v in fis_all}\n",
      "    return fis, fis_cnt"
     ],
     "language": "python",
     "metadata": {},
     "outputs": [],
     "prompt_number": 55
    },
    {
     "cell_type": "code",
     "collapsed": false,
     "input": [
      "fis, fis_cnt = create_fis_containers(FIS)"
     ],
     "language": "python",
     "metadata": {},
     "outputs": [],
     "prompt_number": 56
    },
    {
     "cell_type": "code",
     "collapsed": false,
     "input": [
      "len(fis)"
     ],
     "language": "python",
     "metadata": {},
     "outputs": [
      {
       "metadata": {},
       "output_type": "pyout",
       "prompt_number": 57,
       "text": [
        "22"
       ]
      }
     ],
     "prompt_number": 57
    },
    {
     "cell_type": "code",
     "collapsed": false,
     "input": [
      "fis_cnt.keys()"
     ],
     "language": "python",
     "metadata": {},
     "outputs": [
      {
       "metadata": {},
       "output_type": "pyout",
       "prompt_number": 59,
       "text": [
        "dict_keys(['BCAE', 'DA', 'BE', 'DAE', 'BCD', 'BDE', 'AE', 'BCE', 'BDA', 'CAE', 'BC', 'CBDA', 'BA', 'CDA', 'CE', 'DCE', 'BD', 'DE', 'CA', 'BAE', 'CD', 'CBA'])"
       ]
      }
     ],
     "prompt_number": 59
    },
    {
     "cell_type": "code",
     "collapsed": false,
     "input": [
      "print(len(fis))\n",
      "fis[0]"
     ],
     "language": "python",
     "metadata": {},
     "outputs": [
      {
       "output_type": "stream",
       "stream": "stdout",
       "text": [
        "22\n"
       ]
      },
      {
       "metadata": {},
       "output_type": "pyout",
       "prompt_number": 60,
       "text": [
        "['B', 'A']"
       ]
      }
     ],
     "prompt_number": 60
    },
    {
     "cell_type": "code",
     "collapsed": false,
     "input": [
      "fis = [set(itm) for itm in fis]"
     ],
     "language": "python",
     "metadata": {},
     "outputs": [],
     "prompt_number": 68
    },
    {
     "cell_type": "code",
     "collapsed": false,
     "input": [
      "F1 = fis_cnt.keys()"
     ],
     "language": "python",
     "metadata": {},
     "outputs": [],
     "prompt_number": 62
    },
    {
     "cell_type": "code",
     "collapsed": false,
     "input": [
      "F1"
     ],
     "language": "python",
     "metadata": {},
     "outputs": [
      {
       "metadata": {},
       "output_type": "pyout",
       "prompt_number": 64,
       "text": [
        "dict_keys(['BCAE', 'DA', 'BE', 'DAE', 'BCD', 'BDE', 'AE', 'BCE', 'BDA', 'CAE', 'BC', 'CBDA', 'BA', 'CDA', 'CE', 'DCE', 'BD', 'DE', 'CA', 'BAE', 'CD', 'CBA'])"
       ]
      }
     ],
     "prompt_number": 64
    },
    {
     "cell_type": "code",
     "collapsed": false,
     "input": [
      "q = list('DA')\n",
      "q = set(q)\n",
      "\n",
      "res = [ itm & q for itm in fis]\n",
      "fis[10] & q"
     ],
     "language": "python",
     "metadata": {},
     "outputs": [
      {
       "metadata": {},
       "output_type": "pyout",
       "prompt_number": 80,
       "text": [
        "{'D'}"
       ]
      }
     ],
     "prompt_number": 80
    },
    {
     "cell_type": "code",
     "collapsed": false,
     "input": [
      "F1 = list(F1)"
     ],
     "language": "python",
     "metadata": {},
     "outputs": [],
     "prompt_number": 81
    },
    {
     "cell_type": "code",
     "collapsed": false,
     "input": [
      "import re\n",
      "\n",
      "q = 'DA'\n",
      "p = r'^({}\\w+)$'.format(re.escape(q))\n",
      "po = re.compile(p)\n",
      "\n",
      "s = 'DABEAC'\n",
      "\n",
      "\n",
      "m = po.search(s)\n",
      "if m:\n",
      "    print(m.group(1))"
     ],
     "language": "python",
     "metadata": {},
     "outputs": [
      {
       "output_type": "stream",
       "stream": "stdout",
       "text": [
        "DABEAC\n"
       ]
      }
     ],
     "prompt_number": 1
    },
    {
     "cell_type": "code",
     "collapsed": false,
     "input": [],
     "language": "python",
     "metadata": {},
     "outputs": [
      {
       "metadata": {},
       "output_type": "pyout",
       "prompt_number": 86,
       "text": [
        "'^DA\\\\w+$'"
       ]
      }
     ],
     "prompt_number": 86
    },
    {
     "cell_type": "code",
     "collapsed": false,
     "input": [
      "%run fptree_mine"
     ],
     "language": "python",
     "metadata": {},
     "outputs": [],
     "prompt_number": 21
    },
    {
     "cell_type": "code",
     "collapsed": false,
     "input": [
      "%run fptree_query"
     ],
     "language": "python",
     "metadata": {},
     "outputs": [],
     "prompt_number": 26
    },
    {
     "cell_type": "code",
     "collapsed": false,
     "input": [
      "fis, fis_cnt = create_fis_containers()"
     ],
     "language": "python",
     "metadata": {},
     "outputs": [],
     "prompt_number": 27
    },
    {
     "cell_type": "code",
     "collapsed": false,
     "input": [
      "len(fis)"
     ],
     "language": "python",
     "metadata": {},
     "outputs": [
      {
       "metadata": {},
       "output_type": "pyout",
       "prompt_number": 28,
       "text": [
        "0"
       ]
      }
     ],
     "prompt_number": 28
    },
    {
     "cell_type": "code",
     "collapsed": false,
     "input": [
      "len(FIS)"
     ],
     "language": "python",
     "metadata": {},
     "outputs": [
      {
       "metadata": {},
       "output_type": "pyout",
       "prompt_number": 29,
       "text": [
        "0"
       ]
      }
     ],
     "prompt_number": 29
    },
    {
     "cell_type": "code",
     "collapsed": false,
     "input": [
      "df = \"/Users/dougybarbo/Projects/fp-growth-for-frequent-itemsets/data/msnbc.dat\"\n",
      "import os\n",
      "import sys\n",
      "os.path.exists(df)"
     ],
     "language": "python",
     "metadata": {},
     "outputs": [
      {
       "metadata": {},
       "output_type": "pyout",
       "prompt_number": 27,
       "text": [
        "True"
       ]
      }
     ],
     "prompt_number": 27
    },
    {
     "cell_type": "code",
     "collapsed": false,
     "input": [
      "configs = get_configs()"
     ],
     "language": "python",
     "metadata": {},
     "outputs": [],
     "prompt_number": 7
    },
    {
     "cell_type": "code",
     "collapsed": false,
     "input": [
      "import csv as CSV\n",
      "csv_file = \"/Users/dougybarbo/Projects/fp-growth-for-frequent-itemsets/data/syn_data_1e5.csv\"\n",
      "with open(csv_file, 'w', encoding='utf-8') as fh:\n",
      "    writer = CSV.writer(fh, delimiter=',', quotechar='|', quoting=CSV.QUOTE_MINIMAL)\n",
      "    writer.writerows(data)"
     ],
     "language": "python",
     "metadata": {},
     "outputs": [],
     "prompt_number": 26
    },
    {
     "cell_type": "code",
     "collapsed": false,
     "input": [],
     "language": "python",
     "metadata": {},
     "outputs": []
    }
   ],
   "metadata": {}
  }
 ]
}