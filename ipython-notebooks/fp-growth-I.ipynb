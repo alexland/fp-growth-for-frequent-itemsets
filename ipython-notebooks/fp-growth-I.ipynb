{
 "metadata": {
  "name": ""
 },
 "nbformat": 3,
 "nbformat_minor": 0,
 "worksheets": [
  {
   "cells": [
    {
     "cell_type": "code",
     "collapsed": false,
     "input": [
      "import os\n",
      "import sys\n",
      "import collections as CL\n",
      "from operator import itemgetter\n",
      "from functools import partial\n",
      "import itertools as IT\n",
      "import py"
     ],
     "language": "python",
     "metadata": {},
     "outputs": [],
     "prompt_number": 2
    },
    {
     "cell_type": "code",
     "collapsed": false,
     "input": [
      "class TreeNode:\n",
      "\n",
      "\tdef __init__(self, node_name, parent_node):\n",
      "\t\tself.name = node_name\n",
      "\t\tself.node_link = None\n",
      "\t\tself.count = 1\n",
      "\t\tself.parent = parent_node\n",
      "\t\tself.children = {} \n",
      "\n",
      "\tdef incr(self, freq=1):\n",
      "\t\tself.count += freq "
     ],
     "language": "python",
     "metadata": {},
     "outputs": [],
     "prompt_number": 4
    },
    {
     "cell_type": "markdown",
     "metadata": {},
     "source": [
      "to initialize an fp-tree, just call the constructor, and bind the instance to some variable like _fptree_; this creates the root node"
     ]
    },
    {
     "cell_type": "code",
     "collapsed": false,
     "input": [
      "fptree = TreeNode(node_name='root', parent_node=None)"
     ],
     "language": "python",
     "metadata": {},
     "outputs": [],
     "prompt_number": 6
    },
    {
     "cell_type": "markdown",
     "metadata": {},
     "source": [
      "to add a transaction to the fp-tree, add one node at a time, each node representing an item in the transaction; each node is a child node of the antecedent:"
     ]
    },
    {
     "cell_type": "code",
     "collapsed": false,
     "input": [
      "fptree.children['node_name'] = TreeNode('node_name', None)"
     ],
     "language": "python",
     "metadata": {},
     "outputs": [],
     "prompt_number": 7
    },
    {
     "cell_type": "code",
     "collapsed": false,
     "input": [
      "def add_nodes(trans, header_table, parent_node):\n",
      "\t\"\"\"\n",
      "\tpass in: \n",
      "\t\ta transaction (list), \n",
      "\t\theader table (dict)\n",
      "\t\tparent_node (instance of class TreeNode);\n",
      "\treturns: nothing, converts a single transaction to\n",
      "\t\tnodes (or increments counts if exists)\n",
      "\t\"\"\"\n",
      "\twhile len(trans) > 0:\n",
      "\t\titm = trans.pop(0)\n",
      "\t\t# does this item appear in the same route?\n",
      "\t\tif itm in parent_node.children.keys():\n",
      "\t\t\tparent_node.children[itm].incr()\n",
      "\t\telse:\n",
      "\t\t\t# create the node & add it to the tree\n",
      "\t\t\tparent_node.children[itm] = TreeNode(itm, parent_node)\n",
      "\t\t\tthis_node = parent_node.children[itm]\n",
      "\t\t\ttry:\n",
      "\t\t\t\t# is there at least one node pointer for this itm \n",
      "\t\t\t\t# in the header table?\n",
      "\t\t\t\t# ie, does this item appear in another route, or\n",
      "\t\t\t\theader_table[itm][1]\n",
      "\t\t\t\t# if so:\n",
      "\t\t\t\theader_table[itm][-1].node_link = this_node\n",
      "\t\t\t\theader_table[itm].append(this_node)\n",
      "\t\t\texcept IndexError:\n",
      "\t\t\t\t# this is the 1st time this itm is seen by this fn\n",
      "\t\t\t\t# ie, no node pointer for this item in h/t, so add it\n",
      "\t\t\t\theader_table[itm].append(this_node)\n",
      "\t\tthis_node = parent_node.children[itm]\n",
      "\t\tadd_nodes(trans, header_table, this_node)"
     ],
     "language": "python",
     "metadata": {},
     "outputs": [],
     "prompt_number": 8
    },
    {
     "cell_type": "markdown",
     "metadata": {},
     "source": [
      "so to build an fptree\n",
      "\n",
      "I. call _config_fptree_builder_, passing in the raw data;\n",
      "this returns\n",
      "    \n",
      "    (i) an empty header table (consisting of keys and its cumulative count); and \n",
      "   \n",
      "    (ii) data processed to build the tree, next\n",
      "    \n",
      "    \n",
      "II. call _build_fptree_ (unbound since it returns nothing) passing in the two paramaters returned from the previous call to _config_fptree_builder_"
     ]
    },
    {
     "cell_type": "code",
     "collapsed": false,
     "input": [
      "def config_fptree_builder(data):\n",
      "\t\"\"\"\n",
      "\treturns: header table & data for input to build_tree;\n",
      "\tpass in: raw data (nested list of transactions);\n",
      "\t\"\"\"\n",
      "\tdata = [ set(trans) for trans in data ]\n",
      "\t# flatten the data (from list of sets to list of items)\n",
      "\ttrans_flat = [itm for trans in data for itm in trans]\n",
      "\t# get frequency of each item\n",
      "\titem_counter = CL.defaultdict(int)\n",
      "\tfor itm in trans_flat:\n",
      "\t\titem_counter[itm] += 1\n",
      "\t# to sort by decr frequency, then secondary (alpha) sort by key (incr),\n",
      "\t# sort first by secondary key, then again by primary key\n",
      "\titem_counter = sorted([(k, v) for k, v in item_counter.items()], \n",
      "\t\tkey=itemgetter(0))\n",
      "\titem_counter = sorted(item_counter, key=itemgetter(1), reverse=True)\n",
      "\t# list of items sorted by decreasing frequency\n",
      "\tfi = [t[1] for t in item_counter]\n",
      "\t# now use 'fi' to reorder the original data so that the \n",
      "\t# items w/in each transaction are sorted by decreasing frequency:\n",
      "\titem_counter_orddict = CL.OrderedDict([ (t[1], t[0]) for t in item_counter ])\n",
      "\tfnx = lambda q: (item_counter_orddict[q], q)\n",
      "\t# transactions (data rows) sorted in frequency order\n",
      "\t# the contents in this container are used to build the fptree\n",
      "\t# return data w/ correct itm orering w/in transactions \n",
      "\ttransactions = [ sorted([fnx(itm) for itm in data[i]], reverse=True) \n",
      "\t\tfor i in range(len(data)) ]\n",
      "\t# now remove the sort key from each transaction item\n",
      "\t#'transactions' is the 'normalized' dataset; and\n",
      "\t# is used to build the fptree\n",
      "\ttransactions = [ [t[1] for t in transactions[i]] \n",
      "\t\tfor i in range(len(transactions)) ]\n",
      "\t# build header table from freq_items w/ empty placeholders for node pointer\n",
      "\thtable = CL.defaultdict(list)\n",
      "\tfor k in item_counter_orddict.keys():\n",
      "\t    htable[k].append(item_counter_orddict[k])\n",
      "\treturn htable, transactions"
     ],
     "language": "python",
     "metadata": {},
     "outputs": [],
     "prompt_number": 90
    },
    {
     "cell_type": "code",
     "collapsed": false,
     "input": [
      "def build_fptree(transactions):\n",
      "\t\"\"\"\n",
      "\tpass in: \n",
      "\t\traw data (list of transactions; one transcation per list)\n",
      "\treturns: fptree;\n",
      "\tinstantiates fptree and builds it by calling 'add_node';\n",
      "\twhen called, bind result to eg, 'fptree'\n",
      "\t\"\"\"\n",
      "\tfptree = TreeNode('root', None)\n",
      "\troot = fptree\n",
      "\theader_table, transactions = config_fptree_builder(transactions)\n",
      "\tfor trans in transactions:\n",
      "\t\tadd_nodes(trans, header_table, root)\n",
      "\theader_table = {k:v[:2] for k, v in header_table.items()}\n",
      "\treturn fptree, header_table"
     ],
     "language": "python",
     "metadata": {},
     "outputs": [],
     "prompt_number": 91
    },
    {
     "cell_type": "code",
     "collapsed": false,
     "input": [
      "data = [['B', 'E', 'A', 'D'],\n",
      " ['B', 'A', 'C', 'E', 'D'],\n",
      " ['B', 'E', 'A', 'C'],\n",
      " ['B', 'A', 'D'],\n",
      " ['D'],\n",
      " ['B', 'D'],\n",
      " ['A', 'E', 'D'],\n",
      " ['B', 'C']]"
     ],
     "language": "python",
     "metadata": {},
     "outputs": [],
     "prompt_number": 92
    },
    {
     "cell_type": "code",
     "collapsed": false,
     "input": [
      "tx"
     ],
     "language": "python",
     "metadata": {},
     "outputs": [
      {
       "metadata": {},
       "output_type": "pyout",
       "prompt_number": 157,
       "text": [
        "[['E', 'B', 'D', 'A'],\n",
        " ['E', 'A', 'D', 'C', 'B'],\n",
        " ['C', 'E', 'B', 'A'],\n",
        " ['A', 'B', 'D'],\n",
        " ['D'],\n",
        " ['D', 'B'],\n",
        " ['D', 'A', 'E'],\n",
        " ['B', 'C']]"
       ]
      }
     ],
     "prompt_number": 157
    },
    {
     "cell_type": "code",
     "collapsed": false,
     "input": [
      "def build_fptree(transactions):\n",
      "\t\"\"\"\n",
      "\tpass in: \n",
      "\t\traw data (list of transactions; one transcation per list)\n",
      "\treturns: fptree;\n",
      "\tinstantiates fptree and builds it by calling 'add_node';\n",
      "\twhen called, bind result to 2 variables: one for thetree;\n",
      "\tthe second for for the header table;\n",
      "\t\"\"\"\n",
      "\tfptree = TreeNode('root', None)\n",
      "\troot = fptree\n",
      "\theader_table, transactions = config_fptree_builder(data)\n",
      "\tfor trans in transactions:\n",
      "\t\tadd_nodes(trans, header_table, root)\n",
      "\theader_table = {k:v[:2] for k, v in header_table.items()}\n",
      "\treturn fptree, header_table"
     ],
     "language": "python",
     "metadata": {},
     "outputs": [],
     "prompt_number": 196
    },
    {
     "cell_type": "code",
     "collapsed": false,
     "input": [
      "fptree, htab = build_fptree(tx)"
     ],
     "language": "python",
     "metadata": {},
     "outputs": [],
     "prompt_number": 197
    },
    {
     "cell_type": "code",
     "collapsed": false,
     "input": [
      "fptree.children"
     ],
     "language": "python",
     "metadata": {},
     "outputs": [
      {
       "metadata": {},
       "output_type": "pyout",
       "prompt_number": 198,
       "text": [
        "{'B': <__main__.TreeNode at 0x105e0c710>,\n",
        " 'D': <__main__.TreeNode at 0x105de36d0>}"
       ]
      }
     ],
     "prompt_number": 198
    },
    {
     "cell_type": "code",
     "collapsed": false,
     "input": [
      "B1 = fptree.children['B']\n",
      "D1 = fptree.children['D']\n",
      "def fpt(tn):\n",
      "    print(\"count: {0}\".format(tn.count))\n",
      "    print(\"name: {0}\".format(tn.name))\n",
      "    print(\"children: {0}\".format(list(tn.children.keys())))\n",
      "    print(\"parent: {0}\".format(tn.parent.name))"
     ],
     "language": "python",
     "metadata": {},
     "outputs": [],
     "prompt_number": 199
    },
    {
     "cell_type": "code",
     "collapsed": false,
     "input": [
      "fpt(B1)"
     ],
     "language": "python",
     "metadata": {},
     "outputs": [
      {
       "output_type": "stream",
       "stream": "stdout",
       "text": [
        "count: 6\n",
        "name: B\n",
        "children: ['A', 'C', 'D']\n",
        "parent: root\n"
       ]
      }
     ],
     "prompt_number": 172
    },
    {
     "cell_type": "code",
     "collapsed": false,
     "input": [
      "fpt(D1)"
     ],
     "language": "python",
     "metadata": {},
     "outputs": [
      {
       "output_type": "stream",
       "stream": "stdout",
       "text": [
        "count: 2\n",
        "name: D\n",
        "children: ['A']\n",
        "parent: root\n"
       ]
      }
     ],
     "prompt_number": 173
    },
    {
     "cell_type": "code",
     "collapsed": false,
     "input": [
      "node_route = []\n",
      "node = htab['D'][-1]\n",
      "while node != None:\n",
      "    node_route.append(node.name)\n",
      "    node = node.node_link"
     ],
     "language": "python",
     "metadata": {},
     "outputs": [],
     "prompt_number": 174
    },
    {
     "cell_type": "code",
     "collapsed": false,
     "input": [
      "def config_fptree_builder(data):\n",
      "\t\"\"\"\n",
      "\treturns: header table & data for input to build_tree;\n",
      "\tpass in: raw data (nested list of transactions);\n",
      "\t\"\"\"\n",
      "\t# data = [ set(trans) for trans in data ]\n",
      "\t# flatten the data (from list of sets to list of items)\n",
      "\ttrans_flat = [itm for trans in data for itm in trans]\n",
      "\t# get frequency of each item\n",
      "\titem_counter = CL.defaultdict(int)\n",
      "\tfor itm in trans_flat:\n",
      "\t\titem_counter[itm] += 1\n",
      "\t# to sort by decr frequency, then secondary (alpha) sort by key (incr),\n",
      "\t# sort first by secondary key, then again by primary key\n",
      "\tic = sorted(((k, v) for k, v in item_counter.items()), \n",
      "\t\tkey=itemgetter(0))\n",
      "\tic = sorted(ic, key=itemgetter(1), reverse=True)\n",
      "\tsort_key = {t[0]: i for i, t in enumerate(ic)}\n",
      "\tfnx = lambda q: sorted(q, key=sort_key.__getitem__)\n",
      "\ttransactions = map(fnx, data)\n",
      "\t# build header table from freq_items w/ empty placeholders for node pointer\n",
      "\thtable = CL.defaultdict(list)\n",
      "\tfor k in item_counter.keys():\n",
      "\t    htable[k].append(item_counter[k])\n",
      "\treturn htable, transactions"
     ],
     "language": "python",
     "metadata": {},
     "outputs": [],
     "prompt_number": 200
    },
    {
     "cell_type": "code",
     "collapsed": false,
     "input": [
      "data = [['E', 'B', 'D', 'A'],\n",
      " ['E', 'A', 'D', 'C', 'B'],\n",
      " ['C', 'E', 'B', 'A'],\n",
      " ['A', 'B', 'D'],\n",
      " ['D'],\n",
      " ['D', 'B'],\n",
      " ['D', 'A', 'E'],\n",
      " ['B', 'C']]"
     ],
     "language": "python",
     "metadata": {},
     "outputs": [],
     "prompt_number": 201
    },
    {
     "cell_type": "code",
     "collapsed": false,
     "input": [
      "fptree, htab = build_fptree(data)"
     ],
     "language": "python",
     "metadata": {},
     "outputs": [],
     "prompt_number": 202
    },
    {
     "cell_type": "code",
     "collapsed": false,
     "input": [
      "fptree.children"
     ],
     "language": "python",
     "metadata": {},
     "outputs": [
      {
       "metadata": {},
       "output_type": "pyout",
       "prompt_number": 203,
       "text": [
        "{'B': <__main__.TreeNode at 0x105e0d350>,\n",
        " 'D': <__main__.TreeNode at 0x105e0dd90>}"
       ]
      }
     ],
     "prompt_number": 203
    },
    {
     "cell_type": "code",
     "collapsed": false,
     "input": [
      "B1 = fptree.children['B']\n",
      "D1 = fptree.children['D']"
     ],
     "language": "python",
     "metadata": {},
     "outputs": [],
     "prompt_number": 205
    },
    {
     "cell_type": "code",
     "collapsed": false,
     "input": [
      "def fpt(tn):\n",
      "\t\"\"\"\n",
      "\treturns: None;\n",
      "\tpass in: an fptree node;\n",
      "\tconvenience funciton for informal, node-by-node introspection\n",
      "\tof the fptree object\n",
      "\t\"\"\"\n",
      "\tprint(\"count: {0}\".format(tn.count))\n",
      "\tprint(\"name: {0}\".format(tn.name))\n",
      "\tprint(\"children: {0}\".format(list(tn.children.keys())))\n",
      "\tprint(\"parent: {0}\".format(tn.parent.name))\n"
     ],
     "language": "python",
     "metadata": {},
     "outputs": [],
     "prompt_number": 206
    },
    {
     "cell_type": "code",
     "collapsed": false,
     "input": [
      "fpt(B1)"
     ],
     "language": "python",
     "metadata": {},
     "outputs": [
      {
       "output_type": "stream",
       "stream": "stdout",
       "text": [
        "count: 6\n",
        "name: B\n",
        "children: ['A', 'C', 'D']\n",
        "parent: root\n"
       ]
      }
     ],
     "prompt_number": 207
    },
    {
     "cell_type": "code",
     "collapsed": false,
     "input": [
      "fpt(D1)"
     ],
     "language": "python",
     "metadata": {},
     "outputs": [
      {
       "output_type": "stream",
       "stream": "stdout",
       "text": [
        "count: 2\n",
        "name: D\n",
        "children: ['A']\n",
        "parent: root\n"
       ]
      }
     ],
     "prompt_number": 208
    },
    {
     "cell_type": "code",
     "collapsed": false,
     "input": [
      "B1.children"
     ],
     "language": "python",
     "metadata": {},
     "outputs": [
      {
       "metadata": {},
       "output_type": "pyout",
       "prompt_number": 209,
       "text": [
        "{'A': <__main__.TreeNode at 0x105e0d650>,\n",
        " 'C': <__main__.TreeNode at 0x105e0d550>,\n",
        " 'D': <__main__.TreeNode at 0x105e0dfd0>}"
       ]
      }
     ],
     "prompt_number": 209
    },
    {
     "cell_type": "code",
     "collapsed": false,
     "input": [
      "A1 = B1.children['A']\n",
      "C1 = B1.children['C']\n",
      "D2 = B1.children['D']"
     ],
     "language": "python",
     "metadata": {},
     "outputs": [],
     "prompt_number": 210
    },
    {
     "cell_type": "code",
     "collapsed": false,
     "input": [
      "fpt(A1)"
     ],
     "language": "python",
     "metadata": {},
     "outputs": [
      {
       "output_type": "stream",
       "stream": "stdout",
       "text": [
        "count: 1\n",
        "name: A\n",
        "children: ['E']\n",
        "parent: B\n"
       ]
      }
     ],
     "prompt_number": 211
    },
    {
     "cell_type": "code",
     "collapsed": false,
     "input": [
      "fpt(D2)"
     ],
     "language": "python",
     "metadata": {},
     "outputs": [
      {
       "output_type": "stream",
       "stream": "stdout",
       "text": [
        "count: 4\n",
        "name: D\n",
        "children: ['A']\n",
        "parent: B\n"
       ]
      }
     ],
     "prompt_number": 212
    },
    {
     "cell_type": "code",
     "collapsed": false,
     "input": [
      "fpt(C1)"
     ],
     "language": "python",
     "metadata": {},
     "outputs": [
      {
       "output_type": "stream",
       "stream": "stdout",
       "text": [
        "count: 1\n",
        "name: C\n",
        "children: []\n",
        "parent: B\n"
       ]
      }
     ],
     "prompt_number": 213
    },
    {
     "cell_type": "code",
     "collapsed": false,
     "input": [
      "data1"
     ],
     "language": "python",
     "metadata": {},
     "outputs": [
      {
       "metadata": {},
       "output_type": "pyout",
       "prompt_number": 225,
       "text": [
        "[['C', 'A', 'T', 'S'],\n",
        " ['C', 'A', 'T', 'S', 'U', 'P'],\n",
        " ['C', 'A', 'T'],\n",
        " ['C', 'A', 'T', 'C', 'H'],\n",
        " ['C', 'A', 'T', 'A', 'N'],\n",
        " ['C', 'A', 'T', 'N', 'I', 'P'],\n",
        " ['C', 'A', 'T', 'E', 'G', 'O', 'R', 'Y'],\n",
        " ['C', 'A', 'T', 'I', 'O', 'N'],\n",
        " ['C', 'A', 'T', 'A', 'P', 'U', 'L', 'T'],\n",
        " ['C', 'A', 'T', 'C', 'H', 'Y'],\n",
        " ['C', 'A', 'T', 'A', 'L', 'O', 'G'],\n",
        " ['C', 'A', 'T', 'E', 'R'],\n",
        " ['C', 'A', 'T', 'S'],\n",
        " ['C', 'A', 'T', 'A', 'R', 'A', 'C', 'T'],\n",
        " ['C', 'A', 'T', 'T', 'L', 'E'],\n",
        " ['A', 'T', 'O', 'M'],\n",
        " ['E', 'R', 'R', 'O', 'R'],\n",
        " ['A', 'T', 'M'],\n",
        " ['L', 'E', 'A', 'R', 'N'],\n",
        " ['T', 'E', 'R', 'M'],\n",
        " ['A', 'T', 'T', 'A', 'C', 'H']]"
       ]
      }
     ],
     "prompt_number": 225
    },
    {
     "cell_type": "markdown",
     "metadata": {},
     "source": [
      "exemplary query I: _find the most frequent next item given the sequence C A T_"
     ]
    },
    {
     "cell_type": "markdown",
     "metadata": {},
     "source": [
      "distinct tasks:\n",
      "\n",
      "* _ verify a given route has the relevant base sequence_ (C A T)--ie, once the item at either end of the sequence is found (C or A in this example), traverse to the other end <hr>\n",
      "\n",
      "* _collect the frequencies of the remaining items in the route & identify item w/ highest frequency_ <hr>\n",
      "\n",
      "* _collect all routes having the relevant base sequence_"
     ]
    },
    {
     "cell_type": "markdown",
     "metadata": {},
     "source": [
      "workflow:\n",
      "\n",
      "* from header table, get \"first node\" for each item in the base sequence"
     ]
    },
    {
     "cell_type": "code",
     "collapsed": false,
     "input": [
      "# build fp-tree & header table:\n",
      "fptree, htab = build_fptree(data1)"
     ],
     "language": "python",
     "metadata": {},
     "outputs": [],
     "prompt_number": 238
    },
    {
     "cell_type": "code",
     "collapsed": false,
     "input": [
      "# base sequence:\n",
      "bseq = \"c a t\".split()"
     ],
     "language": "python",
     "metadata": {},
     "outputs": [],
     "prompt_number": 249
    },
    {
     "cell_type": "code",
     "collapsed": false,
     "input": [
      "# \"initial\" nodes for each item in the base sequence\n",
      "c0, a0, t0 = [htab[itm][1] for itm in bseq]"
     ],
     "language": "python",
     "metadata": {},
     "outputs": [],
     "prompt_number": 250
    },
    {
     "cell_type": "markdown",
     "metadata": {},
     "source": [
      "at this point, there are two orthogonal tasks:\n",
      "\n",
      "* traverse the node paths\n",
      "\n",
      "* collect all items of the same type as the \"initial nodes\" (via node links in the header table)"
     ]
    },
    {
     "cell_type": "code",
     "collapsed": false,
     "input": [
      "def like_item_traversal(itm):\n",
      "\tnode_route = []\n",
      "\tnode = htab[itm][-1]\n",
      "\twhile node != None:\n",
      "\t\tnode_route.append(node)\n",
      "\t\tnode = node.node_link\n",
      "\tnode_route.append(itm)\n",
      "\treturn node_route"
     ],
     "language": "python",
     "metadata": {},
     "outputs": [],
     "prompt_number": 244
    },
    {
     "cell_type": "code",
     "collapsed": false,
     "input": [
      "c_all, a_all, t_all = [like_item_traversal(itm) for itm in bseq]"
     ],
     "language": "python",
     "metadata": {},
     "outputs": [],
     "prompt_number": 252
    },
    {
     "cell_type": "code",
     "collapsed": false,
     "input": [
      "# now traverse through each route on which each item in the lists above reside\n",
      "\n",
      "c0 = c_all[0]\n",
      "c0.children"
     ],
     "language": "python",
     "metadata": {},
     "outputs": [
      {
       "metadata": {},
       "output_type": "pyout",
       "prompt_number": 255,
       "text": [
        "{'c': <__main__.TreeNode at 0x105e4e850>,\n",
        " 'n': <__main__.TreeNode at 0x105e4e9d0>,\n",
        " 'o': <__main__.TreeNode at 0x105e4e690>,\n",
        " 'p': <__main__.TreeNode at 0x105e4e590>,\n",
        " 'r': <__main__.TreeNode at 0x105e4e750>,\n",
        " 's': <__main__.TreeNode at 0x105e4e490>}"
       ]
      }
     ],
     "prompt_number": 255
    },
    {
     "cell_type": "code",
     "collapsed": false,
     "input": [
      "# TODO: need efficient way to identify a terminus of a given node route so only 'upward' traversal required"
     ],
     "language": "python",
     "metadata": {},
     "outputs": [],
     "prompt_number": 263
    },
    {
     "cell_type": "code",
     "collapsed": false,
     "input": [
      "c0.name"
     ],
     "language": "python",
     "metadata": {},
     "outputs": [
      {
       "metadata": {},
       "output_type": "pyout",
       "prompt_number": 264,
       "text": [
        "'c'"
       ]
      }
     ],
     "prompt_number": 264
    },
    {
     "cell_type": "code",
     "collapsed": false,
     "input": [
      "# BUG: see above, 'c' is a child of 'c'!"
     ],
     "language": "python",
     "metadata": {},
     "outputs": [],
     "prompt_number": 265
    },
    {
     "cell_type": "code",
     "collapsed": false,
     "input": [
      "node_route = []\n",
      "node = c_all[0]\n",
      "while node != None:\n",
      "    node_route.append(node.name)\n",
      "    node = node.parent"
     ],
     "language": "python",
     "metadata": {},
     "outputs": [],
     "prompt_number": 267
    },
    {
     "cell_type": "code",
     "collapsed": false,
     "input": [
      "ndoe_route"
     ],
     "language": "python",
     "metadata": {},
     "outputs": [
      {
       "ename": "NameError",
       "evalue": "name 'ndoe_route' is not defined",
       "output_type": "pyerr",
       "traceback": [
        "\u001b[0;31m---------------------------------------------------------------------------\u001b[0m\n\u001b[0;31mNameError\u001b[0m                                 Traceback (most recent call last)",
        "\u001b[0;32m<ipython-input-268-ea3b36dcf2cc>\u001b[0m in \u001b[0;36m<module>\u001b[0;34m()\u001b[0m\n\u001b[0;32m----> 1\u001b[0;31m \u001b[0mndoe_route\u001b[0m\u001b[0;34m\u001b[0m\u001b[0m\n\u001b[0m",
        "\u001b[0;31mNameError\u001b[0m: name 'ndoe_route' is not defined"
       ]
      }
     ],
     "prompt_number": 268
    },
    {
     "cell_type": "code",
     "collapsed": false,
     "input": [
      "node_route"
     ],
     "language": "python",
     "metadata": {},
     "outputs": [
      {
       "metadata": {},
       "output_type": "pyout",
       "prompt_number": 269,
       "text": [
        "['c', 't', 'a', 'root']"
       ]
      }
     ],
     "prompt_number": 269
    },
    {
     "cell_type": "code",
     "collapsed": false,
     "input": [],
     "language": "python",
     "metadata": {},
     "outputs": []
    }
   ],
   "metadata": {}
  }
 ]
}