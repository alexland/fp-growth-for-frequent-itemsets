{
 "metadata": {
  "name": ""
 },
 "nbformat": 3,
 "nbformat_minor": 0,
 "worksheets": [
  {
   "cells": [
    {
     "cell_type": "code",
     "collapsed": false,
     "input": [
      "import os\n",
      "import sys\n",
      "import collections as CL\n",
      "from operator import itemgetter\n",
      "from functools import partial\n",
      "import itertools as IT\n",
      "import py"
     ],
     "language": "python",
     "metadata": {},
     "outputs": [],
     "prompt_number": 2
    },
    {
     "cell_type": "code",
     "collapsed": false,
     "input": [
      "class TreeNode:\n",
      "\n",
      "\tdef __init__(self, node_name, parent_node):\n",
      "\t\tself.name = node_name\n",
      "\t\tself.node_link = None\n",
      "\t\tself.count = 1\n",
      "\t\tself.parent = parent_node\n",
      "\t\tself.children = {} \n",
      "\n",
      "\tdef incr(self, freq=1):\n",
      "\t\tself.count += freq "
     ],
     "language": "python",
     "metadata": {},
     "outputs": [],
     "prompt_number": 4
    },
    {
     "cell_type": "markdown",
     "metadata": {},
     "source": [
      "to initialize an fp-tree, just call the constructor, and bind the instance to some variable like _fptree_; this creates the root node"
     ]
    },
    {
     "cell_type": "code",
     "collapsed": false,
     "input": [
      "fptree = TreeNode(node_name='root', parent_node=None)"
     ],
     "language": "python",
     "metadata": {},
     "outputs": [],
     "prompt_number": 6
    },
    {
     "cell_type": "markdown",
     "metadata": {},
     "source": [
      "to add a transaction to the fp-tree, add one node at a time, each node representing an item in the transaction; each node is a child node of the antecedent:"
     ]
    },
    {
     "cell_type": "code",
     "collapsed": false,
     "input": [
      "fptree.children['node_name'] = TreeNode('node_name', None)"
     ],
     "language": "python",
     "metadata": {},
     "outputs": [],
     "prompt_number": 7
    },
    {
     "cell_type": "markdown",
     "metadata": {},
     "source": [
      "so to build an fptree\n",
      "\n",
      "I. call _config_fptree_builder_, passing in the raw data;\n",
      "this returns\n",
      "    \n",
      "    (i) an empty header table (consisting of keys and its cumulative count); and \n",
      "   \n",
      "    (ii) data processed to build the tree, next\n",
      "    \n",
      "    \n",
      "II. call _build_fptree_ (unbound since it returns nothing) passing in the two paramaters returned from the previous call to _config_fptree_builder_"
     ]
    },
    {
     "cell_type": "code",
     "collapsed": false,
     "input": [
      "data = [['B', 'E', 'A', 'D'],\n",
      " ['B', 'A', 'C', 'E', 'D'],\n",
      " ['B', 'E', 'A', 'C'],\n",
      " ['B', 'A', 'D'],\n",
      " ['D'],\n",
      " ['B', 'D'],\n",
      " ['A', 'E', 'D'],\n",
      " ['B', 'C']]"
     ],
     "language": "python",
     "metadata": {},
     "outputs": [],
     "prompt_number": 92
    },
    {
     "cell_type": "code",
     "collapsed": false,
     "input": [
      "tx"
     ],
     "language": "python",
     "metadata": {},
     "outputs": [
      {
       "metadata": {},
       "output_type": "pyout",
       "prompt_number": 157,
       "text": [
        "[['E', 'B', 'D', 'A'],\n",
        " ['E', 'A', 'D', 'C', 'B'],\n",
        " ['C', 'E', 'B', 'A'],\n",
        " ['A', 'B', 'D'],\n",
        " ['D'],\n",
        " ['D', 'B'],\n",
        " ['D', 'A', 'E'],\n",
        " ['B', 'C']]"
       ]
      }
     ],
     "prompt_number": 157
    },
    {
     "cell_type": "code",
     "collapsed": false,
     "input": [
      "fptree, htab = build_fptree(tx)"
     ],
     "language": "python",
     "metadata": {},
     "outputs": [],
     "prompt_number": 197
    },
    {
     "cell_type": "code",
     "collapsed": false,
     "input": [
      "fptree.children"
     ],
     "language": "python",
     "metadata": {},
     "outputs": [
      {
       "metadata": {},
       "output_type": "pyout",
       "prompt_number": 198,
       "text": [
        "{'B': <__main__.TreeNode at 0x105e0c710>,\n",
        " 'D': <__main__.TreeNode at 0x105de36d0>}"
       ]
      }
     ],
     "prompt_number": 198
    },
    {
     "cell_type": "code",
     "collapsed": false,
     "input": [
      "B1 = fptree.children['B']\n",
      "D1 = fptree.children['D']\n",
      "def fpt(tn):\n",
      "    print(\"count: {0}\".format(tn.count))\n",
      "    print(\"name: {0}\".format(tn.name))\n",
      "    print(\"children: {0}\".format(list(tn.children.keys())))\n",
      "    print(\"parent: {0}\".format(tn.parent.name))"
     ],
     "language": "python",
     "metadata": {},
     "outputs": [],
     "prompt_number": 199
    },
    {
     "cell_type": "code",
     "collapsed": false,
     "input": [
      "fpt(B1)"
     ],
     "language": "python",
     "metadata": {},
     "outputs": [
      {
       "output_type": "stream",
       "stream": "stdout",
       "text": [
        "count: 6\n",
        "name: B\n",
        "children: ['A', 'C', 'D']\n",
        "parent: root\n"
       ]
      }
     ],
     "prompt_number": 172
    },
    {
     "cell_type": "code",
     "collapsed": false,
     "input": [
      "fpt(D1)"
     ],
     "language": "python",
     "metadata": {},
     "outputs": [
      {
       "output_type": "stream",
       "stream": "stdout",
       "text": [
        "count: 2\n",
        "name: D\n",
        "children: ['A']\n",
        "parent: root\n"
       ]
      }
     ],
     "prompt_number": 173
    },
    {
     "cell_type": "code",
     "collapsed": false,
     "input": [
      "node_route = []\n",
      "node = htab['D'][-1]\n",
      "while node != None:\n",
      "    node_route.append(node.name)\n",
      "    node = node.node_link"
     ],
     "language": "python",
     "metadata": {},
     "outputs": [],
     "prompt_number": 174
    },
    {
     "cell_type": "code",
     "collapsed": false,
     "input": [
      "def fpt(tn):\n",
      "\t\"\"\"\n",
      "\treturns: None;\n",
      "\tpass in: an fptree node;\n",
      "\tconvenience funciton for informal, node-by-node introspection\n",
      "\tof the fptree object\n",
      "\t\"\"\"\n",
      "\tprint(\"count: {0}\".format(tn.count))\n",
      "\tprint(\"name: {0}\".format(tn.name))\n",
      "\tprint(\"children: {0}\".format(list(tn.children.keys())))\n",
      "\tprint(\"parent: {0}\".format(tn.parent.name))\n"
     ],
     "language": "python",
     "metadata": {},
     "outputs": [],
     "prompt_number": 301
    },
    {
     "cell_type": "markdown",
     "metadata": {},
     "source": [
      "exemplary query I: _find the most frequent next item given the sequence C A T_"
     ]
    },
    {
     "cell_type": "markdown",
     "metadata": {},
     "source": [
      "distinct tasks:\n",
      "\n",
      "* _ verify a given route has the relevant base sequence_ (C A T)--ie, once the item at either end of the sequence is found (C or A in this example), traverse to the other end <hr>\n",
      "\n",
      "* _collect the frequencies of the remaining items in the route & identify item w/ highest frequency_ <hr>\n",
      "\n",
      "* _collect all routes having the relevant base sequence_"
     ]
    },
    {
     "cell_type": "markdown",
     "metadata": {},
     "source": [
      "workflow:\n",
      "\n",
      "* from header table, get \"first node\" for each item in the base sequence"
     ]
    },
    {
     "cell_type": "markdown",
     "metadata": {},
     "source": [
      "at this point, there are two orthogonal tasks:\n",
      "\n",
      "* traverse the node paths\n",
      "\n",
      "* collect all items of the same type as the \"initial nodes\" (via node links in the header table)"
     ]
    },
    {
     "cell_type": "code",
     "collapsed": false,
     "input": [
      "c_all, a_all, t_all = [like_item_traversal(itm) for itm in bseq]"
     ],
     "language": "python",
     "metadata": {},
     "outputs": [],
     "prompt_number": 283
    },
    {
     "cell_type": "code",
     "collapsed": false,
     "input": [
      "# now traverse through each route on which each item in the lists above reside\n",
      "\n",
      "c0 = c_all[0]\n",
      "c0.children"
     ],
     "language": "python",
     "metadata": {},
     "outputs": [
      {
       "metadata": {},
       "output_type": "pyout",
       "prompt_number": 284,
       "text": [
        "{'c': <__main__.TreeNode at 0x105e61ad0>,\n",
        " 'e': <__main__.TreeNode at 0x105e61210>,\n",
        " 'n': <__main__.TreeNode at 0x105e61410>,\n",
        " 'o': <__main__.TreeNode at 0x105e610d0>,\n",
        " 'p': <__main__.TreeNode at 0x105e61250>,\n",
        " 's': <__main__.TreeNode at 0x105e61a10>}"
       ]
      }
     ],
     "prompt_number": 284
    },
    {
     "cell_type": "code",
     "collapsed": false,
     "input": [
      "# TODO: need efficient way to identify a terminus of a given node route so only 'upward' traversal required"
     ],
     "language": "python",
     "metadata": {},
     "outputs": [],
     "prompt_number": 278
    },
    {
     "cell_type": "code",
     "collapsed": false,
     "input": [
      "c0.name"
     ],
     "language": "python",
     "metadata": {},
     "outputs": [
      {
       "metadata": {},
       "output_type": "pyout",
       "prompt_number": 264,
       "text": [
        "'c'"
       ]
      }
     ],
     "prompt_number": 264
    },
    {
     "cell_type": "code",
     "collapsed": false,
     "input": [
      "# BUG: see above, 'c' is a child of 'c'!"
     ],
     "language": "python",
     "metadata": {},
     "outputs": [],
     "prompt_number": 265
    },
    {
     "cell_type": "code",
     "collapsed": false,
     "input": [
      "def ascend_route(node):\n",
      "\t\"\"\"\n",
      "\treturns: all nodes in a given route from the node passed in to the root\n",
      "\tpass in: a single node in an fp-tree\n",
      "\t\"\"\"\n",
      "\tnode_route = []\n",
      "\twhile node != None:\n",
      "\t    node_route.append(node.name)\n",
      "\t    node = node.parent\n",
      "\treturn node_route"
     ],
     "language": "python",
     "metadata": {},
     "outputs": [],
     "prompt_number": 13
    },
    {
     "cell_type": "code",
     "collapsed": false,
     "input": [
      "fptree, htab = FPT.build_fptree(data1)"
     ],
     "language": "python",
     "metadata": {},
     "outputs": [],
     "prompt_number": 14
    },
    {
     "cell_type": "code",
     "collapsed": false,
     "input": [
      "# base sequence:\n",
      "bseq = list(map(lambda q: q.upper(), \"C A T\".split()))"
     ],
     "language": "python",
     "metadata": {},
     "outputs": [],
     "prompt_number": 15
    },
    {
     "cell_type": "code",
     "collapsed": false,
     "input": [
      "# \"initial\" nodes for each item in the base sequence\n",
      "c0, a0, t0 = [htab[itm][1] for itm in bseq]"
     ],
     "language": "python",
     "metadata": {},
     "outputs": [],
     "prompt_number": 16
    },
    {
     "cell_type": "code",
     "collapsed": false,
     "input": [
      "def like_item_traversal(itm):\n",
      "    linked_nodes = []\n",
      "    node = htab[itm][-1]\n",
      "    while node != None:\n",
      "        linked_nodes.append(node)\n",
      "        node = node.node_link\n",
      "    linked_nodes.append(itm)\n",
      "    return linked_nodes"
     ],
     "language": "python",
     "metadata": {},
     "outputs": [],
     "prompt_number": 25
    },
    {
     "cell_type": "code",
     "collapsed": false,
     "input": [
      "c_all, a_all, t_all = [like_item_traversal(itm) for itm in bseq]"
     ],
     "language": "python",
     "metadata": {},
     "outputs": [],
     "prompt_number": 26
    },
    {
     "cell_type": "code",
     "collapsed": false,
     "input": [
      "c0 = c_all[0]\n",
      "c0.children"
     ],
     "language": "python",
     "metadata": {},
     "outputs": [
      {
       "metadata": {},
       "output_type": "pyout",
       "prompt_number": 29,
       "text": [
        "{'E': <fptree.TreeNode at 0x104b2e5d0>,\n",
        " 'H': <fptree.TreeNode at 0x104b2e4d0>,\n",
        " 'L': <fptree.TreeNode at 0x104b2e7d0>,\n",
        " 'N': <fptree.TreeNode at 0x104b2e510>,\n",
        " 'O': <fptree.TreeNode at 0x104b2e710>,\n",
        " 'P': <fptree.TreeNode at 0x104b2e410>,\n",
        " 'R': <fptree.TreeNode at 0x104b2e950>,\n",
        " 'S': <fptree.TreeNode at 0x104b2e3d0>}"
       ]
      }
     ],
     "prompt_number": 29
    },
    {
     "cell_type": "code",
     "collapsed": false,
     "input": [
      "c0"
     ],
     "language": "python",
     "metadata": {},
     "outputs": [
      {
       "metadata": {},
       "output_type": "pyout",
       "prompt_number": 28,
       "text": [
        "<fptree.TreeNode at 0x104b2e390>"
       ]
      }
     ],
     "prompt_number": 28
    },
    {
     "cell_type": "code",
     "collapsed": false,
     "input": [
      "fptree.children"
     ],
     "language": "python",
     "metadata": {},
     "outputs": [
      {
       "metadata": {},
       "output_type": "pyout",
       "prompt_number": 30,
       "text": [
        "{'A': <fptree.TreeNode at 0x104b2e310>,\n",
        " 'E': <fptree.TreeNode at 0x104b2ea50>,\n",
        " 'T': <fptree.TreeNode at 0x104b2ec50>}"
       ]
      }
     ],
     "prompt_number": 30
    },
    {
     "cell_type": "code",
     "collapsed": false,
     "input": [
      "A1 = fptree.children['A']"
     ],
     "language": "python",
     "metadata": {},
     "outputs": [],
     "prompt_number": 52
    },
    {
     "cell_type": "code",
     "collapsed": false,
     "input": [
      "data2 = [['E', 'B', 'D', 'A'],\n",
      " ['E', 'A', 'D', 'C', 'B'],\n",
      " ['C', 'E', 'B', 'A'],\n",
      " ['A', 'B', 'D'],\n",
      " ['D'],\n",
      " ['D', 'B'],\n",
      " ['D', 'A', 'E'],\n",
      " ['B', 'C']]"
     ],
     "language": "python",
     "metadata": {},
     "outputs": [],
     "prompt_number": 53
    },
    {
     "cell_type": "code",
     "collapsed": false,
     "input": [
      "fptree, htab = FPT.build_fptree(data2)"
     ],
     "language": "python",
     "metadata": {},
     "outputs": [],
     "prompt_number": 54
    },
    {
     "cell_type": "code",
     "collapsed": false,
     "input": [
      "fptree.children"
     ],
     "language": "python",
     "metadata": {},
     "outputs": [
      {
       "metadata": {},
       "output_type": "pyout",
       "prompt_number": 55,
       "text": [
        "{'A': <fptree.TreeNode at 0x104b2c050>,\n",
        " 'E': <fptree.TreeNode at 0x104b3b510>,\n",
        " 'T': <fptree.TreeNode at 0x104b67b90>}"
       ]
      }
     ],
     "prompt_number": 55
    },
    {
     "cell_type": "code",
     "collapsed": false,
     "input": [
      "def config_fptree_builder(data):\n",
      "\t\"\"\"\n",
      "\treturns: header table & data for input to build_tree;\n",
      "\tpass in: raw data (nested list of transactions);\n",
      "\t\"\"\"\n",
      "\tdata = [ set(trans) for trans in data ]\n",
      "\t# flatten the data (from list of sets to list of items)\n",
      "\ttrans_flat = [itm for trans in data for itm in trans]\n",
      "\t# get frequency of each item\n",
      "\titem_counter = CL.defaultdict(int)\n",
      "\tfor itm in trans_flat:\n",
      "\t\titem_counter[itm] += 1\n",
      "\t# to sort by decr frequency, then secondary (alpha) sort by key (incr),\n",
      "\t# sort first by secondary key, then again by primary key\n",
      "\tic = sorted(((k, v) for k, v in item_counter.items()), \n",
      "\t\tkey=itemgetter(0))\n",
      "\tic = sorted(ic, key=itemgetter(1), reverse=True)\n",
      "\tsort_key = {t[0]: i for i, t in enumerate(ic)}\n",
      "\tfnx = lambda q: sorted(q, key=sort_key.__getitem__)\n",
      "\ttransactions = map(fnx, data)\n",
      "\t# build header table from freq_items w/ empty placeholders for node pointer\n",
      "\thtable = CL.defaultdict(list)\n",
      "\tfor k in item_counter.keys():\n",
      "\t    htable[k].append(item_counter[k])\n",
      "\treturn htable, transactions"
     ],
     "language": "python",
     "metadata": {},
     "outputs": [],
     "prompt_number": 56
    },
    {
     "cell_type": "code",
     "collapsed": false,
     "input": [
      "class TreeNode:\n",
      "\n",
      "\tdef __init__(self, node_name, parent_node):\n",
      "\t\tself.name = node_name\n",
      "\t\tself.node_link = None\n",
      "\t\tself.count = 1\n",
      "\t\tself.parent = parent_node\n",
      "\t\tself.children = {} \n",
      "\n",
      "\tdef incr(self, freq=1):\n",
      "\t\tself.count += freq "
     ],
     "language": "python",
     "metadata": {},
     "outputs": [],
     "prompt_number": 57
    },
    {
     "cell_type": "code",
     "collapsed": false,
     "input": [
      "def add_nodes(trans, header_table, parent_node):\n",
      "\t\"\"\"\n",
      "\tpass in: \n",
      "\t\ta transaction (list), \n",
      "\t\theader table (dict)\n",
      "\t\tparent_node (instance of class TreeNode);\n",
      "\treturns: nothing, converts a single transaction to\n",
      "\t\tnodes in an fp-tree (or increments counts if exists)\n",
      "\t\tand updates the companion header table \n",
      "\t\"\"\"\n",
      "\twhile len(trans) > 0:\n",
      "\t\titm = trans.pop(0)\n",
      "\t\t# does this item appear in the same route?\n",
      "\t\t# if so it will have to be upsteam & adjacent given how the items\n",
      "\t\t# are sorted prior to tree building & given that the fp-tree is\n",
      "\t\t# built from the top down\n",
      "\t\tif itm in parent_node.children.keys():\n",
      "\t\t\tparent_node.children[itm].incr()\n",
      "\t\telse:\n",
      "\t\t\t# create the node & add it to the tree\n",
      "\t\t\tparent_node.children[itm] = TreeNode(itm, parent_node)\n",
      "\t\t\tthis_node = parent_node.children[itm]\n",
      "\t\t\ttry:\n",
      "\t\t\t\t# is there at least one node pointer for this itm \n",
      "\t\t\t\t# in the header table?\n",
      "\t\t\t\t# ie, does this item appear in another route, or\n",
      "\t\t\t\theader_table[itm][1]\n",
      "\t\t\t\t# if so:\n",
      "\t\t\t\theader_table[itm][-1].node_link = this_node\n",
      "\t\t\t\theader_table[itm].append(this_node)\n",
      "\t\t\texcept IndexError:\n",
      "\t\t\t\t# this is the 1st time this itm is seen by this fn\n",
      "\t\t\t\t# ie, no node pointer for this item in h/t, so add it\n",
      "\t\t\t\theader_table[itm].append(this_node)\n",
      "\t\tthis_node = parent_node.children[itm]\n",
      "\t\tadd_nodes(trans, header_table, this_node)\n"
     ],
     "language": "python",
     "metadata": {},
     "outputs": [],
     "prompt_number": 58
    },
    {
     "cell_type": "code",
     "collapsed": false,
     "input": [
      "def build_fptree(transactions):\n",
      "\t\"\"\"\n",
      "\tpass in: \n",
      "\t\traw data (list of transactions; one transcation per list)\n",
      "\treturns: fptree;\n",
      "\tinstantiates fptree and builds it by calling 'add_node';\n",
      "\twhen called, bind result to 2 variables: one for thetree;\n",
      "\tthe second for for the header table;\n",
      "\t\"\"\"\n",
      "\tfptree = TreeNode('root', None)\n",
      "\troot = fptree\n",
      "\theader_table, transactions = config_fptree_builder(transactions)\n",
      "\tfor trans in transactions:\n",
      "\t\tadd_nodes(trans, header_table, root)\n",
      "\theader_table = {k:v[:2] for k, v in header_table.items()}\n",
      "\treturn fptree, header_table"
     ],
     "language": "python",
     "metadata": {},
     "outputs": [],
     "prompt_number": 61
    },
    {
     "cell_type": "code",
     "collapsed": false,
     "input": [
      "def fpt(tn):\n",
      "\t\"\"\"\n",
      "\treturns: None;\n",
      "\tpass in: an fptree node;\n",
      "\tconvenience funciton for informal, node-by-node introspection\n",
      "\tof the fptree object; call unbound to variable\n",
      "\t\"\"\"\n",
      "\tprint(\"count: {0}\".format(tn.count))\n",
      "\tprint(\"name: {0}\".format(tn.name))\n",
      "\tprint(\"children: {0}\".format(list(tn.children.keys())))\n",
      "\tprint(\"parent: {0}\".format(tn.parent.name))"
     ],
     "language": "python",
     "metadata": {},
     "outputs": [],
     "prompt_number": 62
    },
    {
     "cell_type": "code",
     "collapsed": false,
     "input": [
      "import collections as CL\n",
      "from operator import itemgetter\n",
      "from functools import partial\n",
      "import itertools as IT"
     ],
     "language": "python",
     "metadata": {},
     "outputs": [],
     "prompt_number": 64
    },
    {
     "cell_type": "code",
     "collapsed": false,
     "input": [
      "fptree, htab = build_fptree(data2)"
     ],
     "language": "python",
     "metadata": {},
     "outputs": [],
     "prompt_number": 65
    },
    {
     "cell_type": "code",
     "collapsed": false,
     "input": [
      "B1 = fptree.children['B']\n",
      "D1 = fptree.children['D']"
     ],
     "language": "python",
     "metadata": {},
     "outputs": [],
     "prompt_number": 68
    },
    {
     "cell_type": "code",
     "collapsed": false,
     "input": [
      "fpt(B1)"
     ],
     "language": "python",
     "metadata": {},
     "outputs": [
      {
       "output_type": "stream",
       "stream": "stdout",
       "text": [
        "count: 6\n",
        "name: B\n",
        "children: ['D', 'C', 'A']\n",
        "parent: root\n"
       ]
      }
     ],
     "prompt_number": 69
    },
    {
     "cell_type": "code",
     "collapsed": false,
     "input": [
      "fpt(D1)"
     ],
     "language": "python",
     "metadata": {},
     "outputs": [
      {
       "output_type": "stream",
       "stream": "stdout",
       "text": [
        "count: 2\n",
        "name: D\n",
        "children: ['A']\n",
        "parent: root\n"
       ]
      }
     ],
     "prompt_number": 70
    },
    {
     "cell_type": "code",
     "collapsed": false,
     "input": [
      "data2"
     ],
     "language": "python",
     "metadata": {},
     "outputs": [
      {
       "metadata": {},
       "output_type": "pyout",
       "prompt_number": 71,
       "text": [
        "[['E', 'B', 'D', 'A'],\n",
        " ['E', 'A', 'D', 'C', 'B'],\n",
        " ['C', 'E', 'B', 'A'],\n",
        " ['A', 'B', 'D'],\n",
        " ['D'],\n",
        " ['D', 'B'],\n",
        " ['D', 'A', 'E'],\n",
        " ['B', 'C']]"
       ]
      }
     ],
     "prompt_number": 71
    },
    {
     "cell_type": "code",
     "collapsed": false,
     "input": [
      "tf = [itm for trans in data2 for itm in trans]\n",
      "item_counter = CL.defaultdict(int)\n",
      "for itm in tf:\n",
      "    item_counter[itm] += 1"
     ],
     "language": "python",
     "metadata": {},
     "outputs": [],
     "prompt_number": 74
    },
    {
     "cell_type": "code",
     "collapsed": false,
     "input": [
      "item_counter"
     ],
     "language": "python",
     "metadata": {},
     "outputs": [
      {
       "metadata": {},
       "output_type": "pyout",
       "prompt_number": 75,
       "text": [
        "defaultdict(<class 'int'>, {'E': 4, 'D': 6, 'C': 3, 'B': 6, 'A': 5})"
       ]
      }
     ],
     "prompt_number": 75
    },
    {
     "cell_type": "code",
     "collapsed": false,
     "input": [
      "min_spt = 0.2\n",
      "total = sum(item_counter.values())\n",
      "ic = { k:v/total for k, v in item_counter.items() if v > min_spt}"
     ],
     "language": "python",
     "metadata": {},
     "outputs": [],
     "prompt_number": 109
    },
    {
     "cell_type": "code",
     "collapsed": false,
     "input": [
      "ic"
     ],
     "language": "python",
     "metadata": {},
     "outputs": [
      {
       "metadata": {},
       "output_type": "pyout",
       "prompt_number": 110,
       "text": [
        "{'A': 0.20833333333333334,\n",
        " 'B': 0.25,\n",
        " 'C': 0.125,\n",
        " 'D': 0.25,\n",
        " 'E': 0.16666666666666666}"
       ]
      }
     ],
     "prompt_number": 110
    },
    {
     "cell_type": "code",
     "collapsed": false,
     "input": [
      "3/24"
     ],
     "language": "python",
     "metadata": {},
     "outputs": [
      {
       "metadata": {},
       "output_type": "pyout",
       "prompt_number": 77,
       "text": [
        "0.125"
       ]
      }
     ],
     "prompt_number": 77
    },
    {
     "cell_type": "code",
     "collapsed": false,
     "input": [
      "4/24"
     ],
     "language": "python",
     "metadata": {},
     "outputs": [
      {
       "metadata": {},
       "output_type": "pyout",
       "prompt_number": 78,
       "text": [
        "0.16666666666666666"
       ]
      }
     ],
     "prompt_number": 78
    },
    {
     "cell_type": "code",
     "collapsed": false,
     "input": [
      "min_spt = 0.2"
     ],
     "language": "python",
     "metadata": {},
     "outputs": [],
     "prompt_number": 79
    },
    {
     "cell_type": "code",
     "collapsed": false,
     "input": [
      "data2"
     ],
     "language": "python",
     "metadata": {},
     "outputs": [
      {
       "metadata": {},
       "output_type": "pyout",
       "prompt_number": 80,
       "text": [
        "[['E', 'B', 'D', 'A'],\n",
        " ['E', 'A', 'D', 'C', 'B'],\n",
        " ['C', 'E', 'B', 'A'],\n",
        " ['A', 'B', 'D'],\n",
        " ['D'],\n",
        " ['D', 'B'],\n",
        " ['D', 'A', 'E'],\n",
        " ['B', 'C']]"
       ]
      }
     ],
     "prompt_number": 80
    },
    {
     "cell_type": "code",
     "collapsed": false,
     "input": [
      "import itertools as IT"
     ],
     "language": "python",
     "metadata": {},
     "outputs": [],
     "prompt_number": 81
    },
    {
     "cell_type": "code",
     "collapsed": false,
     "input": [
      "filter_str = '(q==\"C\") | (q==\"E\")'\n",
      "v = [ IT.filterfalse(lambda q: eval(filter_str), trans) for trans in data2 ]"
     ],
     "language": "python",
     "metadata": {},
     "outputs": [],
     "prompt_number": 104
    },
    {
     "cell_type": "code",
     "collapsed": false,
     "input": [
      "v = list(map(list, v))"
     ],
     "language": "python",
     "metadata": {},
     "outputs": [],
     "prompt_number": 99
    },
    {
     "cell_type": "code",
     "collapsed": false,
     "input": [
      "fnx = lambda q: eval(\"q > 5\")"
     ],
     "language": "python",
     "metadata": {},
     "outputs": [],
     "prompt_number": 100
    },
    {
     "cell_type": "code",
     "collapsed": false,
     "input": [
      "excluded_items = []\n",
      "str_templ = '(q==\"{0}\")'\n",
      "for itm in [\"C\", \"E\"]:\n",
      "    excluded_items.append(str_templ.format(itm))\n",
      "\n",
      "# excluded_items = ['(q==\"C\")', '(q==\"E\")']\n",
      "filter_str = \" | \".join(excluded_items)\n",
      "filter_str"
     ],
     "language": "python",
     "metadata": {},
     "outputs": [
      {
       "metadata": {},
       "output_type": "pyout",
       "prompt_number": 108,
       "text": [
        "'(q==\"C\") | (q==\"E\")'"
       ]
      }
     ],
     "prompt_number": 108
    },
    {
     "cell_type": "code",
     "collapsed": false,
     "input": [
      "min_spt = 0.2\n",
      "total = sum(item_counter.values())\n",
      "ic = { k:v for k, v in item_counter.items() if (v/total) < min_spt}"
     ],
     "language": "python",
     "metadata": {},
     "outputs": [],
     "prompt_number": 115
    },
    {
     "cell_type": "code",
     "collapsed": false,
     "input": [
      "ic"
     ],
     "language": "python",
     "metadata": {},
     "outputs": [
      {
       "metadata": {},
       "output_type": "pyout",
       "prompt_number": 116,
       "text": [
        "{'C': 3, 'E': 4}"
       ]
      }
     ],
     "prompt_number": 116
    },
    {
     "cell_type": "code",
     "collapsed": false,
     "input": [
      "list(ic.keys())"
     ],
     "language": "python",
     "metadata": {},
     "outputs": [
      {
       "metadata": {},
       "output_type": "pyout",
       "prompt_number": 118,
       "text": [
        "['E', 'C']"
       ]
      }
     ],
     "prompt_number": 118
    },
    {
     "cell_type": "code",
     "collapsed": false,
     "input": [
      "def remove_items_below_min_spt(transactions, item_counter, min_spt):\n",
      "\t\t\"\"\"\n",
      "\t\treturns: transactions w/ items whose frequency is < min_spt \n",
      "\t\tpass in: \n",
      "\t\t\tmin_spt (float, eg, 0.03 means each item must appear in \n",
      "\t\t\tat least 3% of the transactions)\n",
      "\t\t\"\"\"\n",
      "\t\t# identify the (unique) items that fallow below min_spt\n",
      "\t\ttotal = sum(item_counter.values())\n",
      "\t\tic = {k:v for k, v in item_counter.items() if (v/total) < min_spt}\n",
      "\t\t# build the expression\n",
      "\t\texcluded_items = list(ic.keys())\n",
      "\t\texcluded_items_expr = []\n",
      "\t\tstr_templ = '(q==\"{0}\")'\n",
      "\t\tfor itm in excluded_items:\n",
      "\t\t    excluded_items.append(str_templ.format(itm))\n",
      "\t\tfilter_str = \" | \".join(excluded_items)\n",
      "\t\tfilter_str = \" | \".join(excluded_items)\n",
      "\t\t# remove those below threshold items from the transactions\n",
      "\t\ttx = [IT.filterfalse(lambda q: eval(filter_str), trans) \n",
      "\t\t\t\tfor trans in transactions]\n",
      "\t\treturn list(map(list, tx))"
     ],
     "language": "python",
     "metadata": {},
     "outputs": [],
     "prompt_number": "*"
    },
    {
     "cell_type": "code",
     "collapsed": false,
     "input": [
      "d0 = [['E', 'B', 'D', 'A'],\n",
      " ['E', 'A', 'D', 'C', 'B'],\n",
      " ['C', 'E', 'B', 'A'],\n",
      " ['A', 'B', 'D'],\n",
      " ['D'],\n",
      " ['D', 'B'],\n",
      " ['D', 'A', 'E'],\n",
      " ['B', 'C']]"
     ],
     "language": "python",
     "metadata": {},
     "outputs": [],
     "prompt_number": 1
    },
    {
     "cell_type": "code",
     "collapsed": false,
     "input": [
      "def remove_items_below_min_spt(transactions, item_counter, min_spt):\n",
      "\t\t\"\"\"\n",
      "\t\treturns: transactions w/ items whose frequency is < min_spt \n",
      "\t\tpass in: \n",
      "\t\t\tmin_spt (float, eg, 0.03 means each item must appear in \n",
      "\t\t\tat least 3% of the transactions)\n",
      "\t\t\"\"\"\n",
      "\t\t# identify the (unique) items that fallow below min_spt\n",
      "\t\ttotal = sum(item_counter.values())\n",
      "\t\tic = {k:v for k, v in item_counter.items() if (v/total) < min_spt}\n",
      "\t\t# build the expression\n",
      "\t\texcluded_items = list(ic.keys())\n",
      "\t\texcluded_items_expr = []\n",
      "\t\tstr_templ = '(q==\"{0}\")'\n",
      "\t\tfor itm in excluded_items:\n",
      "\t\t    excluded_items.append(str_templ.format(itm))\n",
      "\t\tfilter_str = \" | \".join(excluded_items)\n",
      "\t\tfilter_str = \" | \".join(excluded_items)\n",
      "\t\t# remove those below threshold items from the transactions\n",
      "\t\ttx = [IT.filterfalse(lambda q: eval(filter_str), trans) \n",
      "\t\t\t\tfor trans in transactions]\n",
      "\t\treturn list(map(list, tx))\n"
     ],
     "language": "python",
     "metadata": {},
     "outputs": [],
     "prompt_number": 3
    },
    {
     "cell_type": "code",
     "collapsed": false,
     "input": [
      "tx1 = remove_items_below_min_spt(d0, item_counter, min_spt=0.2)"
     ],
     "language": "python",
     "metadata": {},
     "outputs": [
      {
       "ename": "NameError",
       "evalue": "name 'item_counter' is not defined",
       "output_type": "pyerr",
       "traceback": [
        "\u001b[0;31m---------------------------------------------------------------------------\u001b[0m\n\u001b[0;31mNameError\u001b[0m                                 Traceback (most recent call last)",
        "\u001b[0;32m<ipython-input-4-5877bf220f34>\u001b[0m in \u001b[0;36m<module>\u001b[0;34m()\u001b[0m\n\u001b[0;32m----> 1\u001b[0;31m \u001b[0mtx1\u001b[0m \u001b[0;34m=\u001b[0m \u001b[0mremove_items_below_min_spt\u001b[0m\u001b[0;34m(\u001b[0m\u001b[0md0\u001b[0m\u001b[0;34m,\u001b[0m \u001b[0mitem_counter\u001b[0m\u001b[0;34m,\u001b[0m \u001b[0mmin_spt\u001b[0m\u001b[0;34m=\u001b[0m\u001b[0;36m0.2\u001b[0m\u001b[0;34m)\u001b[0m\u001b[0;34m\u001b[0m\u001b[0m\n\u001b[0m",
        "\u001b[0;31mNameError\u001b[0m: name 'item_counter' is not defined"
       ]
      }
     ],
     "prompt_number": 4
    },
    {
     "cell_type": "code",
     "collapsed": false,
     "input": [
      "d0 = [['E', 'B', 'D', 'A'],\n",
      " ['E', 'A', 'D', 'C', 'B'],\n",
      " ['C', 'E', 'B', 'A'],\n",
      " ['A', 'B', 'D'],\n",
      " ['D'],\n",
      " ['D', 'B'],\n",
      " ['D', 'A', 'E'],\n",
      " ['B', 'C']]"
     ],
     "language": "python",
     "metadata": {},
     "outputs": [],
     "prompt_number": 1
    },
    {
     "cell_type": "code",
     "collapsed": false,
     "input": [
      "import collections as CL\n",
      "from operator import itemgetter\n",
      "from functools import partial\n",
      "import itertools as IT\n",
      "\n",
      "d1 = [ set(trans) for trans in d0 ]\n",
      "d2 = [itm for trans in d1 for itm in trans]\n",
      "# get frequency of each item\n",
      "item_counter = CL.defaultdict(int)\n",
      "for itm in d2:\n",
      "    item_counter[itm] += 1"
     ],
     "language": "python",
     "metadata": {},
     "outputs": [],
     "prompt_number": 2
    },
    {
     "cell_type": "code",
     "collapsed": false,
     "input": [
      "item_counter"
     ],
     "language": "python",
     "metadata": {},
     "outputs": [
      {
       "metadata": {},
       "output_type": "pyout",
       "prompt_number": 3,
       "text": [
        "defaultdict(<class 'int'>, {'A': 5, 'B': 6, 'C': 3, 'D': 6, 'E': 4})"
       ]
      }
     ],
     "prompt_number": 3
    },
    {
     "cell_type": "code",
     "collapsed": false,
     "input": [
      "d0"
     ],
     "language": "python",
     "metadata": {},
     "outputs": [
      {
       "metadata": {},
       "output_type": "pyout",
       "prompt_number": 4,
       "text": [
        "[['E', 'B', 'D', 'A'],\n",
        " ['E', 'A', 'D', 'C', 'B'],\n",
        " ['C', 'E', 'B', 'A'],\n",
        " ['A', 'B', 'D'],\n",
        " ['D'],\n",
        " ['D', 'B'],\n",
        " ['D', 'A', 'E'],\n",
        " ['B', 'C']]"
       ]
      }
     ],
     "prompt_number": 4
    },
    {
     "cell_type": "code",
     "collapsed": false,
     "input": [
      "def remove_items_below_min_spt(transactions, item_counter, min_spt):\n",
      "\t\t\"\"\"\n",
      "\t\treturns: transactions w/ items whose frequency is < min_spt \n",
      "\t\tpass in: \n",
      "\t\t\tmin_spt (float, eg, 0.03 means each item must appear in \n",
      "\t\t\tat least 3% of the transactions)\n",
      "\t\t\"\"\"\n",
      "\t\t# identify the (unique) items that fallow below min_spt\n",
      "\t\ttotal = sum(item_counter.values())\n",
      "\t\tic = {k:v for k, v in item_counter.items() if (v/total) < min_spt}\n",
      "\t\t# build the expression\n",
      "\t\texcluded_items = list(ic.keys())\n",
      "\t\texcluded_items_expr = []\n",
      "\t\tstr_templ = '(q==\"{0}\")'\n",
      "\t\tfor itm in excluded_items:\n",
      "\t\t    excluded_items.append(str_templ.format(itm))\n",
      "\t\tfilter_str = \" | \".join(excluded_items)\n",
      "\t\tfilter_str = \" | \".join(excluded_items)\n",
      "\t\t# remove those below threshold items from the transactions\n",
      "\t\ttx = [IT.filterfalse(lambda q: eval(filter_str), trans) \n",
      "\t\t\t\tfor trans in transactions]\n",
      "\t\treturn list(map(list, tx))"
     ],
     "language": "python",
     "metadata": {},
     "outputs": [],
     "prompt_number": 7
    },
    {
     "cell_type": "code",
     "collapsed": false,
     "input": [
      "tx1 = remove_items_below_min_spt(d0, item_counter, min_spt=0.2)"
     ],
     "language": "python",
     "metadata": {},
     "outputs": [],
     "prompt_number": "*"
    },
    {
     "cell_type": "code",
     "collapsed": false,
     "input": [
      "tx1"
     ],
     "language": "python",
     "metadata": {},
     "outputs": [],
     "prompt_number": "*"
    },
    {
     "cell_type": "code",
     "collapsed": false,
     "input": [
      "total = sum(item_counter.values())"
     ],
     "language": "python",
     "metadata": {},
     "outputs": [],
     "prompt_number": "*"
    },
    {
     "cell_type": "code",
     "collapsed": false,
     "input": [
      "total"
     ],
     "language": "python",
     "metadata": {},
     "outputs": [],
     "prompt_number": "*"
    },
    {
     "cell_type": "code",
     "collapsed": false,
     "input": [],
     "language": "python",
     "metadata": {},
     "outputs": []
    }
   ],
   "metadata": {}
  }
 ]
}