{
 "metadata": {
  "name": ""
 },
 "nbformat": 3,
 "nbformat_minor": 0,
 "worksheets": [
  {
   "cells": [
    {
     "cell_type": "code",
     "collapsed": false,
     "input": [
      "import collections as CL\n",
      "from operator import itemgetter\n",
      "from functools import partial\n",
      "import itertools as IT"
     ],
     "language": "python",
     "metadata": {},
     "outputs": [],
     "prompt_number": 1
    },
    {
     "cell_type": "code",
     "collapsed": false,
     "input": [
      "d0 = [\n",
      "\t['B', 'D', 'A', 'E'],\n",
      "\t['B', 'D', 'A', 'E', 'C'],\n",
      "\t['B', 'A', 'E', 'C'],\n",
      "\t['B', 'D', 'A'],\n",
      "\t['D'],\n",
      "\t['B', 'D'],\n",
      "\t['D', 'A', 'E'],\n",
      "\t['B', 'C']\n",
      "]"
     ],
     "language": "python",
     "metadata": {},
     "outputs": [],
     "prompt_number": 2
    },
    {
     "cell_type": "code",
     "collapsed": false,
     "input": [
      "tx = [ set(trans) for trans in d0 ]\n",
      "# flatten the data (from list of sets to list of items)\n",
      "txf = [itm for trans in tx for itm in trans]\n",
      "# get frequency of each item\n",
      "item_counter = CL.defaultdict(int)\n",
      "for itm in txf:\n",
      "    item_counter[itm] += 1"
     ],
     "language": "python",
     "metadata": {},
     "outputs": [],
     "prompt_number": 5
    },
    {
     "cell_type": "code",
     "collapsed": false,
     "input": [
      "item_counter"
     ],
     "language": "python",
     "metadata": {},
     "outputs": [
      {
       "metadata": {},
       "output_type": "pyout",
       "prompt_number": 6,
       "text": [
        "defaultdict(<class 'int'>, {'B': 6, 'C': 3, 'A': 5, 'D': 6, 'E': 4})"
       ]
      }
     ],
     "prompt_number": 6
    },
    {
     "cell_type": "code",
     "collapsed": false,
     "input": [
      "d0"
     ],
     "language": "python",
     "metadata": {},
     "outputs": [
      {
       "metadata": {},
       "output_type": "pyout",
       "prompt_number": 7,
       "text": [
        "[['B', 'D', 'A', 'E'],\n",
        " ['B', 'D', 'A', 'E', 'C'],\n",
        " ['B', 'A', 'E', 'C'],\n",
        " ['B', 'D', 'A'],\n",
        " ['D'],\n",
        " ['B', 'D'],\n",
        " ['D', 'A', 'E'],\n",
        " ['B', 'C']]"
       ]
      }
     ],
     "prompt_number": 7
    },
    {
     "cell_type": "code",
     "collapsed": false,
     "input": [
      "total = sum(item_counter.values())"
     ],
     "language": "python",
     "metadata": {},
     "outputs": [],
     "prompt_number": 8
    },
    {
     "cell_type": "code",
     "collapsed": false,
     "input": [
      "total"
     ],
     "language": "python",
     "metadata": {},
     "outputs": [
      {
       "metadata": {},
       "output_type": "pyout",
       "prompt_number": 9,
       "text": [
        "24"
       ]
      }
     ],
     "prompt_number": 9
    },
    {
     "cell_type": "code",
     "collapsed": false,
     "input": [
      "min_spt = .2\n",
      "ic = {k:v for k, v in item_counter.items() if (v/total) < min_spt}"
     ],
     "language": "python",
     "metadata": {},
     "outputs": [],
     "prompt_number": 10
    },
    {
     "cell_type": "code",
     "collapsed": false,
     "input": [
      "excluded_items = list(ic.keys())\n",
      "excluded_items_expr = []\n",
      "str_templ = '(q==\"{0}\")'\n",
      "for itm in excluded_items:\n",
      "\t\t    excluded_items_expr.append(str_templ.format(itm))\n",
      "filter_str = \" | \".join(excluded_items_expr)"
     ],
     "language": "python",
     "metadata": {},
     "outputs": [],
     "prompt_number": 12
    },
    {
     "cell_type": "code",
     "collapsed": false,
     "input": [
      "filter_str"
     ],
     "language": "python",
     "metadata": {},
     "outputs": [
      {
       "metadata": {},
       "output_type": "pyout",
       "prompt_number": 13,
       "text": [
        "'(q==\"C\") | (q==\"E\")'"
       ]
      }
     ],
     "prompt_number": 13
    },
    {
     "cell_type": "code",
     "collapsed": false,
     "input": [
      "tx = [IT.filterfalse(lambda q: eval(filter_str), trans) for trans in d0]\n",
      "tx = list(map(list, tx))"
     ],
     "language": "python",
     "metadata": {},
     "outputs": [],
     "prompt_number": 17
    },
    {
     "cell_type": "code",
     "collapsed": false,
     "input": [
      "tx"
     ],
     "language": "python",
     "metadata": {},
     "outputs": [
      {
       "metadata": {},
       "output_type": "pyout",
       "prompt_number": 18,
       "text": [
        "[['B', 'D', 'A'],\n",
        " ['B', 'D', 'A'],\n",
        " ['B', 'A'],\n",
        " ['B', 'D', 'A'],\n",
        " ['D'],\n",
        " ['B', 'D'],\n",
        " ['D', 'A'],\n",
        " ['B']]"
       ]
      }
     ],
     "prompt_number": 18
    },
    {
     "cell_type": "code",
     "collapsed": false,
     "input": [
      "def remove_items_below_min_spt(transactions, item_counter, min_spt):\n",
      "\t\t\"\"\"\n",
      "\t\treturns: transactions w/ items whose frequency is < min_spt \n",
      "\t\tpass in: \n",
      "\t\t\tmin_spt (float, eg, 0.03 means each item must appear in \n",
      "\t\t\tat least 3% of the transactions)\n",
      "\t\t\"\"\"\n",
      "\t\t# identify the (unique) items that fallow below min_spt\n",
      "\t\ttotal = sum(item_counter.values())\n",
      "\t\tic = {k:v for k, v in item_counter.items() if (v/total) < min_spt}\n",
      "\t\t# build the expression\n",
      "\t\texcluded_items = list(ic.keys())\n",
      "\t\texcluded_items_expr = []\n",
      "\t\tstr_templ = '(q==\"{0}\")'\n",
      "\t\tfor itm in excluded_items:\n",
      "\t\t    excluded_items_expr.append(str_templ.format(itm))\n",
      "\t\tfilter_str = \" | \".join(excluded_items_expr)\n",
      "\t\t# remove those below threshold items from the transactions\n",
      "\t\ttx = [IT.filterfalse(lambda q: eval(filter_str), trans) \n",
      "\t\t\t\tfor trans in transactions]\n",
      "\t\treturn list(map(list, tx))\n"
     ],
     "language": "python",
     "metadata": {},
     "outputs": [],
     "prompt_number": 19
    },
    {
     "cell_type": "code",
     "collapsed": false,
     "input": [
      "tx = remove_items_below_min_spt(d0, item_counter, 0.2)"
     ],
     "language": "python",
     "metadata": {},
     "outputs": [],
     "prompt_number": 21
    },
    {
     "cell_type": "code",
     "collapsed": false,
     "input": [
      "tx"
     ],
     "language": "python",
     "metadata": {},
     "outputs": [
      {
       "metadata": {},
       "output_type": "pyout",
       "prompt_number": 22,
       "text": [
        "[['B', 'D', 'A'],\n",
        " ['B', 'D', 'A'],\n",
        " ['B', 'A'],\n",
        " ['B', 'D', 'A'],\n",
        " ['D'],\n",
        " ['B', 'D'],\n",
        " ['D', 'A'],\n",
        " ['B']]"
       ]
      }
     ],
     "prompt_number": 22
    },
    {
     "cell_type": "code",
     "collapsed": false,
     "input": [
      "lx = sum([len(row) for row in d0])\n",
      "lx"
     ],
     "language": "python",
     "metadata": {},
     "outputs": [
      {
       "metadata": {},
       "output_type": "pyout",
       "prompt_number": 23,
       "text": [
        "24"
       ]
      }
     ],
     "prompt_number": 23
    },
    {
     "cell_type": "code",
     "collapsed": false,
     "input": [
      "item_counter"
     ],
     "language": "python",
     "metadata": {},
     "outputs": [
      {
       "metadata": {},
       "output_type": "pyout",
       "prompt_number": 24,
       "text": [
        "defaultdict(<class 'int'>, {'B': 6, 'C': 3, 'A': 5, 'D': 6, 'E': 4})"
       ]
      }
     ],
     "prompt_number": 24
    },
    {
     "cell_type": "code",
     "collapsed": false,
     "input": [
      "filter_str"
     ],
     "language": "python",
     "metadata": {},
     "outputs": [
      {
       "metadata": {},
       "output_type": "pyout",
       "prompt_number": 25,
       "text": [
        "'(q==\"C\") | (q==\"E\")'"
       ]
      }
     ],
     "prompt_number": 25
    },
    {
     "cell_type": "code",
     "collapsed": false,
     "input": [
      "ic = {k:v for k, v in item_counter.items() if (v/total) >= min_spt}"
     ],
     "language": "python",
     "metadata": {},
     "outputs": [],
     "prompt_number": 28
    },
    {
     "cell_type": "code",
     "collapsed": false,
     "input": [
      "ic"
     ],
     "language": "python",
     "metadata": {},
     "outputs": [
      {
       "metadata": {},
       "output_type": "pyout",
       "prompt_number": 29,
       "text": [
        "{'A': 5, 'B': 6, 'D': 6}"
       ]
      }
     ],
     "prompt_number": 29
    },
    {
     "cell_type": "code",
     "collapsed": false,
     "input": [
      "def remove_items_below_min_spt(transactions, item_counter, min_spt):\n",
      "\t\t\"\"\"\n",
      "\t\treturns: \n",
      "\t\t\t(i) filterd transactions (remove items w/ freq < min_spt);\n",
      "\t\t\t(ii) filtered item counter\n",
      "\t\tpass in: \n",
      "\t\t\tmin_spt (float, eg, 0.03 means each item must appear in \n",
      "\t\t\tat least 3% of the transactions)\n",
      "\t\t\"\"\"\n",
      "\t\t# identify the (unique) items that fallow below min_spt\n",
      "\t\ttotal = sum([len(row) for row in transactions])\n",
      "\t\tic0 = {k:v for k, v in item_counter.items() if (v/total) < min_spt}\n",
      "\t\t# build the expression\n",
      "\t\texcluded_items = list(ic.keys())\n",
      "\t\texcluded_items_expr = []\n",
      "\t\tstr_templ = '(q==\"{0}\")'\n",
      "\t\tfor itm in excluded_items:\n",
      "\t\t    excluded_items_expr.append(str_templ.format(itm))\n",
      "\t\tfilter_str = \" | \".join(excluded_items_expr)\n",
      "\t\t# remove those below threshold items from the transactions\n",
      "\t\ttx = [IT.filterfalse(lambda q: eval(filter_str), trans) \n",
      "\t\t\t\tfor trans in transactions]\n",
      "\t\tic = {k:v for k, v in item_counter.items() if (v/total) >= min_spt}\n",
      "\t\treturn list(map(list, tx)), ic"
     ],
     "language": "python",
     "metadata": {},
     "outputs": [],
     "prompt_number": 30
    },
    {
     "cell_type": "code",
     "collapsed": false,
     "input": [
      "def config_fptree_builder(transactions, min_spt=None):\n",
      "\t\"\"\"\n",
      "\treturns: header table & transactions for input to build_tree;\n",
      "\tpass in: \n",
      "\t\traw data (nested list of transactions);\n",
      "\t\tmin_spt (float) fraction of total transactions in which an item\n",
      "\t\t\tmust appear to be included in the fptree\n",
      "\t\"\"\"\n",
      "\ttransactions = [ set(trans) for trans in transactions ]\n",
      "\t# flatten the data (from list of sets to list of items)\n",
      "\ttrans_flat = [itm for trans in transactions for itm in trans]\n",
      "\t# get frequency of each item\n",
      "\titem_counter = CL.defaultdict(int)\n",
      "\tfor itm in trans_flat:\n",
      "\t\titem_counter[itm] += 1\n",
      "\tif min_spt:\n",
      "\t\ttransactions, item_counter = remove_items_below_min_spt(transactions, min_spt)\n",
      "\t# to sort by decr frequency, then secondary (alpha) sort by key (incr),\n",
      "\t# sort first by secondary key, then again by primary key\n",
      "\tic = sorted(((k, v) for k, v in item_counter.items()), \n",
      "\t\tkey=itemgetter(0))\n",
      "\tic = sorted(ic, key=itemgetter(1), reverse=True)\n",
      "\tsort_key = {t[0]: i for i, t in enumerate(ic)}\n",
      "\tfnx = lambda q: sorted(q, key=sort_key.__getitem__)\n",
      "\ttransactions = map(fnx, transactions)\n",
      "\t# build header table from freq_items w/ empty placeholders for node pointer\n",
      "\thtable = CL.defaultdict(list)\n",
      "\tfor k in item_counter.keys():\n",
      "\t    htable[k].append(item_counter[k])\n",
      "\treturn htable, transactions"
     ],
     "language": "python",
     "metadata": {},
     "outputs": [],
     "prompt_number": 42
    },
    {
     "cell_type": "code",
     "collapsed": false,
     "input": [
      "class TreeNode:\n",
      "\n",
      "\tdef __init__(self, node_name, parent_node):\n",
      "\t\tself.name = node_name\n",
      "\t\tself.node_link = None\n",
      "\t\tself.count = 1\n",
      "\t\tself.parent = parent_node\n",
      "\t\tself.children = {} \n",
      "\n",
      "\tdef incr(self, freq=1):\n",
      "\t\tself.count += freq "
     ],
     "language": "python",
     "metadata": {},
     "outputs": [],
     "prompt_number": 43
    },
    {
     "cell_type": "code",
     "collapsed": false,
     "input": [
      "def add_nodes(trans, header_table, parent_node):\n",
      "\t\"\"\"\n",
      "\tpass in: \n",
      "\t\ta transaction (list), \n",
      "\t\theader table (dict)\n",
      "\t\tparent_node (instance of class TreeNode);\n",
      "\treturns: nothing, converts a single transaction to\n",
      "\t\tnodes in an fp-tree (or increments counts if exists)\n",
      "\t\tand updates the companion header table \n",
      "\t\"\"\"\n",
      "\twhile len(trans) > 0:\n",
      "\t\titm = trans.pop(0)\n",
      "\t\t# does this item appear in the same route?\n",
      "\t\t# if so it will have to be upsteam & adjacent given how the items\n",
      "\t\t# are sorted prior to tree building & given that the fp-tree is\n",
      "\t\t# built from the top down\n",
      "\t\tif itm in parent_node.children.keys():\n",
      "\t\t\tparent_node.children[itm].incr()\n",
      "\t\telse:\n",
      "\t\t\t# create the node & add it to the tree\n",
      "\t\t\tparent_node.children[itm] = TreeNode(itm, parent_node)\n",
      "\t\t\tthis_node = parent_node.children[itm]\n",
      "\t\t\ttry:\n",
      "\t\t\t\t# is there at least one node pointer for this itm \n",
      "\t\t\t\t# in the header table?\n",
      "\t\t\t\t# ie, does this item appear in another route, or\n",
      "\t\t\t\theader_table[itm][1]\n",
      "\t\t\t\t# if so:\n",
      "\t\t\t\theader_table[itm][-1].node_link = this_node\n",
      "\t\t\t\theader_table[itm].append(this_node)\n",
      "\t\t\texcept IndexError:\n",
      "\t\t\t\t# this is the 1st time this itm is seen by this fn\n",
      "\t\t\t\t# ie, no node pointer for this item in h/t, so add it\n",
      "\t\t\t\theader_table[itm].append(this_node)\n",
      "\t\tthis_node = parent_node.children[itm]\n",
      "\t\tadd_nodes(trans, header_table, this_node)"
     ],
     "language": "python",
     "metadata": {},
     "outputs": [],
     "prompt_number": 44
    },
    {
     "cell_type": "code",
     "collapsed": false,
     "input": [
      "def build_fptree(transactions, min_spt):\n",
      "\t\"\"\"\n",
      "\tpass in: \n",
      "\t\traw data (list of transactions; one transcation per list)\n",
      "\treturns: fptree;\n",
      "\tinstantiates fptree and builds it by calling 'add_node';\n",
      "\twhen called, bind result to 2 variables: one for thetree;\n",
      "\tthe second for for the header table;\n",
      "\t\"\"\"\n",
      "\tfptree = TreeNode('root', None)\n",
      "\troot = fptree\n",
      "\theader_table, transactions = config_fptree_builder(transactions, min_spt)\n",
      "\tfor trans in transactions:\n",
      "\t\tadd_nodes(trans, header_table, root)\n",
      "\theader_table = {k:v[:2] for k, v in header_table.items()}\n",
      "\treturn fptree, header_table"
     ],
     "language": "python",
     "metadata": {},
     "outputs": [],
     "prompt_number": 45
    },
    {
     "cell_type": "code",
     "collapsed": false,
     "input": [
      "def fpt(tn):\n",
      "\t\"\"\"\n",
      "\treturns: None;\n",
      "\tpass in: an fptree node;\n",
      "\tconvenience funciton for informal, node-by-node introspection\n",
      "\tof the fptree object; call unbound to variable\n",
      "\t\"\"\"\n",
      "\tprint(\"count: {0}\".format(tn.count))\n",
      "\tprint(\"name: {0}\".format(tn.name))\n",
      "\tprint(\"children: {0}\".format(list(tn.children.keys())))\n",
      "\tprint(\"parent: {0}\".format(tn.parent.name))"
     ],
     "language": "python",
     "metadata": {},
     "outputs": [],
     "prompt_number": 46
    },
    {
     "cell_type": "code",
     "collapsed": false,
     "input": [
      "d0"
     ],
     "language": "python",
     "metadata": {},
     "outputs": [
      {
       "metadata": {},
       "output_type": "pyout",
       "prompt_number": 47,
       "text": [
        "[['B', 'D', 'A', 'E'],\n",
        " ['B', 'D', 'A', 'E', 'C'],\n",
        " ['B', 'A', 'E', 'C'],\n",
        " ['B', 'D', 'A'],\n",
        " ['D'],\n",
        " ['B', 'D'],\n",
        " ['D', 'A', 'E'],\n",
        " ['B', 'C']]"
       ]
      }
     ],
     "prompt_number": 47
    },
    {
     "cell_type": "code",
     "collapsed": false,
     "input": [
      "def filter_by_min_spt(dataset, item_counter, min_spt):\n",
      "\t\t\"\"\"\n",
      "\t\treturns: \n",
      "\t\t\t(i) filterd dataset (remove items w/ freq < min_spt);\n",
      "\t\t\t(ii) filtered item counter\n",
      "\t\tpass in:\n",
      "\t\t\t(i) dataset (the raw dataset);\n",
      "\t\t\t(ii) dict w/ items for keys, values are frequency;\n",
      "\t\t\t(iii) min_spt (float, eg, 0.03 means each item must appear in \n",
      "\t\t\tat least 3% of the dataset); \n",
      "\t\tremoves any item from every transaction if that item's total freq\n",
      "\t\tis below 'min_spt' \n",
      "\t\t\"\"\"\n",
      "\t\t# identify the (unique) items that fallow below min_spt\n",
      "\t\ttotal = sum([len(row) for row in dataset])\n",
      "\t\tic0 = {k:v for k, v in item_counter.items() if (v/total) < min_spt}\n",
      "\t\t# build the expression\n",
      "\t\texcluded_items = list(ic0.keys())\n",
      "\t\texcluded_items_expr = []\n",
      "\t\tstr_templ = '(q==\"{0}\")'\n",
      "\t\tfor itm in excluded_items:\n",
      "\t\t    excluded_items_expr.append(str_templ.format(itm))\n",
      "\t\tfilter_str = \" | \".join(excluded_items_expr)\n",
      "\t\t# remove those below threshold items from the dataset\n",
      "\t\ttx = [IT.filterfalse(lambda q: eval(filter_str), trans) \n",
      "\t\t\t\tfor trans in dataset]\n",
      "\t\tic = {k:v for k, v in item_counter.items() if (v/total) >= min_spt}\n",
      "\t\treturn list(map(list, tx)), ic"
     ],
     "language": "python",
     "metadata": {},
     "outputs": [],
     "prompt_number": 65
    },
    {
     "cell_type": "code",
     "collapsed": false,
     "input": [
      "def config_fptree_builder(dataset, min_spt=None):\n",
      "\t\"\"\"\n",
      "\treturns: header table & dataset for input to build_tree;\n",
      "\tpass in: \n",
      "\t\traw data (nested list of dataset);\n",
      "\t\tmin_spt (float) fraction of total dataset in which an item\n",
      "\t\t\tmust appear to be included in the fptree\n",
      "\t\"\"\"\n",
      "\tdataset = [ set(trans) for trans in dataset ]\n",
      "\t# flatten the data (from list of sets to list of items)\n",
      "\ttrans_flat = [itm for trans in dataset for itm in trans]\n",
      "\t# get frequency of each item\n",
      "\titem_counter = CL.defaultdict(int)\n",
      "\tfor itm in trans_flat:\n",
      "\t\titem_counter[itm] += 1\n",
      "\tif min_spt:\n",
      "\t\tdataset, item_counter = filter_by_min_spt(dataset, item_counter, min_spt)\n",
      "\t# to sort by decr frequency, then secondary (alpha) sort by key (incr),\n",
      "\t# sort first by secondary key, then again by primary key\n",
      "\tic = sorted(((k, v) for k, v in item_counter.items()), \n",
      "\t\tkey=itemgetter(0))\n",
      "\tic = sorted(ic, key=itemgetter(1), reverse=True)\n",
      "\tsort_key = {t[0]: i for i, t in enumerate(ic)}\n",
      "\tfnx = lambda q: sorted(q, key=sort_key.__getitem__)\n",
      "\tdataset = map(fnx, dataset)\n",
      "\t# build header table from freq_items w/ empty placeholders for node pointer\n",
      "\thtable = CL.defaultdict(list)\n",
      "\tfor k in item_counter.keys():\n",
      "\t    htable[k].append(item_counter[k])\n",
      "\treturn htable, dataset"
     ],
     "language": "python",
     "metadata": {},
     "outputs": [],
     "prompt_number": 66
    },
    {
     "cell_type": "code",
     "collapsed": false,
     "input": [
      "class TreeNode:\n",
      "\n",
      "\tdef __init__(self, node_name, parent_node):\n",
      "\t\tself.name = node_name\n",
      "\t\tself.node_link = None\n",
      "\t\tself.count = 1\n",
      "\t\tself.parent = parent_node\n",
      "\t\tself.children = {} \n",
      "\n",
      "\tdef incr(self, freq=1):\n",
      "\t\tself.count += freq "
     ],
     "language": "python",
     "metadata": {},
     "outputs": [],
     "prompt_number": 67
    },
    {
     "cell_type": "code",
     "collapsed": false,
     "input": [
      "def add_nodes(trans, header_table, parent_node):\n",
      "\t\"\"\"\n",
      "\tpass in: \n",
      "\t\ta transaction (list), \n",
      "\t\theader table (dict)\n",
      "\t\tparent_node (instance of class TreeNode);\n",
      "\treturns: nothing, converts a single transaction to\n",
      "\t\tnodes in an fp-tree (or increments counts if exists)\n",
      "\t\tand updates the companion header table \n",
      "\t\"\"\"\n",
      "\twhile len(trans) > 0:\n",
      "\t\titm = trans.pop(0)\n",
      "\t\t# does this item appear in the same route?\n",
      "\t\t# if so it will have to be upsteam & adjacent given how the items\n",
      "\t\t# are sorted prior to tree building & given that the fp-tree is\n",
      "\t\t# built from the top down\n",
      "\t\tif itm in parent_node.children.keys():\n",
      "\t\t\tparent_node.children[itm].incr()\n",
      "\t\telse:\n",
      "\t\t\t# create the node & add it to the tree\n",
      "\t\t\tparent_node.children[itm] = TreeNode(itm, parent_node)\n",
      "\t\t\tthis_node = parent_node.children[itm]\n",
      "\t\t\ttry:\n",
      "\t\t\t\t# is there at least one node pointer for this itm \n",
      "\t\t\t\t# in the header table?\n",
      "\t\t\t\t# ie, does this item appear in another route, or\n",
      "\t\t\t\theader_table[itm][1]\n",
      "\t\t\t\t# if so:\n",
      "\t\t\t\theader_table[itm][-1].node_link = this_node\n",
      "\t\t\t\theader_table[itm].append(this_node)\n",
      "\t\t\texcept IndexError:\n",
      "\t\t\t\t# this is the 1st time this itm is seen by this fn\n",
      "\t\t\t\t# ie, no node pointer for this item in h/t, so add it\n",
      "\t\t\t\theader_table[itm].append(this_node)\n",
      "\t\tthis_node = parent_node.children[itm]\n",
      "\t\tadd_nodes(trans, header_table, this_node)"
     ],
     "language": "python",
     "metadata": {},
     "outputs": [],
     "prompt_number": 68
    },
    {
     "cell_type": "code",
     "collapsed": false,
     "input": [
      "def build_fptree(dataset, min_spt):\n",
      "\t\"\"\"\n",
      "\tpass in: \n",
      "\t\traw data (list of dataset; one transcation per list)\n",
      "\treturns: fptree;\n",
      "\tinstantiates fptree and builds it by calling 'add_node';\n",
      "\twhen called, bind result to 2 variables: one for thetree;\n",
      "\tthe second for for the header table;\n",
      "\t\"\"\"\n",
      "\tfptree = TreeNode('root', None)\n",
      "\troot = fptree\n",
      "\theader_table, dataset = config_fptree_builder(dataset, min_spt)\n",
      "\tfor trans in dataset:\n",
      "\t\tadd_nodes(trans, header_table, root)\n",
      "\theader_table = {k:v[:2] for k, v in header_table.items()}\n",
      "\treturn fptree, header_table"
     ],
     "language": "python",
     "metadata": {},
     "outputs": [],
     "prompt_number": 69
    },
    {
     "cell_type": "code",
     "collapsed": false,
     "input": [
      "fptree, htab = build_fptree(d0, 0.1)"
     ],
     "language": "python",
     "metadata": {},
     "outputs": [
      {
       "ename": "SyntaxError",
       "evalue": "unexpected EOF while parsing (<string>, line 0)",
       "output_type": "pyerr",
       "traceback": [
        "\u001b[0;36m  File \u001b[0;32m\"<string>\"\u001b[0;36m, line \u001b[0;32munknown\u001b[0m\n\u001b[0;31m    \u001b[0m\n\u001b[0m    ^\u001b[0m\n\u001b[0;31mSyntaxError\u001b[0m\u001b[0;31m:\u001b[0m unexpected EOF while parsing\n"
       ]
      }
     ],
     "prompt_number": 70
    },
    {
     "cell_type": "code",
     "collapsed": false,
     "input": [
      "item_counter"
     ],
     "language": "python",
     "metadata": {},
     "outputs": [
      {
       "metadata": {},
       "output_type": "pyout",
       "prompt_number": 71,
       "text": [
        "defaultdict(<class 'int'>, {'B': 6, 'C': 3, 'A': 5, 'D': 6, 'E': 4})"
       ]
      }
     ],
     "prompt_number": 71
    },
    {
     "cell_type": "code",
     "collapsed": false,
     "input": [
      "def filter_by_min_spt(dataset, item_counter, min_spt):\n",
      "\t\t\"\"\"\n",
      "\t\treturns: \n",
      "\t\t\t(i) filterd dataset (remove items w/ freq < min_spt);\n",
      "\t\t\t(ii) filtered item counter\n",
      "\t\tpass in:\n",
      "\t\t\t(i) dataset (the raw dataset);\n",
      "\t\t\t(ii) dict w/ items for keys, values are frequency;\n",
      "\t\t\t(iii) min_spt (float, eg, 0.03 means each item must appear in \n",
      "\t\t\tat least 3% of the dataset); \n",
      "\t\tremoves any item from every transaction if that item's total freq\n",
      "\t\tis below 'min_spt' \n",
      "\t\t\"\"\"\n",
      "\t\t# identify the (unique) items that fallow below min_spt\n",
      "\t\ttotal = sum([len(row) for row in dataset])\n",
      "\t\tic0 = {k:v for k, v in item_counter.items() if (v/total) < min_spt}\n",
      "\t\t# build the expression\n",
      "\t\texcluded_items = list(ic0.keys())\n",
      "\t\texcluded_items_expr = []\n",
      "\t\tstr_templ = '(q==\"{0}\")'\n",
      "\t\tfor itm in excluded_items:\n",
      "\t\t    excluded_items_expr.append(str_templ.format(itm))\n",
      "\t\tfilter_str = \" | \".join(excluded_items_expr)\n",
      "\t\t# remove those below threshold items from the dataset\n",
      "\t\ttx = [IT.filterfalse(lambda q: eval(filter_str), trans) \n",
      "\t\t\t\tfor trans in dataset]\n",
      "\t\tic = {k:v for k, v in item_counter.items() if (v/total) >= min_spt}\n",
      "\t\treturn list(map(list, tx)), ic"
     ],
     "language": "python",
     "metadata": {},
     "outputs": [],
     "prompt_number": 72
    },
    {
     "cell_type": "code",
     "collapsed": false,
     "input": [
      "tx, ic = filter_by_min_spt(d0, item_counter, 0.2)"
     ],
     "language": "python",
     "metadata": {},
     "outputs": [],
     "prompt_number": 74
    },
    {
     "cell_type": "code",
     "collapsed": false,
     "input": [
      "tx"
     ],
     "language": "python",
     "metadata": {},
     "outputs": [
      {
       "metadata": {},
       "output_type": "pyout",
       "prompt_number": 75,
       "text": [
        "[['B', 'D', 'A'],\n",
        " ['B', 'D', 'A'],\n",
        " ['B', 'A'],\n",
        " ['B', 'D', 'A'],\n",
        " ['D'],\n",
        " ['B', 'D'],\n",
        " ['D', 'A'],\n",
        " ['B']]"
       ]
      }
     ],
     "prompt_number": 75
    },
    {
     "cell_type": "code",
     "collapsed": false,
     "input": [
      "ic"
     ],
     "language": "python",
     "metadata": {},
     "outputs": [
      {
       "metadata": {},
       "output_type": "pyout",
       "prompt_number": 76,
       "text": [
        "{'A': 5, 'B': 6, 'D': 6}"
       ]
      }
     ],
     "prompt_number": 76
    },
    {
     "cell_type": "code",
     "collapsed": false,
     "input": [
      "total = sum([len(row) for row in d0])"
     ],
     "language": "python",
     "metadata": {},
     "outputs": [],
     "prompt_number": 78
    },
    {
     "cell_type": "code",
     "collapsed": false,
     "input": [
      "total"
     ],
     "language": "python",
     "metadata": {},
     "outputs": [
      {
       "metadata": {},
       "output_type": "pyout",
       "prompt_number": 79,
       "text": [
        "24"
       ]
      }
     ],
     "prompt_number": 79
    },
    {
     "cell_type": "code",
     "collapsed": false,
     "input": [
      "ic0 = {k:v for k, v in item_counter.items() if (v/total) < 0.1}"
     ],
     "language": "python",
     "metadata": {},
     "outputs": [],
     "prompt_number": 80
    },
    {
     "cell_type": "code",
     "collapsed": false,
     "input": [
      "ic0"
     ],
     "language": "python",
     "metadata": {},
     "outputs": [
      {
       "metadata": {},
       "output_type": "pyout",
       "prompt_number": 81,
       "text": [
        "{}"
       ]
      }
     ],
     "prompt_number": 81
    },
    {
     "cell_type": "code",
     "collapsed": false,
     "input": [
      "if ic0:\n",
      "    print(\"ok!\")"
     ],
     "language": "python",
     "metadata": {},
     "outputs": [],
     "prompt_number": 82
    },
    {
     "cell_type": "code",
     "collapsed": false,
     "input": [
      "def filter_by_min_spt(dataset, item_counter, min_spt):\n",
      "\t\t\"\"\"\n",
      "\t\treturns: \n",
      "\t\t\t(i) filterd dataset (remove items w/ freq < min_spt);\n",
      "\t\t\t(ii) filtered item counter\n",
      "\t\tpass in:\n",
      "\t\t\t(i) dataset (the raw dataset);\n",
      "\t\t\t(ii) dict w/ items for keys, values are frequency;\n",
      "\t\t\t(iii) min_spt (float, eg, 0.03 means each item must appear in \n",
      "\t\t\tat least 3% of the dataset); \n",
      "\t\tremoves any item from every transaction if that item's total freq\n",
      "\t\tis below 'min_spt' \n",
      "\t\t\"\"\"\n",
      "\t\t# identify the (unique) items that fallow below min_spt\n",
      "\t\ttotal = sum([len(row) for row in dataset])\n",
      "\t\tic0 = {k:v for k, v in item_counter.items() if (v/total) < min_spt}\n",
      "\t\tif not ic0:\n",
      "\t\t\t# if all items are above min_spt, then just return original args\n",
      "\t\t\treturn dataset, item_counter\n",
      "\t\telse:\n",
      "\t\t\t# build the expression\n",
      "\t\t\texcluded_items = list(ic0.keys())\n",
      "\t\t\texcluded_items_expr = []\n",
      "\t\t\tstr_templ = '(q==\"{0}\")'\n",
      "\t\t\tfor itm in excluded_items:\n",
      "\t\t\t    excluded_items_expr.append(str_templ.format(itm))\n",
      "\t\t\tfilter_str = \" | \".join(excluded_items_expr)\n",
      "\t\t\t# remove those below threshold items from the dataset\n",
      "\t\t\ttx = [IT.filterfalse(lambda q: eval(filter_str), trans) \n",
      "\t\t\t\t\tfor trans in dataset]\n",
      "\t\t\tic = {k:v for k, v in item_counter.items() if (v/total) >= min_spt}\n",
      "\t\t\treturn list(map(list, tx)), ic"
     ],
     "language": "python",
     "metadata": {},
     "outputs": [],
     "prompt_number": 83
    },
    {
     "cell_type": "code",
     "collapsed": false,
     "input": [
      "fptree, htab = build_fptree(d0, 0.1)"
     ],
     "language": "python",
     "metadata": {},
     "outputs": [],
     "prompt_number": 84
    },
    {
     "cell_type": "code",
     "collapsed": false,
     "input": [
      "B1 = fptree.children['B']\n",
      "D1 = fptree.children['D']\n",
      "fpt(B1)"
     ],
     "language": "python",
     "metadata": {},
     "outputs": [
      {
       "output_type": "stream",
       "stream": "stdout",
       "text": [
        "count: 6\n",
        "name: B\n",
        "children: ['C', 'A', 'D']\n",
        "parent: root\n"
       ]
      }
     ],
     "prompt_number": 86
    },
    {
     "cell_type": "code",
     "collapsed": false,
     "input": [
      "fpt(D1)"
     ],
     "language": "python",
     "metadata": {},
     "outputs": [
      {
       "output_type": "stream",
       "stream": "stdout",
       "text": [
        "count: 2\n",
        "name: D\n",
        "children: ['A']\n",
        "parent: root\n"
       ]
      }
     ],
     "prompt_number": 87
    },
    {
     "cell_type": "code",
     "collapsed": false,
     "input": [
      "def fnx(a):\n",
      "    if a > 5:\n",
      "        return [a]\n",
      "    else:\n",
      "        return []"
     ],
     "language": "python",
     "metadata": {},
     "outputs": [],
     "prompt_number": 88
    },
    {
     "cell_type": "code",
     "collapsed": false,
     "input": [
      "fnx(12)"
     ],
     "language": "python",
     "metadata": {},
     "outputs": [
      {
       "metadata": {},
       "output_type": "pyout",
       "prompt_number": 89,
       "text": [
        "[12]"
       ]
      }
     ],
     "prompt_number": 89
    },
    {
     "cell_type": "code",
     "collapsed": false,
     "input": [
      "fnx(3)"
     ],
     "language": "python",
     "metadata": {},
     "outputs": [
      {
       "metadata": {},
       "output_type": "pyout",
       "prompt_number": 90,
       "text": [
        "[]"
       ]
      }
     ],
     "prompt_number": 90
    },
    {
     "cell_type": "code",
     "collapsed": false,
     "input": [
      "if fnx(2): \n",
      "    print('ok!')"
     ],
     "language": "python",
     "metadata": {},
     "outputs": [],
     "prompt_number": 91
    },
    {
     "cell_type": "code",
     "collapsed": false,
     "input": [
      "if not fnx(2):\n",
      "    print('ok!')"
     ],
     "language": "python",
     "metadata": {},
     "outputs": [
      {
       "output_type": "stream",
       "stream": "stdout",
       "text": [
        "ok!\n"
       ]
      }
     ],
     "prompt_number": 92
    },
    {
     "cell_type": "code",
     "collapsed": false,
     "input": [
      "def get_items_below_min_spt(dataset, item_counter, min_spt):\n",
      "\t\"\"\"\n",
      "\treturns: list of the unique items whose frequency over the entire\n",
      "\t\tdataset is below some min_spt (float between 0 and 1, \n",
      "\t\t('decimal percent')\n",
      "\tpass in: \n",
      "\t\t(i) dict w/ items for keys, values are item frequency;\n",
      "\t\t(ii) min_spt (float, eg, 0.03 means each item must appear in \n",
      "\t\tat least 3% of the dataset);\n",
      "\t\"\"\"\n",
      "\tic = {k:v for k, v in item_counter.items() if (v/len(dataset)) < min_spt}\n",
      "\treturn list(ic.keys())"
     ],
     "language": "python",
     "metadata": {},
     "outputs": [],
     "prompt_number": 101
    },
    {
     "cell_type": "code",
     "collapsed": false,
     "input": [
      "def build_item_counter(dataset):\n",
      "\tdataset = [ set(trans) for trans in dataset ]\n",
      "\t# flatten the data (from list of sets to list of items)\n",
      "\ttrans_flat = [itm for trans in dataset for itm in trans]\n",
      "\t# get frequency of each item\n",
      "\titem_counter = CL.defaultdict(int)\n",
      "\tfor itm in trans_flat:\n",
      "\t\titem_counter[itm] += 1\n",
      "\treturn item_counter"
     ],
     "language": "python",
     "metadata": {},
     "outputs": [],
     "prompt_number": 103
    },
    {
     "cell_type": "code",
     "collapsed": false,
     "input": [
      "d0"
     ],
     "language": "python",
     "metadata": {},
     "outputs": [
      {
       "metadata": {},
       "output_type": "pyout",
       "prompt_number": 104,
       "text": [
        "[['B', 'D', 'A', 'E'],\n",
        " ['B', 'D', 'A', 'E', 'C'],\n",
        " ['B', 'A', 'E', 'C'],\n",
        " ['B', 'D', 'A'],\n",
        " ['D'],\n",
        " ['B', 'D'],\n",
        " ['D', 'A', 'E'],\n",
        " ['B', 'C']]"
       ]
      }
     ],
     "prompt_number": 104
    },
    {
     "cell_type": "code",
     "collapsed": false,
     "input": [
      "ic = build_item_counter(d0)"
     ],
     "language": "python",
     "metadata": {},
     "outputs": [],
     "prompt_number": 105
    },
    {
     "cell_type": "code",
     "collapsed": false,
     "input": [
      "get_items_below_min_spt(d0, ic, 0.2)"
     ],
     "language": "python",
     "metadata": {},
     "outputs": [
      {
       "metadata": {},
       "output_type": "pyout",
       "prompt_number": 107,
       "text": [
        "[]"
       ]
      }
     ],
     "prompt_number": 107
    },
    {
     "cell_type": "code",
     "collapsed": false,
     "input": [
      "min_spt = .2"
     ],
     "language": "python",
     "metadata": {},
     "outputs": [],
     "prompt_number": 108
    },
    {
     "cell_type": "code",
     "collapsed": false,
     "input": [
      "ic = {k:v for k, v in ic.items() if (v/len(d0)) < min_spt}"
     ],
     "language": "python",
     "metadata": {},
     "outputs": [],
     "prompt_number": 109
    },
    {
     "cell_type": "code",
     "collapsed": false,
     "input": [
      "ic"
     ],
     "language": "python",
     "metadata": {},
     "outputs": [
      {
       "metadata": {},
       "output_type": "pyout",
       "prompt_number": 110,
       "text": [
        "{}"
       ]
      }
     ],
     "prompt_number": 110
    },
    {
     "cell_type": "code",
     "collapsed": false,
     "input": [
      "d0"
     ],
     "language": "python",
     "metadata": {},
     "outputs": [
      {
       "metadata": {},
       "output_type": "pyout",
       "prompt_number": 111,
       "text": [
        "[['B', 'D', 'A', 'E'],\n",
        " ['B', 'D', 'A', 'E', 'C'],\n",
        " ['B', 'A', 'E', 'C'],\n",
        " ['B', 'D', 'A'],\n",
        " ['D'],\n",
        " ['B', 'D'],\n",
        " ['D', 'A', 'E'],\n",
        " ['B', 'C']]"
       ]
      }
     ],
     "prompt_number": 111
    },
    {
     "cell_type": "code",
     "collapsed": false,
     "input": [
      "len(d0)"
     ],
     "language": "python",
     "metadata": {},
     "outputs": [
      {
       "metadata": {},
       "output_type": "pyout",
       "prompt_number": 112,
       "text": [
        "8"
       ]
      }
     ],
     "prompt_number": 112
    },
    {
     "cell_type": "code",
     "collapsed": false,
     "input": [
      "trans_flat = [itm for trans in d0 for itm in trans]\n",
      "item_counter = CL.defaultdict(int)\n",
      "for itm in trans_flat:\n",
      "\titem_counter[itm] += 1"
     ],
     "language": "python",
     "metadata": {},
     "outputs": [],
     "prompt_number": 115
    },
    {
     "cell_type": "code",
     "collapsed": false,
     "input": [
      "item_counter"
     ],
     "language": "python",
     "metadata": {},
     "outputs": [
      {
       "metadata": {},
       "output_type": "pyout",
       "prompt_number": 116,
       "text": [
        "defaultdict(<class 'int'>, {'B': 6, 'C': 3, 'A': 5, 'D': 6, 'E': 4})"
       ]
      }
     ],
     "prompt_number": 116
    },
    {
     "cell_type": "code",
     "collapsed": false,
     "input": [
      "3/8"
     ],
     "language": "python",
     "metadata": {},
     "outputs": [
      {
       "metadata": {},
       "output_type": "pyout",
       "prompt_number": 117,
       "text": [
        "0.375"
       ]
      }
     ],
     "prompt_number": 117
    },
    {
     "cell_type": "code",
     "collapsed": false,
     "input": [
      "ic = {k:v for k, v in item_counter.items() if (v/len(d0)) < 0.55}"
     ],
     "language": "python",
     "metadata": {},
     "outputs": [],
     "prompt_number": 122
    },
    {
     "cell_type": "code",
     "collapsed": false,
     "input": [
      "ic"
     ],
     "language": "python",
     "metadata": {},
     "outputs": [
      {
       "metadata": {},
       "output_type": "pyout",
       "prompt_number": 123,
       "text": [
        "{'C': 3, 'E': 4}"
       ]
      }
     ],
     "prompt_number": 123
    },
    {
     "cell_type": "code",
     "collapsed": false,
     "input": [
      "def get_items_below_min_spt(dataset, item_counter, min_spt):\n",
      "\t\"\"\"\n",
      "\treturns: list of the unique items whose frequency over the entire\n",
      "\t\tdataset is below some min_spt (float between 0 and 1, \n",
      "\t\t('decimal percent')\n",
      "\tpass in: \n",
      "\t\t(i) dict w/ items for keys, values are item frequency;\n",
      "\t\t(ii) min_spt (float, eg, 0.03 means each item must appear in \n",
      "\t\tat least 3% of the dataset);\n",
      "\t\"\"\"\n",
      "\tic = {k:v for k, v in item_counter.items() if (v/len(dataset)) < min_spt}\n",
      "\treturn list(ic.keys())"
     ],
     "language": "python",
     "metadata": {},
     "outputs": [],
     "prompt_number": 127
    },
    {
     "cell_type": "code",
     "collapsed": false,
     "input": [
      "get_items_below_min_spt(d0, item_counter, 0.55)"
     ],
     "language": "python",
     "metadata": {},
     "outputs": [
      {
       "metadata": {},
       "output_type": "pyout",
       "prompt_number": 128,
       "text": [
        "['C', 'E']"
       ]
      }
     ],
     "prompt_number": 128
    },
    {
     "cell_type": "code",
     "collapsed": false,
     "input": [
      "data2 = [\n",
      "\t['c', 'a', 't', 's'],\n",
      "\t['c', 'a', 't', 's', 'u', 'p'],\n",
      "\t['c', 'a', 't'],\n",
      "\t['c', 'a', 't', 'c', 'h'],\n",
      "\t['c', 'a', 't', 'n', 'i', 'p'],\n",
      "\t['c', 'a', 't', 'e', 'g', 'o', 'r', 'y'],\n",
      "\t['c', 'a', 't', 'i', 'o', 'n'],\n",
      "\t['c', 'a', 't', 'a', 'p', 'u', 'l', 't'],\n",
      "\t['c', 'a', 't', 'c', 'h', 'y'],\n",
      "\t['c', 'a', 't', 'a', 'l', 'o', 'g'],\n",
      "\t['c', 'a', 't', 'e', 'r'],\n",
      "\t['c', 'a', 't', 's'],\n",
      "\t['c', 'a', 't', 'a', 'r', 'a', 'c', 't'],\n",
      "\t['c', 'a', 't', 't', 'l', 'e'],\n",
      "\t['a', 't', 'o', 'm'],\n",
      "\t['e', 'r', 'r', 'o', 'r'],\n",
      "\t['a', 't', 'm'],\n",
      "\t['l', 'e', 'a', 'r', 'n'],\n",
      "\t['t', 'e', 'r', 'm'],\n",
      "\t['a', 't', 't', 'a', 'c', 'h']\n",
      "]"
     ],
     "language": "python",
     "metadata": {},
     "outputs": [],
     "prompt_number": 129
    },
    {
     "cell_type": "code",
     "collapsed": false,
     "input": [
      "def build_filter_by_min_spt_str(excluded_items):\n",
      "\t\"\"\"\n",
      "\treturns: a str which, when 'eval' is called on it, is a\n",
      "\t\ta valid arg for 'IT.filterfalse' which is used in\n",
      "\t\t'filter_by_min_spt' to remove items below min_spt\n",
      "\tpass in: list of excluded items (returned by\n",
      "\t\t 'get_items_below_min_spt')\n",
      "\t\n",
      "\t\"\"\"\n",
      "\texcluded_items_expr = []\n",
      "\tstr_templ = '(q==\"{0}\")'\n",
      "\tfor itm in excluded_items:\n",
      "\t    excluded_items_expr.append(str_templ.format(itm))\n",
      "\treturn \" | \".join(excluded_items_expr)\n"
     ],
     "language": "python",
     "metadata": {},
     "outputs": [],
     "prompt_number": 130
    },
    {
     "cell_type": "code",
     "collapsed": false,
     "input": [
      "import string\n",
      "string.ascii_uppercase[:5]"
     ],
     "language": "python",
     "metadata": {},
     "outputs": [
      {
       "metadata": {},
       "output_type": "pyout",
       "prompt_number": 133,
       "text": [
        "'ABCDE'"
       ]
      }
     ],
     "prompt_number": 133
    },
    {
     "cell_type": "code",
     "collapsed": false,
     "input": [
      "build_filter_by_min_spt_str(string.ascii_uppercase[:6])"
     ],
     "language": "python",
     "metadata": {},
     "outputs": [
      {
       "metadata": {},
       "output_type": "pyout",
       "prompt_number": 134,
       "text": [
        "'(q==\"A\") | (q==\"B\") | (q==\"C\") | (q==\"D\") | (q==\"E\") | (q==\"F\")'"
       ]
      }
     ],
     "prompt_number": 134
    },
    {
     "cell_type": "code",
     "collapsed": false,
     "input": [
      "def item_counter(dataset):\n",
      "\t\"\"\"\n",
      "\treturns: a dict w/ integer counts keyed to the unique items\n",
      "\t\tcomprising the transactions;\n",
      "\tpass in: raw data (nested list);\n",
      "\t\"\"\"\n",
      "\t# flatten the data (from list of sets to list of items)\n",
      "\ttrans_flat = [itm for trans in dataset for itm in trans]\n",
      "\tic = CL.defaultdict(int)\n",
      "\tfor itm in trans_flat:\n",
      "\t\tic[itm] += 1\n",
      "\treturn ic"
     ],
     "language": "python",
     "metadata": {},
     "outputs": [],
     "prompt_number": 135
    },
    {
     "cell_type": "code",
     "collapsed": false,
     "input": [
      "item_counter(d0)"
     ],
     "language": "python",
     "metadata": {},
     "outputs": [
      {
       "metadata": {},
       "output_type": "pyout",
       "prompt_number": 136,
       "text": [
        "defaultdict(<class 'int'>, {'B': 6, 'C': 3, 'A': 5, 'D': 6, 'E': 4})"
       ]
      }
     ],
     "prompt_number": 136
    },
    {
     "cell_type": "code",
     "collapsed": false,
     "input": [
      "def get_items_below_min_spt(dataset, item_count, min_spt):\n",
      "\t\"\"\"\n",
      "\treturns: list of the unique items whose frequency over the entire\n",
      "\t\tdataset is below some min_spt (float between 0 and 1, \n",
      "\t\t('decimal percent')\n",
      "\tpass in: \n",
      "\t\t(i) dataset\n",
      "\t\t(ii) dict w/ items for keys, values are item frequency;\n",
      "\t\t(iii) min_spt (float, eg, 0.03 means each item must appear in \n",
      "\t\tat least 3% of the dataset);\n",
      "\tcalls 'item_counter'\n",
      "\t\"\"\"\n",
      "\tic = {k:v for k, v in item_count.items() if (v/len(dataset)) < min_spt}\n",
      "\treturn list(ic.keys())\n"
     ],
     "language": "python",
     "metadata": {},
     "outputs": [],
     "prompt_number": 137
    },
    {
     "cell_type": "code",
     "collapsed": false,
     "input": [
      "get_items_below_min_spt(d0, item_counter(d0), 0.55)"
     ],
     "language": "python",
     "metadata": {},
     "outputs": [
      {
       "metadata": {},
       "output_type": "pyout",
       "prompt_number": 138,
       "text": [
        "['C', 'E']"
       ]
      }
     ],
     "prompt_number": 138
    },
    {
     "cell_type": "code",
     "collapsed": false,
     "input": [
      "ic = item_counter(d0)"
     ],
     "language": "python",
     "metadata": {},
     "outputs": [],
     "prompt_number": 139
    },
    {
     "cell_type": "code",
     "collapsed": false,
     "input": [
      "ic"
     ],
     "language": "python",
     "metadata": {},
     "outputs": [
      {
       "metadata": {},
       "output_type": "pyout",
       "prompt_number": 140,
       "text": [
        "defaultdict(<class 'int'>, {'B': 6, 'C': 3, 'A': 5, 'D': 6, 'E': 4})"
       ]
      }
     ],
     "prompt_number": 140
    },
    {
     "cell_type": "code",
     "collapsed": false,
     "input": [
      "kx = ic.keys()"
     ],
     "language": "python",
     "metadata": {},
     "outputs": [],
     "prompt_number": 141
    },
    {
     "cell_type": "code",
     "collapsed": false,
     "input": [
      "kx"
     ],
     "language": "python",
     "metadata": {},
     "outputs": [
      {
       "metadata": {},
       "output_type": "pyout",
       "prompt_number": 142,
       "text": [
        "dict_keys(['B', 'C', 'A', 'D', 'E'])"
       ]
      }
     ],
     "prompt_number": 142
    },
    {
     "cell_type": "code",
     "collapsed": false,
     "input": [
      "vx = list(ic.values())"
     ],
     "language": "python",
     "metadata": {},
     "outputs": [],
     "prompt_number": 143
    },
    {
     "cell_type": "code",
     "collapsed": false,
     "input": [
      "vx"
     ],
     "language": "python",
     "metadata": {},
     "outputs": [
      {
       "metadata": {},
       "output_type": "pyout",
       "prompt_number": 144,
       "text": [
        "[6, 3, 5, 6, 4]"
       ]
      }
     ],
     "prompt_number": 144
    },
    {
     "cell_type": "code",
     "collapsed": false,
     "input": [
      "vx == sorted(vx)"
     ],
     "language": "python",
     "metadata": {},
     "outputs": [
      {
       "metadata": {},
       "output_type": "pyout",
       "prompt_number": 145,
       "text": [
        "False"
       ]
      }
     ],
     "prompt_number": 145
    },
    {
     "cell_type": "code",
     "collapsed": false,
     "input": [
      "import pytest"
     ],
     "language": "python",
     "metadata": {},
     "outputs": [],
     "prompt_number": 146
    },
    {
     "cell_type": "code",
     "collapsed": false,
     "input": [
      "def item_counter(dataset):\n",
      "\t\"\"\"\n",
      "\treturns: a dict w/ integer counts keyed to the unique items\n",
      "\t\tcomprising the transactions;\n",
      "\tpass in: raw data (nested list);\n",
      "\t\"\"\"\n",
      "\t# flatten the data (from list of sets to list of items)\n",
      "\ttrans_flat = [itm for trans in dataset for itm in trans]\n",
      "\tic = CL.defaultdict(int)\n",
      "\tfor itm in trans_flat:\n",
      "\t\tic[itm] += 1\n",
      "\treturn ic"
     ],
     "language": "python",
     "metadata": {},
     "outputs": [],
     "prompt_number": 149
    },
    {
     "cell_type": "code",
     "collapsed": false,
     "input": [
      "def get_items_below_min_spt(dataset, item_count, min_spt):\n",
      "\t\"\"\"\n",
      "\treturns: list of the unique items whose frequency over the entire\n",
      "\t\tdataset is below some min_spt (float between 0 and 1, \n",
      "\t\t('decimal percent')\n",
      "\tpass in: \n",
      "\t\t(i) dataset\n",
      "\t\t(ii) dict w/ items for keys, values are item frequency;\n",
      "\t\t(iii) min_spt (float, eg, 0.03 means each item must appear in \n",
      "\t\tat least 3% of the dataset);\n",
      "\tcalls 'item_counter'\n",
      "\t\"\"\"\n",
      "\tic = {k:v for k, v in item_count.items() if (v/len(dataset)) < min_spt}\n",
      "\treturn list(ic.keys())"
     ],
     "language": "python",
     "metadata": {},
     "outputs": [],
     "prompt_number": 150
    },
    {
     "cell_type": "code",
     "collapsed": false,
     "input": [
      "def build_min_spt_filter_str(excluded_items):\n",
      "\t\"\"\"\n",
      "\treturns: a str which, when 'eval' is called on it, is a\n",
      "\t\ta valid arg for 'IT.filterfalse' which is used in\n",
      "\t\t'filter_by_min_spt' to remove items below min_spt\n",
      "\tpass in: list of excluded items (returned by\n",
      "\t\t 'get_items_below_min_spt')\n",
      "\t\"\"\"\n",
      "\texcluded_items_expr = []\n",
      "\tstr_templ = '(q==\"{0}\")'\n",
      "\tfor itm in excluded_items:\n",
      "\t    excluded_items_expr.append(str_templ.format(itm))\n",
      "\treturn \" | \".join(excluded_items_expr)\n"
     ],
     "language": "python",
     "metadata": {},
     "outputs": [],
     "prompt_number": 151
    },
    {
     "cell_type": "code",
     "collapsed": false,
     "input": [
      "def filter_by_min_spt(dataset, item_count, min_spt):\n",
      "\t\t\"\"\"\n",
      "\t\treturns: \n",
      "\t\t\t(i) filterd dataset (remove items w/ freq < min_spt);\n",
      "\t\t\t(ii) filtered item counter\n",
      "\t\tpass in:\n",
      "\t\t\t(i) dataset (the raw dataset);\n",
      "\t\t\t(ii) dict w/ items for keys, values are item frequency,\n",
      "\t\t\t\treturned by call to 'item_counter';\n",
      "\t\t\t(iii) min_spt (float, eg, 0.03 means each item must appear in \n",
      "\t\t\tat least 3% of the dataset); \n",
      "\t\tremoves any item from every transaction if that item's total freq\n",
      "\t\tis below 'min_spt' \n",
      "\t\t\"\"\"\n",
      "\t\texcluded_items = get_items_below_min_spt(item_count, min_spt)\n",
      "\t\tif not excluded_items:\n",
      "\t\t\t# if all items are above min_spt, ie, there are no items to exclude\n",
      "\t\t\t# so just return original args\n",
      "\t\t\treturn dataset, item_count\n",
      "\t\telse:\n",
      "\t\t\t# there is at least one item to exclude\n",
      "\t\t\t# now build the expression required by 'IT.filterfalse' from the\n",
      "\t\t\t# list of excluded items\n",
      "\t\t\tfilter_str = build_min_spt_filter_str(excluded_items)\n",
      "\t\t\t# remove those below threshold items from the dataset\n",
      "\t\t\ttx = [IT.filterfalse(lambda q: eval(filter_str), trans) \n",
      "\t\t\t\t\tfor trans in dataset]\n",
      "\t\t\tic = {k:v for k, v in item_count.items() if (v/total) >= min_spt}\n",
      "\t\t\treturn list(map(list, tx)), ic"
     ],
     "language": "python",
     "metadata": {},
     "outputs": [],
     "prompt_number": 152
    },
    {
     "cell_type": "code",
     "collapsed": false,
     "input": [
      "def config_fptree_builder(dataset, min_spt=None):\n",
      "\t\"\"\"\n",
      "\treturns: header table & dataset for input to build_tree;\n",
      "\tpass in: \n",
      "\t\traw data (nested list of dataset);\n",
      "\t\tmin_spt (float) fraction of total dataset in which an item\n",
      "\t\t\tmust appear to be included in the fptree\n",
      "\t\"\"\"\n",
      "\tdataset = [ set(trans) for trans in dataset ]\n",
      "\titem_count = item_counter(dataset)\n",
      "\t\n",
      "\tif min_spt:\n",
      "\t\tdataset, item_count = filter_by_min_spt(dataset, item_count, min_spt)\n",
      "\t# to sort by decr frequency, then secondary (alpha) sort by key (incr),\n",
      "\t# sort first by secondary key, then again by primary key\n",
      "\tic = sorted(((k, v) for k, v in item_count.items()), \n",
      "\t\tkey=itemgetter(0))\n",
      "\tic = sorted(ic, key=itemgetter(1), reverse=True)\n",
      "\tsort_key = {t[0]: i for i, t in enumerate(ic)}\n",
      "\tfnx = lambda q: sorted(q, key=sort_key.__getitem__)\n",
      "\tdataset = map(fnx, dataset)\n",
      "\t# build header table from freq_items w/ empty placeholders for node pointer\n",
      "\thtable = CL.defaultdict(list)\n",
      "\tfor k in item_count.keys():\n",
      "\t    htable[k].append(item_count[k])\n",
      "\treturn htable, dataset"
     ],
     "language": "python",
     "metadata": {},
     "outputs": [],
     "prompt_number": 153
    },
    {
     "cell_type": "code",
     "collapsed": false,
     "input": [
      "class TreeNode:\n",
      "\n",
      "\tdef __init__(self, node_name, parent_node):\n",
      "\t\tself.name = node_name\n",
      "\t\tself.node_link = None\n",
      "\t\tself.count = 1\n",
      "\t\tself.parent = parent_node\n",
      "\t\tself.children = {} \n",
      "\n",
      "\tdef incr(self, freq=1):\n",
      "\t\tself.count += freq "
     ],
     "language": "python",
     "metadata": {},
     "outputs": [],
     "prompt_number": 154
    },
    {
     "cell_type": "code",
     "collapsed": false,
     "input": [
      "def ascend_route(node):\n",
      "\t\"\"\"\n",
      "\treturns: all nodes in a given route from the node passed in to the root\n",
      "\tpass in: a single node in an fp-tree\n",
      "\t\"\"\"\n",
      "\tnode_route = []\n",
      "\twhile node != None:\n",
      "\t    node_route.append(node.name)\n",
      "\t    node = node.parent\n",
      "\treturn node_route"
     ],
     "language": "python",
     "metadata": {},
     "outputs": [],
     "prompt_number": 155
    },
    {
     "cell_type": "code",
     "collapsed": false,
     "input": [
      "def build_fptree(dataset, min_spt=None):\n",
      "\t\"\"\"\n",
      "\tpass in: \n",
      "\t\traw data (list of dataset; one transcation per list)\n",
      "\treturns: fptree;\n",
      "\tthe 'main' fn in this module; instantiates fptree and builds it\n",
      "\tby calling 'add_node'; when called, bind result to 2 variables:\n",
      "\tone for thetree; the second for for the header table;\n",
      "\t\"\"\"\n",
      "\tfptree = TreeNode('root', None)\n",
      "\troot = fptree\n",
      "\theader_table, dataset = config_fptree_builder(dataset, min_spt)\n",
      "\tfor trans in dataset:\n",
      "\t\tadd_nodes(trans, header_table, root)\n",
      "\theader_table = {k:v[:2] for k, v in header_table.items()}\n",
      "\treturn fptree, header_table"
     ],
     "language": "python",
     "metadata": {},
     "outputs": [],
     "prompt_number": 157
    },
    {
     "cell_type": "code",
     "collapsed": false,
     "input": [
      "fptree, htab = build_fptree(d0)"
     ],
     "language": "python",
     "metadata": {},
     "outputs": [],
     "prompt_number": 158
    },
    {
     "cell_type": "code",
     "collapsed": false,
     "input": [
      "fptree.children"
     ],
     "language": "python",
     "metadata": {},
     "outputs": [
      {
       "metadata": {},
       "output_type": "pyout",
       "prompt_number": 159,
       "text": [
        "{'B': <__main__.TreeNode at 0x103b7fb90>,\n",
        " 'D': <__main__.TreeNode at 0x103b79a10>}"
       ]
      }
     ],
     "prompt_number": 159
    },
    {
     "cell_type": "code",
     "collapsed": false,
     "input": [
      "D1 = fptree.children['D']\n",
      "r_d1 = ascend_route(D1)"
     ],
     "language": "python",
     "metadata": {},
     "outputs": [],
     "prompt_number": 160
    },
    {
     "cell_type": "code",
     "collapsed": false,
     "input": [
      "r_d1"
     ],
     "language": "python",
     "metadata": {},
     "outputs": [
      {
       "metadata": {},
       "output_type": "pyout",
       "prompt_number": 161,
       "text": [
        "['D', 'root']"
       ]
      }
     ],
     "prompt_number": 161
    },
    {
     "cell_type": "code",
     "collapsed": false,
     "input": [
      "cx = htab['C']"
     ],
     "language": "python",
     "metadata": {},
     "outputs": [],
     "prompt_number": 162
    },
    {
     "cell_type": "code",
     "collapsed": false,
     "input": [
      "cx"
     ],
     "language": "python",
     "metadata": {},
     "outputs": [
      {
       "metadata": {},
       "output_type": "pyout",
       "prompt_number": 163,
       "text": [
        "[3, <__main__.TreeNode at 0x103b799d0>]"
       ]
      }
     ],
     "prompt_number": 163
    },
    {
     "cell_type": "code",
     "collapsed": false,
     "input": [
      "def like_item_traversal(itm):\n",
      "\tlinked_nodes = []\n",
      "\tnode = htab[itm][-1]\n",
      "\twhile node != None:\n",
      "\t\tlinked_nodes.append(node)\n",
      "\t\tnode = node.node_link\n",
      "\treturn linked_nodes"
     ],
     "language": "python",
     "metadata": {},
     "outputs": [],
     "prompt_number": 171
    },
    {
     "cell_type": "code",
     "collapsed": false,
     "input": [
      "ln = like_item_traversal('C')"
     ],
     "language": "python",
     "metadata": {},
     "outputs": [],
     "prompt_number": 175
    },
    {
     "cell_type": "code",
     "collapsed": false,
     "input": [
      "c1 = htab['C'][-1]"
     ],
     "language": "python",
     "metadata": {},
     "outputs": [],
     "prompt_number": 176
    },
    {
     "cell_type": "code",
     "collapsed": false,
     "input": [
      "c1"
     ],
     "language": "python",
     "metadata": {},
     "outputs": [
      {
       "metadata": {},
       "output_type": "pyout",
       "prompt_number": 177,
       "text": [
        "<__main__.TreeNode at 0x103b799d0>"
       ]
      }
     ],
     "prompt_number": 177
    },
    {
     "cell_type": "code",
     "collapsed": false,
     "input": [
      "assert ln[0] is htab[itm][-1]"
     ],
     "language": "python",
     "metadata": {},
     "outputs": [],
     "prompt_number": 178
    },
    {
     "cell_type": "code",
     "collapsed": false,
     "input": [
      "def ascend_route(node):\n",
      "    node_route = []\n",
      "    while node != None:\n",
      "        node_route.append(node.name)\n",
      "        node = node.parent\n",
      "    return node_route[1:]"
     ],
     "language": "python",
     "metadata": {},
     "outputs": [],
     "prompt_number": 185
    },
    {
     "cell_type": "code",
     "collapsed": false,
     "input": [
      "ascend_route(ln[0])"
     ],
     "language": "python",
     "metadata": {},
     "outputs": [
      {
       "metadata": {},
       "output_type": "pyout",
       "prompt_number": 186,
       "text": [
        "['E', 'A', 'D', 'B', 'root']"
       ]
      }
     ],
     "prompt_number": 186
    },
    {
     "cell_type": "code",
     "collapsed": false,
     "input": [
      "ascend_route(ln[1])"
     ],
     "language": "python",
     "metadata": {},
     "outputs": [
      {
       "metadata": {},
       "output_type": "pyout",
       "prompt_number": 187,
       "text": [
        "['E', 'A', 'B', 'root']"
       ]
      }
     ],
     "prompt_number": 187
    },
    {
     "cell_type": "code",
     "collapsed": false,
     "input": [
      "ascend_route(ln[2])"
     ],
     "language": "python",
     "metadata": {},
     "outputs": [
      {
       "metadata": {},
       "output_type": "pyout",
       "prompt_number": 188,
       "text": [
        "['B', 'root']"
       ]
      }
     ],
     "prompt_number": 188
    },
    {
     "cell_type": "code",
     "collapsed": false,
     "input": [
      "def get_conditional_pattern_bases(htab, itm):\n",
      "\t\"\"\"\n",
      "\treturns:a nested list comprised of all node_routes for a given item;\n",
      "\tpass in: \n",
      "\t\t(i) header table\n",
      "\t\t(ii) str/int representation of a given unique transaction item\n",
      "\t\"\"\"\n",
      "\tcpb = []\n",
      "\tlinked_nodes = like_item_traversal(htab, itm)\n",
      "\tfor node in linked_nodes:\n",
      "\t\tcpb.append(ascend_route(node))\n",
      "\treturn cpb"
     ],
     "language": "python",
     "metadata": {},
     "outputs": [],
     "prompt_number": 195
    },
    {
     "cell_type": "code",
     "collapsed": false,
     "input": [
      "def like_item_traversal(htab, itm):\n",
      "\t\"\"\"\n",
      "\treturned: list of pointers to node objects having the same \n",
      "\t\t'name' attribute\n",
      "\tpass in: \n",
      "\t\t(i) header table\n",
      "\t\t(ii) str/int representation of a given unique transaction item\n",
      "\t\"\"\"\n",
      "\tlinked_nodes = []\n",
      "\tnode = htab[itm][-1]\n",
      "\twhile node != None:\n",
      "\t\tlinked_nodes.append(node)\n",
      "\t\tnode = node.node_link\n",
      "\treturn linked_nodes"
     ],
     "language": "python",
     "metadata": {},
     "outputs": [],
     "prompt_number": 196
    },
    {
     "cell_type": "code",
     "collapsed": false,
     "input": [
      "cpb = get_conditional_pattern_bases(htab, 'C')"
     ],
     "language": "python",
     "metadata": {},
     "outputs": [],
     "prompt_number": 197
    },
    {
     "cell_type": "code",
     "collapsed": false,
     "input": [
      "for route in cpb:\n",
      "    print(route)"
     ],
     "language": "python",
     "metadata": {},
     "outputs": [
      {
       "output_type": "stream",
       "stream": "stdout",
       "text": [
        "['E', 'A', 'D', 'B', 'root']\n",
        "['E', 'A', 'B', 'root']\n",
        "['B', 'root']\n"
       ]
      }
     ],
     "prompt_number": 198
    },
    {
     "cell_type": "code",
     "collapsed": false,
     "input": [
      "r1 = cpb[0]"
     ],
     "language": "python",
     "metadata": {},
     "outputs": [],
     "prompt_number": 227
    },
    {
     "cell_type": "code",
     "collapsed": false,
     "input": [
      "r1"
     ],
     "language": "python",
     "metadata": {},
     "outputs": [
      {
       "metadata": {},
       "output_type": "pyout",
       "prompt_number": 228,
       "text": [
        "['E', 'A', 'D', 'B', 'root']"
       ]
      }
     ],
     "prompt_number": 228
    },
    {
     "cell_type": "code",
     "collapsed": false,
     "input": [
      "r1[:-1][::-1]"
     ],
     "language": "python",
     "metadata": {},
     "outputs": [
      {
       "metadata": {},
       "output_type": "pyout",
       "prompt_number": 229,
       "text": [
        "['B', 'D', 'A', 'E']"
       ]
      }
     ],
     "prompt_number": 229
    },
    {
     "cell_type": "code",
     "collapsed": false,
     "input": [
      "r1 = r1[:-1]"
     ],
     "language": "python",
     "metadata": {},
     "outputs": [],
     "prompt_number": 223
    },
    {
     "cell_type": "code",
     "collapsed": false,
     "input": [
      "r1"
     ],
     "language": "python",
     "metadata": {},
     "outputs": [
      {
       "metadata": {},
       "output_type": "pyout",
       "prompt_number": 224,
       "text": [
        "['E', 'A', 'D', 'B']"
       ]
      }
     ],
     "prompt_number": 224
    },
    {
     "cell_type": "code",
     "collapsed": false,
     "input": [
      "r1 = r1[::-1]"
     ],
     "language": "python",
     "metadata": {},
     "outputs": [],
     "prompt_number": 225
    },
    {
     "cell_type": "code",
     "collapsed": false,
     "input": [
      "r1"
     ],
     "language": "python",
     "metadata": {},
     "outputs": [
      {
       "metadata": {},
       "output_type": "pyout",
       "prompt_number": 226,
       "text": [
        "['B', 'D', 'A', 'E']"
       ]
      }
     ],
     "prompt_number": 226
    },
    {
     "cell_type": "code",
     "collapsed": false,
     "input": [
      "def get_conditional_pattern_bases(htab, itm):\n",
      "\t\"\"\"\n",
      "\treturns:a nested list comprised of all node_routes for a given item;\n",
      "\tpass in: \n",
      "\t\t(i) header table\n",
      "\t\t(ii) str/int representation of a given unique transaction item\n",
      "\t\"\"\"\n",
      "\tcpb_all = []\n",
      "\tlinked_nodes = like_item_traversal(htab, itm)\n",
      "\tfor node in linked_nodes:\n",
      "\t\troute = ascend_route(node)\n",
      "\t\t# remove the node start & terminus ('root') & reverse\n",
      "\t\tcpb = route[1:-1][::-1]\n",
      "\t\tcpb_all.append(cpb)\n",
      "\treturn cpb_all"
     ],
     "language": "python",
     "metadata": {},
     "outputs": [],
     "prompt_number": 230
    },
    {
     "cell_type": "code",
     "collapsed": false,
     "input": [
      "def ascend_route(node):\n",
      "\t\"\"\"\n",
      "\treturns: all nodes in a given route from the node passed in to the root\n",
      "\tpass in: a single node in an fp-tree\n",
      "\t\"\"\"\n",
      "\tnode_route = []\n",
      "\twhile node != None:\n",
      "\t    node_route.append(node)\n",
      "\t    node = node.parent\n",
      "\treturn node_route"
     ],
     "language": "python",
     "metadata": {},
     "outputs": [],
     "prompt_number": 232
    },
    {
     "cell_type": "code",
     "collapsed": false,
     "input": [
      "get_conditional_pattern_bases(htab, 'C')"
     ],
     "language": "python",
     "metadata": {},
     "outputs": [
      {
       "metadata": {},
       "output_type": "pyout",
       "prompt_number": 233,
       "text": [
        "[[<__main__.TreeNode at 0x103b7fb90>,\n",
        "  <__main__.TreeNode at 0x103b7f910>,\n",
        "  <__main__.TreeNode at 0x103b7f8d0>,\n",
        "  <__main__.TreeNode at 0x103b79dd0>],\n",
        " [<__main__.TreeNode at 0x103b7fb90>,\n",
        "  <__main__.TreeNode at 0x103b79990>,\n",
        "  <__main__.TreeNode at 0x103b798d0>],\n",
        " [<__main__.TreeNode at 0x103b7fb90>]]"
       ]
      }
     ],
     "prompt_number": 233
    },
    {
     "cell_type": "code",
     "collapsed": false,
     "input": [
      "def like_item_traversal(htab, itm):\n",
      "    linked_nodes = {}\n",
      "    c = IT.count()\n",
      "    fnx = lambda a: \"{0}{1}\".format(itm, next(c))\n",
      "    node = htab[itm][-1]\n",
      "    while node != None:\n",
      "        linked_nodes[fnx(itm)] = node\n",
      "        node = node.node_link\n",
      "    return linked_nodes"
     ],
     "language": "python",
     "metadata": {},
     "outputs": [],
     "prompt_number": 246
    },
    {
     "cell_type": "code",
     "collapsed": false,
     "input": [
      "like_item_traversal(htab, 'C')"
     ],
     "language": "python",
     "metadata": {},
     "outputs": [
      {
       "metadata": {},
       "output_type": "pyout",
       "prompt_number": 247,
       "text": [
        "{'C0': <__main__.TreeNode at 0x103b799d0>,\n",
        " 'C1': <__main__.TreeNode at 0x103b79910>,\n",
        " 'C2': <__main__.TreeNode at 0x103b79b50>}"
       ]
      }
     ],
     "prompt_number": 247
    },
    {
     "cell_type": "code",
     "collapsed": false,
     "input": [
      "fnx = lambda a: \"{0}{1}\".format(itm, next(c))"
     ],
     "language": "python",
     "metadata": {},
     "outputs": [],
     "prompt_number": 238
    },
    {
     "cell_type": "code",
     "collapsed": false,
     "input": [
      "c = IT.count()"
     ],
     "language": "python",
     "metadata": {},
     "outputs": [],
     "prompt_number": 239
    },
    {
     "cell_type": "code",
     "collapsed": false,
     "input": [
      "fnx()"
     ],
     "language": "python",
     "metadata": {},
     "outputs": [
      {
       "ename": "TypeError",
       "evalue": "<lambda>() missing 1 required positional argument: 'a'",
       "output_type": "pyerr",
       "traceback": [
        "\u001b[0;31m---------------------------------------------------------------------------\u001b[0m\n\u001b[0;31mTypeError\u001b[0m                                 Traceback (most recent call last)",
        "\u001b[0;32m<ipython-input-240-f6ec1f05b635>\u001b[0m in \u001b[0;36m<module>\u001b[0;34m()\u001b[0m\n\u001b[0;32m----> 1\u001b[0;31m \u001b[0mfnx\u001b[0m\u001b[0;34m(\u001b[0m\u001b[0;34m)\u001b[0m\u001b[0;34m\u001b[0m\u001b[0m\n\u001b[0m",
        "\u001b[0;31mTypeError\u001b[0m: <lambda>() missing 1 required positional argument: 'a'"
       ]
      }
     ],
     "prompt_number": 240
    },
    {
     "cell_type": "code",
     "collapsed": false,
     "input": [
      "fnx('C')"
     ],
     "language": "python",
     "metadata": {},
     "outputs": [
      {
       "metadata": {},
       "output_type": "pyout",
       "prompt_number": 241,
       "text": [
        "'C0'"
       ]
      }
     ],
     "prompt_number": 241
    },
    {
     "cell_type": "code",
     "collapsed": false,
     "input": [
      "def get_conditional_pattern_bases(htab, itm):\n",
      "\t\"\"\"\n",
      "\treturns:a nested list comprised of all node_routes for a given item;\n",
      "\tpass in: \n",
      "\t\t(i) header table\n",
      "\t\t(ii) str/int representation of a given unique transaction item\n",
      "\tthis fn transforms a raw 'route' from 'ascend_tree' into a cpb in 2\n",
      "\tsteps: (i) remove start & terminus (ii) reverse;\n",
      "\t\"\"\"\n",
      "\tcpb_all = []\n",
      "\tlinked_nodes = like_item_traversal(htab, itm)\n",
      "\tfor node in linked_nodes.keys():\n",
      "\t\troute = ascend_route(node)\n",
      "\t\t# remove the node start & terminus ('root') & reverse\n",
      "\t\tcpb = route[1:-1][::-1]\n",
      "\t\tcpb_all.append(cpb)\n",
      "\treturn cpb_all"
     ],
     "language": "python",
     "metadata": {},
     "outputs": [],
     "prompt_number": 251
    },
    {
     "cell_type": "code",
     "collapsed": false,
     "input": [
      "cpb_all = get_conditional_pattern_bases(htab, 'C')"
     ],
     "language": "python",
     "metadata": {},
     "outputs": [
      {
       "ename": "AttributeError",
       "evalue": "'str' object has no attribute 'parent'",
       "output_type": "pyerr",
       "traceback": [
        "\u001b[0;31m---------------------------------------------------------------------------\u001b[0m\n\u001b[0;31mAttributeError\u001b[0m                            Traceback (most recent call last)",
        "\u001b[0;32m<ipython-input-252-a6f65d7cb048>\u001b[0m in \u001b[0;36m<module>\u001b[0;34m()\u001b[0m\n\u001b[0;32m----> 1\u001b[0;31m \u001b[0mcpb_all\u001b[0m \u001b[0;34m=\u001b[0m \u001b[0mget_conditional_pattern_bases\u001b[0m\u001b[0;34m(\u001b[0m\u001b[0mhtab\u001b[0m\u001b[0;34m,\u001b[0m \u001b[0;34m'C'\u001b[0m\u001b[0;34m)\u001b[0m\u001b[0;34m\u001b[0m\u001b[0m\n\u001b[0m",
        "\u001b[0;32m<ipython-input-251-d0d46e5fb985>\u001b[0m in \u001b[0;36mget_conditional_pattern_bases\u001b[0;34m(htab, itm)\u001b[0m\n\u001b[1;32m     11\u001b[0m         \u001b[0mlinked_nodes\u001b[0m \u001b[0;34m=\u001b[0m \u001b[0mlike_item_traversal\u001b[0m\u001b[0;34m(\u001b[0m\u001b[0mhtab\u001b[0m\u001b[0;34m,\u001b[0m \u001b[0mitm\u001b[0m\u001b[0;34m)\u001b[0m\u001b[0;34m\u001b[0m\u001b[0m\n\u001b[1;32m     12\u001b[0m         \u001b[0;32mfor\u001b[0m \u001b[0mnode\u001b[0m \u001b[0;32min\u001b[0m \u001b[0mlinked_nodes\u001b[0m\u001b[0;34m.\u001b[0m\u001b[0mkeys\u001b[0m\u001b[0;34m(\u001b[0m\u001b[0;34m)\u001b[0m\u001b[0;34m:\u001b[0m\u001b[0;34m\u001b[0m\u001b[0m\n\u001b[0;32m---> 13\u001b[0;31m                 \u001b[0mroute\u001b[0m \u001b[0;34m=\u001b[0m \u001b[0mascend_route\u001b[0m\u001b[0;34m(\u001b[0m\u001b[0mnode\u001b[0m\u001b[0;34m)\u001b[0m\u001b[0;34m\u001b[0m\u001b[0m\n\u001b[0m\u001b[1;32m     14\u001b[0m                 \u001b[0;31m# remove the node start & terminus ('root') & reverse\u001b[0m\u001b[0;34m\u001b[0m\u001b[0;34m\u001b[0m\u001b[0m\n\u001b[1;32m     15\u001b[0m                 \u001b[0mcpb\u001b[0m \u001b[0;34m=\u001b[0m \u001b[0mroute\u001b[0m\u001b[0;34m[\u001b[0m\u001b[0;36m1\u001b[0m\u001b[0;34m:\u001b[0m\u001b[0;34m-\u001b[0m\u001b[0;36m1\u001b[0m\u001b[0;34m]\u001b[0m\u001b[0;34m[\u001b[0m\u001b[0;34m:\u001b[0m\u001b[0;34m:\u001b[0m\u001b[0;34m-\u001b[0m\u001b[0;36m1\u001b[0m\u001b[0;34m]\u001b[0m\u001b[0;34m\u001b[0m\u001b[0m\n",
        "\u001b[0;32m<ipython-input-232-42dfacae0b69>\u001b[0m in \u001b[0;36mascend_route\u001b[0;34m(node)\u001b[0m\n\u001b[1;32m      7\u001b[0m         \u001b[0;32mwhile\u001b[0m \u001b[0mnode\u001b[0m \u001b[0;34m!=\u001b[0m \u001b[0;32mNone\u001b[0m\u001b[0;34m:\u001b[0m\u001b[0;34m\u001b[0m\u001b[0m\n\u001b[1;32m      8\u001b[0m             \u001b[0mnode_route\u001b[0m\u001b[0;34m.\u001b[0m\u001b[0mappend\u001b[0m\u001b[0;34m(\u001b[0m\u001b[0mnode\u001b[0m\u001b[0;34m)\u001b[0m\u001b[0;34m\u001b[0m\u001b[0m\n\u001b[0;32m----> 9\u001b[0;31m             \u001b[0mnode\u001b[0m \u001b[0;34m=\u001b[0m \u001b[0mnode\u001b[0m\u001b[0;34m.\u001b[0m\u001b[0mparent\u001b[0m\u001b[0;34m\u001b[0m\u001b[0m\n\u001b[0m\u001b[1;32m     10\u001b[0m         \u001b[0;32mreturn\u001b[0m \u001b[0mnode_route\u001b[0m\u001b[0;34m\u001b[0m\u001b[0m\n",
        "\u001b[0;31mAttributeError\u001b[0m: 'str' object has no attribute 'parent'"
       ]
      }
     ],
     "prompt_number": 252
    },
    {
     "cell_type": "code",
     "collapsed": false,
     "input": [
      "cpb_all"
     ],
     "language": "python",
     "metadata": {},
     "outputs": [
      {
       "metadata": {},
       "output_type": "pyout",
       "prompt_number": 250,
       "text": [
        "[[<__main__.TreeNode at 0x103b7fb90>,\n",
        "  <__main__.TreeNode at 0x103b7f910>,\n",
        "  <__main__.TreeNode at 0x103b7f8d0>,\n",
        "  <__main__.TreeNode at 0x103b79dd0>],\n",
        " [<__main__.TreeNode at 0x103b7fb90>,\n",
        "  <__main__.TreeNode at 0x103b79990>,\n",
        "  <__main__.TreeNode at 0x103b798d0>],\n",
        " [<__main__.TreeNode at 0x103b7fb90>]]"
       ]
      }
     ],
     "prompt_number": 250
    },
    {
     "cell_type": "code",
     "collapsed": false,
     "input": [
      "ascend_route(htab['C'][-1])"
     ],
     "language": "python",
     "metadata": {},
     "outputs": [
      {
       "metadata": {},
       "output_type": "pyout",
       "prompt_number": 253,
       "text": [
        "[<__main__.TreeNode at 0x103b799d0>,\n",
        " <__main__.TreeNode at 0x103b79dd0>,\n",
        " <__main__.TreeNode at 0x103b7f8d0>,\n",
        " <__main__.TreeNode at 0x103b7f910>,\n",
        " <__main__.TreeNode at 0x103b7fb90>,\n",
        " <__main__.TreeNode at 0x103b7fa90>]"
       ]
      }
     ],
     "prompt_number": 253
    },
    {
     "cell_type": "code",
     "collapsed": false,
     "input": [
      "def ascend_route(node):\n",
      "\t\"\"\"\n",
      "\treturns: all nodes in a given route from the node passed in to the root\n",
      "\tpass in: a single node in an fp-tree\n",
      "\t\"\"\"\n",
      "\tnode_route = []\n",
      "\twhile node != None:\n",
      "\t    node_route.append(node.name)\n",
      "\t    node = node.parent\n",
      "\treturn node_route"
     ],
     "language": "python",
     "metadata": {},
     "outputs": [],
     "prompt_number": 255
    },
    {
     "cell_type": "code",
     "collapsed": false,
     "input": [
      "ascend_route(htab['C'][-1])"
     ],
     "language": "python",
     "metadata": {},
     "outputs": [
      {
       "metadata": {},
       "output_type": "pyout",
       "prompt_number": 256,
       "text": [
        "['C', 'E', 'A', 'D', 'B', 'root']"
       ]
      }
     ],
     "prompt_number": 256
    },
    {
     "cell_type": "code",
     "collapsed": false,
     "input": [
      "def get_conditional_pattern_bases(htab, itm):\n",
      "\t\"\"\"\n",
      "\treturns:a nested list comprised of all node_routes for a given item;\n",
      "\tpass in: \n",
      "\t\t(i) header table\n",
      "\t\t(ii) str/int representation of a given unique transaction item\n",
      "\tthis fn transforms a raw 'route' from 'ascend_tree' into a cpb in 2\n",
      "\tsteps: (i) remove start & terminus (ii) reverse;\n",
      "\t\"\"\"\n",
      "\tcpb_all = []\n",
      "\tlinked_nodes = like_item_traversal(htab, itm)\n",
      "\tfor node in linked_nodes.values():\n",
      "\t\troute = ascend_route(node)\n",
      "        cnt = route[0].\n",
      "\t\t# remove the node start & terminus ('root') & reverse\n",
      "\t\tcpb = route[1:-1][::-1]\n",
      "\t\tcpb_all.append(cpb)\n",
      "\treturn cpb_all"
     ],
     "language": "python",
     "metadata": {},
     "outputs": [],
     "prompt_number": 258
    },
    {
     "cell_type": "code",
     "collapsed": false,
     "input": [
      "get_conditional_pattern_bases(htab, 'C')"
     ],
     "language": "python",
     "metadata": {},
     "outputs": [
      {
       "metadata": {},
       "output_type": "pyout",
       "prompt_number": 259,
       "text": [
        "[['B', 'D', 'A', 'E'], ['B', 'A', 'E'], ['B']]"
       ]
      }
     ],
     "prompt_number": 259
    },
    {
     "cell_type": "code",
     "collapsed": false,
     "input": [
      "def ascend_route(node, string_repr=False):\n",
      "    node_route = []\n",
      "    while node != None:\n",
      "        if string_repr:\n",
      "            node_route.append(node.name)\n",
      "        else:\n",
      "            node_route.append(node)\n",
      "        node = node.parent\n",
      "    return node_route"
     ],
     "language": "python",
     "metadata": {},
     "outputs": [],
     "prompt_number": 263
    },
    {
     "cell_type": "code",
     "collapsed": false,
     "input": [
      "ascend_route(htab['C'][-1], string_repr=True)"
     ],
     "language": "python",
     "metadata": {},
     "outputs": [
      {
       "metadata": {},
       "output_type": "pyout",
       "prompt_number": 265,
       "text": [
        "['C', 'E', 'A', 'D', 'B', 'root']"
       ]
      }
     ],
     "prompt_number": 265
    },
    {
     "cell_type": "code",
     "collapsed": false,
     "input": [
      "n = htab['C'][-1]"
     ],
     "language": "python",
     "metadata": {},
     "outputs": [],
     "prompt_number": 266
    },
    {
     "cell_type": "code",
     "collapsed": false,
     "input": [
      "type(n)"
     ],
     "language": "python",
     "metadata": {},
     "outputs": [
      {
       "metadata": {},
       "output_type": "pyout",
       "prompt_number": 269,
       "text": [
        "__main__.TreeNode"
       ]
      }
     ],
     "prompt_number": 269
    },
    {
     "cell_type": "code",
     "collapsed": false,
     "input": [
      "n.count"
     ],
     "language": "python",
     "metadata": {},
     "outputs": [
      {
       "metadata": {},
       "output_type": "pyout",
       "prompt_number": 268,
       "text": [
        "1"
       ]
      }
     ],
     "prompt_number": 268
    },
    {
     "cell_type": "code",
     "collapsed": false,
     "input": [
      "hasattr(n, 'count')"
     ],
     "language": "python",
     "metadata": {},
     "outputs": [
      {
       "metadata": {},
       "output_type": "pyout",
       "prompt_number": 270,
       "text": [
        "True"
       ]
      }
     ],
     "prompt_number": 270
    },
    {
     "cell_type": "code",
     "collapsed": false,
     "input": [
      "def get_conditional_pattern_bases(htab, itm, string_repr=False):\n",
      "\t\"\"\"\n",
      "\treturns:a nested list comprised of all node_routes for a given item;\n",
      "\tpass in: \n",
      "\t\t(i) header table\n",
      "\t\t(ii) str/int representation of a given unique transaction item\n",
      "\tthis fn transforms a raw 'route' from 'ascend_tree' into a cpb in 2\n",
      "\tsteps: (i) remove start & terminus (ii) reverse;\n",
      "\t\"\"\"\n",
      "\tcpb_all = []\n",
      "\tlinked_nodes = like_item_traversal(htab, itm)\n",
      "\tfor node in linked_nodes.values():\n",
      "\t\t# if the nodes are ponters rather than strings\n",
      "\t\troute = ascend_route(node, string_repr=string_repr)\n",
      "\t\tcnt = route[0].count\n",
      "\t\t# remove the node start & terminus ('root') & reverse\n",
      "\t\tcpb = route[1:-1][::-1]\n",
      "\t\tcpb_all.append((cpb, cnt))\n",
      "\treturn cpb_all"
     ],
     "language": "python",
     "metadata": {},
     "outputs": [],
     "prompt_number": 271
    },
    {
     "cell_type": "code",
     "collapsed": false,
     "input": [
      "def get_conditional_pattern_bases(htab, itm, string_repr=False):\n",
      "\t\"\"\"\n",
      "\treturns:a nested list comprised of all node_routes for a given item;\n",
      "\tpass in: \n",
      "\t\t(i) header table\n",
      "\t\t(ii) str/int representation of a given unique transaction item\n",
      "\tthis fn transforms a raw 'route' from 'ascend_tree' into a cpb in 2\n",
      "\tsteps: (i) remove start & terminus (ii) reverse;\n",
      "\t\"\"\"\n",
      "\tcpb_all = []\n",
      "\tlinked_nodes = like_item_traversal(htab, itm)\n",
      "\tfor node in linked_nodes.values():\n",
      "\t\t# if the nodes are ponters rather than strings\n",
      "\t\troute = ascend_route(node, string_repr=string_repr)\n",
      "\t\tif not string_repr:\n",
      "\t\t\tcnt = route[0].count\n",
      "\t\t\t# remove the node start & terminus ('root') & reverse\n",
      "\t\t\tcpb = route[1:-1][::-1]\n",
      "\t\t\tcpb_all.append((cpb, cnt))\n",
      "\t\telse:\n",
      "\t\t\tcpb = route[1:-1][::-1]\n",
      "\t\t\tcpb_all.append(cpb)\n",
      "\treturn cpb_all"
     ],
     "language": "python",
     "metadata": {},
     "outputs": [],
     "prompt_number": 276
    },
    {
     "cell_type": "code",
     "collapsed": false,
     "input": [
      "get_conditional_pattern_bases(htab, 'C', string_repr=True)"
     ],
     "language": "python",
     "metadata": {},
     "outputs": [
      {
       "metadata": {},
       "output_type": "pyout",
       "prompt_number": 277,
       "text": [
        "[['B', 'D', 'A', 'E'], ['B', 'A', 'E'], ['B']]"
       ]
      }
     ],
     "prompt_number": 277
    },
    {
     "cell_type": "code",
     "collapsed": false,
     "input": [
      "get_conditional_pattern_bases(htab, 'C', string_repr=False)"
     ],
     "language": "python",
     "metadata": {},
     "outputs": [
      {
       "metadata": {},
       "output_type": "pyout",
       "prompt_number": 278,
       "text": [
        "[([<__main__.TreeNode at 0x103b7fb90>,\n",
        "   <__main__.TreeNode at 0x103b7f910>,\n",
        "   <__main__.TreeNode at 0x103b7f8d0>,\n",
        "   <__main__.TreeNode at 0x103b79dd0>],\n",
        "  1),\n",
        " ([<__main__.TreeNode at 0x103b7fb90>,\n",
        "   <__main__.TreeNode at 0x103b79990>,\n",
        "   <__main__.TreeNode at 0x103b798d0>],\n",
        "  1),\n",
        " ([<__main__.TreeNode at 0x103b7fb90>], 1)]"
       ]
      }
     ],
     "prompt_number": 278
    },
    {
     "cell_type": "code",
     "collapsed": false,
     "input": [
      "def item_counter(dataset):\n",
      "\t\"\"\"\n",
      "\treturns: a dict w/ integer counts keyed to the unique items\n",
      "\t\tcomprising the transactions;\n",
      "\tpass in: raw data (nested list);\n",
      "\t\"\"\"\n",
      "\t# flatten the data (from list of sets to list of items)\n",
      "\ttrans_flat = [itm for trans in dataset for itm in trans]\n",
      "\tic = CL.defaultdict(int)\n",
      "\tfor itm in trans_flat:\n",
      "\t\tic[itm] += 1\n",
      "\treturn ic"
     ],
     "language": "python",
     "metadata": {},
     "outputs": [],
     "prompt_number": 279
    },
    {
     "cell_type": "code",
     "collapsed": false,
     "input": [
      "cpb_all = [['B', 'D', 'A', 'E'], ['B', 'A', 'E'], ['B']]\n",
      "ic = item_counter(cpb_all)"
     ],
     "language": "python",
     "metadata": {},
     "outputs": [],
     "prompt_number": 280
    },
    {
     "cell_type": "code",
     "collapsed": false,
     "input": [
      "ic"
     ],
     "language": "python",
     "metadata": {},
     "outputs": [
      {
       "metadata": {},
       "output_type": "pyout",
       "prompt_number": 281,
       "text": [
        "defaultdict(<class 'int'>, {'B': 3, 'A': 2, 'D': 1, 'E': 2})"
       ]
      }
     ],
     "prompt_number": 281
    },
    {
     "cell_type": "code",
     "collapsed": false,
     "input": [
      "def filter_by_min_spt(dataset, item_count, min_spt):\n",
      "\t\t\"\"\"\n",
      "\t\treturns: \n",
      "\t\t\t(i) filterd dataset (remove items w/ freq < min_spt);\n",
      "\t\t\t(ii) filtered item counter\n",
      "\t\tpass in:\n",
      "\t\t\t(i) dataset (the raw dataset);\n",
      "\t\t\t(ii) dict w/ items for keys, values are item frequency,\n",
      "\t\t\t\treturned by call to 'item_counter';\n",
      "\t\t\t(iii) min_spt (float, eg, 0.03 means each item must appear in \n",
      "\t\t\tat least 3% of the dataset); \n",
      "\t\tremoves any item from every transaction if that item's total freq\n",
      "\t\tis below 'min_spt' \n",
      "\t\t\"\"\"\n",
      "\t\texcluded_items = get_items_below_min_spt(item_count, min_spt)\n",
      "\t\tif not excluded_items:\n",
      "\t\t\t# if all items are above min_spt, ie, there are no items to exclude\n",
      "\t\t\t# so just return original args\n",
      "\t\t\treturn dataset, item_count\n",
      "\t\telse:\n",
      "\t\t\t# there is at least one item to exclude\n",
      "\t\t\t# now build the expression required by 'IT.filterfalse' from the\n",
      "\t\t\t# list of excluded items\n",
      "\t\t\tfilter_str = build_min_spt_filter_str(excluded_items)\n",
      "\t\t\t# remove those below threshold items from the dataset\n",
      "\t\t\ttx = [IT.filterfalse(lambda q: eval(filter_str), trans) \n",
      "\t\t\t\t\tfor trans in dataset]\n",
      "\t\t\tic = {k:v for k, v in item_count.items() if (v/total) >= min_spt}\n",
      "\t\t\treturn list(map(list, tx)), ic"
     ],
     "language": "python",
     "metadata": {},
     "outputs": [],
     "prompt_number": 282
    },
    {
     "cell_type": "code",
     "collapsed": false,
     "input": [
      "x = filter_by_min_spt(cpb_all, ic, min_spt"
     ],
     "language": "python",
     "metadata": {},
     "outputs": []
    }
   ],
   "metadata": {}
  }
 ]
}