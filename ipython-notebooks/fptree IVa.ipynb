{
 "metadata": {
  "name": ""
 },
 "nbformat": 3,
 "nbformat_minor": 0,
 "worksheets": [
  {
   "cells": [
    {
     "cell_type": "code",
     "collapsed": false,
     "input": [
      "import json as JSON\n",
      "import os\n",
      "import sys\n",
      "import itertools as IT\n",
      "from copy import deepcopy\n",
      "import collections as CL\n",
      "ddir = os.path.expanduser(\"~/Projects/fp-growth-for-frequent-itemsets\")\n",
      "ddir_util = os.path.expanduser(\"~/Projects/fp-growth-for-frequent-itemsets/utilities\")\n",
      "import os\n",
      "os.chdir(ddir)"
     ],
     "language": "python",
     "metadata": {},
     "outputs": [],
     "prompt_number": 1
    },
    {
     "cell_type": "code",
     "collapsed": false,
     "input": [
      "def get_configs(config_fname):\n",
      "\tconfig_file = os.path.expanduser(config_fname)\n",
      "\twith open(config_file, 'r', encoding='utf-8') as fh:\n",
      "\t\treturn JSON.load(fh)"
     ],
     "language": "python",
     "metadata": {},
     "outputs": [],
     "prompt_number": 2
    },
    {
     "cell_type": "code",
     "collapsed": false,
     "input": [
      "%run fptree_build"
     ],
     "language": "python",
     "metadata": {},
     "outputs": [],
     "prompt_number": 3
    },
    {
     "cell_type": "code",
     "collapsed": false,
     "input": [
      "configs"
     ],
     "language": "python",
     "metadata": {},
     "outputs": [
      {
       "metadata": {},
       "output_type": "pyout",
       "prompt_number": 4,
       "text": [
        "{'data_file': '/Users/dougybarbo/Projects/fp-growth-for-frequent-itemsets/tests/data_test/sm_test_06.csv',\n",
        " 'db_config': 'redis-fpg.conf',\n",
        " 'db_filepath': 'data',\n",
        " 'db_host': 'http://127.0.0.1',\n",
        " 'db_id': 0,\n",
        " 'db_port': 6379,\n",
        " 'max_transactions': 'all',\n",
        " 'min_freq_itemset_length': 4,\n",
        " 'min_support': 0.2,\n",
        " 'project_dir': 'Projects/fp-growth-for-frequent-itemsets',\n",
        " 'remove_duplicate_items_in_trans': 0,\n",
        " 'target': {'ABDF': 5}}"
       ]
      }
     ],
     "prompt_number": 4
    },
    {
     "cell_type": "code",
     "collapsed": false,
     "input": [
      "len(dataset)"
     ],
     "language": "python",
     "metadata": {},
     "outputs": [
      {
       "metadata": {},
       "output_type": "pyout",
       "prompt_number": 5,
       "text": [
        "20"
       ]
      }
     ],
     "prompt_number": 5
    },
    {
     "cell_type": "code",
     "collapsed": false,
     "input": [
      "import sys\n",
      "ddir_util = \"/Users/dougybarbo/Projects/fp-growth-for-frequent-itemsets/utilities\"\n",
      "import os\n",
      "sys.path.append(ddir_util)\n",
      "import memory_footprint as MF"
     ],
     "language": "python",
     "metadata": {},
     "outputs": [],
     "prompt_number": 6
    },
    {
     "cell_type": "code",
     "collapsed": false,
     "input": [
      "MF.total_size(fptree, verbose=True)"
     ],
     "language": "python",
     "metadata": {},
     "outputs": [
      {
       "output_type": "stream",
       "stream": "stderr",
       "text": [
        "64 <class '__main__.TreeNode'> <__main__.Tre...t 0x10bb0d410>\n"
       ]
      },
      {
       "metadata": {},
       "output_type": "pyout",
       "prompt_number": 7,
       "text": [
        "64"
       ]
      }
     ],
     "prompt_number": 7
    },
    {
     "cell_type": "code",
     "collapsed": false,
     "input": [
      "import fptree_mine as FPM"
     ],
     "language": "python",
     "metadata": {},
     "outputs": [],
     "prompt_number": 8
    },
    {
     "cell_type": "code",
     "collapsed": false,
     "input": [
      "FPM.mine_tree()\n",
      "len(FPM.FIS)"
     ],
     "language": "python",
     "metadata": {},
     "outputs": [
      {
       "output_type": "stream",
       "stream": "stdout",
       "text": [
        "path: K\n",
        "path: J\n",
        "path: A\n",
        "path: BA\n",
        "path: DA\n",
        "path: FDA\n",
        "fis: BFDA: 5\n",
        "path: B\n",
        "path: F\n",
        "path: DF\n",
        "path: Y\n",
        "path: Z\n",
        "path: Q\n",
        "path: R\n",
        "path: W\n",
        "path: V\n"
       ]
      },
      {
       "metadata": {},
       "output_type": "pyout",
       "prompt_number": 9,
       "text": [
        "1"
       ]
      }
     ],
     "prompt_number": 9
    },
    {
     "cell_type": "code",
     "collapsed": false,
     "input": [
      "MIN_FREQ_ITEMSET_LENGTH"
     ],
     "language": "python",
     "metadata": {},
     "outputs": [
      {
       "metadata": {},
       "output_type": "pyout",
       "prompt_number": 10,
       "text": [
        "4"
       ]
      }
     ],
     "prompt_number": 10
    },
    {
     "cell_type": "code",
     "collapsed": false,
     "input": [
      "TRANS_COUNT"
     ],
     "language": "python",
     "metadata": {},
     "outputs": [
      {
       "metadata": {},
       "output_type": "pyout",
       "prompt_number": 11,
       "text": [
        "20"
       ]
      }
     ],
     "prompt_number": 11
    },
    {
     "cell_type": "code",
     "collapsed": false,
     "input": [
      "len(FPM.FIS)\n",
      "FPM.FIS"
     ],
     "language": "python",
     "metadata": {},
     "outputs": [
      {
       "metadata": {},
       "output_type": "pyout",
       "prompt_number": 20,
       "text": [
        "['BFDA:5']"
       ]
      }
     ],
     "prompt_number": 20
    },
    {
     "cell_type": "code",
     "collapsed": false,
     "input": [
      "import fptree_query as FPQ"
     ],
     "language": "python",
     "metadata": {},
     "outputs": [],
     "prompt_number": 21
    },
    {
     "cell_type": "code",
     "collapsed": false,
     "input": [
      "fis, fis_cnt = FPQ.create_fis_containers()"
     ],
     "language": "python",
     "metadata": {},
     "outputs": [],
     "prompt_number": 22
    },
    {
     "cell_type": "code",
     "collapsed": false,
     "input": [
      "fis_cnt1 = {k:v for k, v in fis_cnt.items() if len(k) == 4}\n",
      "len(fis_cnt1)"
     ],
     "language": "python",
     "metadata": {},
     "outputs": [
      {
       "metadata": {},
       "output_type": "pyout",
       "prompt_number": 23,
       "text": [
        "1"
       ]
      }
     ],
     "prompt_number": 23
    },
    {
     "cell_type": "code",
     "collapsed": false,
     "input": [
      "fis_cnt1"
     ],
     "language": "python",
     "metadata": {},
     "outputs": [
      {
       "metadata": {},
       "output_type": "pyout",
       "prompt_number": 24,
       "text": [
        "{'BFDA': 5}"
       ]
      }
     ],
     "prompt_number": 24
    },
    {
     "cell_type": "code",
     "collapsed": false,
     "input": [],
     "language": "python",
     "metadata": {},
     "outputs": [],
     "prompt_number": 16
    },
    {
     "cell_type": "code",
     "collapsed": false,
     "input": [
      "s='C:3, BC:3, DE:3, ADE:3 , BE:3, ABE:3, AE:4, E:4, AD:4, ABD:3, AB:4, A:5, D:6, BD:4, B:6'\n",
      "target = s.split(', ')\n",
      "target = [itm.split(':') for itm in target]\n",
      "target = dict((t[0], int(t[1])) for t in target)\n",
      "target = {k:v for k, v in target.items()}\n",
      "len(target)"
     ],
     "language": "python",
     "metadata": {},
     "outputs": [
      {
       "metadata": {},
       "output_type": "pyout",
       "prompt_number": 17,
       "text": [
        "15"
       ]
      }
     ],
     "prompt_number": 17
    },
    {
     "cell_type": "code",
     "collapsed": false,
     "input": [
      "target"
     ],
     "language": "python",
     "metadata": {},
     "outputs": [
      {
       "metadata": {},
       "output_type": "pyout",
       "prompt_number": 18,
       "text": [
        "{'A': 5,\n",
        " 'AB': 4,\n",
        " 'ABD': 3,\n",
        " 'ABE': 3,\n",
        " 'AD': 4,\n",
        " 'ADE': 3,\n",
        " 'AE': 4,\n",
        " 'B': 6,\n",
        " 'BC': 3,\n",
        " 'BD': 4,\n",
        " 'BE': 3,\n",
        " 'C': 3,\n",
        " 'D': 6,\n",
        " 'DE': 3,\n",
        " 'E': 4}"
       ]
      }
     ],
     "prompt_number": 18
    },
    {
     "cell_type": "code",
     "collapsed": false,
     "input": [
      "t1 = { k:v for k, v in target.items() if len(k) >=3 }"
     ],
     "language": "python",
     "metadata": {},
     "outputs": [],
     "prompt_number": 19
    },
    {
     "cell_type": "code",
     "collapsed": false,
     "input": [
      "fis"
     ],
     "language": "python",
     "metadata": {},
     "outputs": [
      {
       "metadata": {},
       "output_type": "pyout",
       "prompt_number": 18,
       "text": [
        "[]"
       ]
      }
     ],
     "prompt_number": 18
    },
    {
     "cell_type": "code",
     "collapsed": false,
     "input": [
      "fis_cnt"
     ],
     "language": "python",
     "metadata": {},
     "outputs": [
      {
       "metadata": {},
       "output_type": "pyout",
       "prompt_number": 19,
       "text": [
        "{}"
       ]
      }
     ],
     "prompt_number": 19
    },
    {
     "cell_type": "code",
     "collapsed": false,
     "input": [
      "from redis import StrictRedis as Redis\n",
      "\n",
      "import json as JSON"
     ],
     "language": "python",
     "metadata": {},
     "outputs": [],
     "prompt_number": 20
    },
    {
     "cell_type": "code",
     "collapsed": false,
     "input": [
      "import csv as CSV\n",
      "data_dir = os.path.join(ddir, \"data\")\n",
      "df = os.path.join(data_dir, \"sm_test_05.csv\")\n",
      "\n",
      "with open(df, 'r', encoding='utf-8') as fh:\n",
      "    reader = CSV.reader(fh)\n",
      "    dataset = [line for line in reader]\n",
      "\n",
      "dataset"
     ],
     "language": "python",
     "metadata": {},
     "outputs": [
      {
       "metadata": {},
       "output_type": "pyout",
       "prompt_number": 6,
       "text": [
        "[['E', 'A', 'D', 'B'],\n",
        " ['D', 'A', 'C', 'E', 'B'],\n",
        " ['C', 'A', 'B', 'E'],\n",
        " ['B', 'A', 'D'],\n",
        " ['D'],\n",
        " ['D', 'B'],\n",
        " ['A', 'D', 'E'],\n",
        " ['B', 'C']]"
       ]
      }
     ],
     "prompt_number": 6
    },
    {
     "cell_type": "code",
     "collapsed": false,
     "input": [
      "import itertools as IT\n",
      "import string\n",
      "import random as RND\n",
      "\n",
      "fnx = lambda q: IT.permutations(string.ascii_uppercase[:6], q)\n",
      "D = []\n",
      "ds1 = list(fnx(3))[:10]\n",
      "ds2 = list(fnx(4))[:10]\n",
      "ds3 = list(fnx(5))[:10]\n",
      "\n",
      "D.extend(ds1)\n",
      "D.extend(ds2)\n",
      "D.extend(ds3)\n",
      "\n",
      "RND.shuffle(D)\n",
      "\n",
      "ds4 = list('ADF')\n",
      "ds4 = ds4 * 7\n",
      "ds4 = [ list(IT.islice(ds4, c, c+3, 1)) for c in range(0, 3*7, 3)  ]\n",
      "\n",
      "D.extend(ds4)\n",
      "RND.shuffle(D)\n",
      "7/37"
     ],
     "language": "python",
     "metadata": {},
     "outputs": [
      {
       "metadata": {},
       "output_type": "pyout",
       "prompt_number": 22,
       "text": [
        "0.1891891891891892"
       ]
      }
     ],
     "prompt_number": 22
    },
    {
     "cell_type": "code",
     "collapsed": false,
     "input": [
      "import sys\n",
      "print(\"{:,}\".format(sys.getsizeof(D)))"
     ],
     "language": "python",
     "metadata": {},
     "outputs": [
      {
       "output_type": "stream",
       "stream": "stdout",
       "text": [
        "384\n"
       ]
      }
     ],
     "prompt_number": 20
    },
    {
     "cell_type": "code",
     "collapsed": false,
     "input": [],
     "language": "python",
     "metadata": {},
     "outputs": []
    },
    {
     "cell_type": "code",
     "collapsed": false,
     "input": [],
     "language": "python",
     "metadata": {},
     "outputs": [],
     "prompt_number": 12
    },
    {
     "cell_type": "code",
     "collapsed": false,
     "input": [
      "import string\n",
      "import random as RND\n",
      "\n",
      "d = list(IT.combinations(string.ascii_uppercase, 5))\n",
      "RND.shuffle(d)\n",
      "d = d[:15]\n",
      "\n",
      "fis = list('ADBF')\n",
      "d0 = fis * 5\n",
      "d0 = [ list(IT.islice(d0, c, c+len(fis), 1)) for c in range(0, len(fis)*5, len(fis))  ]\n",
      "\n",
      "for line in d0:\n",
      "    d.append(line)\n",
      "\n",
      "print(len(d))\n",
      "RND.shuffle(d)\n",
      "d = [list(line) for line in d]\n",
      "for line in d:\n",
      "    print(line)"
     ],
     "language": "python",
     "metadata": {},
     "outputs": [
      {
       "output_type": "stream",
       "stream": "stdout",
       "text": [
        "20\n",
        "['C', 'G', 'R', 'V', 'Y']\n",
        "['K', 'Q', 'V', 'W', 'Z']\n",
        "['H', 'I', 'M', 'N', 'Y']\n",
        "['A', 'D', 'B', 'F']\n",
        "['C', 'J', 'O', 'Q', 'R']\n",
        "['A', 'D', 'B', 'F']\n",
        "['D', 'J', 'K', 'R', 'Z']\n",
        "['J', 'K', 'L', 'W', 'X']\n",
        "['O', 'P', 'Q', 'T', 'W']\n",
        "['A', 'D', 'B', 'F']\n",
        "['A', 'F', 'L', 'M', 'X']\n",
        "['D', 'E', 'K', 'Q', 'S']\n",
        "['C', 'E', 'R', 'U', 'Y']\n",
        "['A', 'D', 'B', 'F']\n",
        "['B', 'F', 'R', 'W', 'Z']\n",
        "['D', 'E', 'U', 'Y', 'Z']\n",
        "['B', 'J', 'K', 'T', 'V']\n",
        "['N', 'R', 'T', 'V', 'W']\n",
        "['A', 'D', 'B', 'F']\n",
        "['D', 'O', 'Q', 'R', 'V']\n"
       ]
      }
     ],
     "prompt_number": 4
    },
    {
     "cell_type": "code",
     "collapsed": false,
     "input": [
      "import csv as CSV\n",
      "csv_file = \"/Users/dougybarbo/Projects/fp-growth-for-frequent-itemsets/tests/data_test/sm_test_06.csv\"\n",
      "with open(csv_file, 'w', encoding='utf-8') as fh:\n",
      "    writer = CSV.writer(fh, delimiter=',', quotechar='|', quoting=CSV.QUOTE_MINIMAL)\n",
      "    writer.writerows(d)"
     ],
     "language": "python",
     "metadata": {},
     "outputs": [],
     "prompt_number": 5
    },
    {
     "cell_type": "code",
     "collapsed": false,
     "input": [
      "def build_config_filepath(fname):\n",
      "    ddir = os.path.dirname(__file__)\n",
      "    filepath = os.path.join(ddir, '/configs_test/')\n",
      "    return os.path.join(filepath, fname)"
     ],
     "language": "python",
     "metadata": {},
     "outputs": [],
     "prompt_number": 25
    },
    {
     "cell_type": "code",
     "collapsed": false,
     "input": [
      "os.getcwd()"
     ],
     "language": "python",
     "metadata": {},
     "outputs": [
      {
       "metadata": {},
       "output_type": "pyout",
       "prompt_number": 27,
       "text": [
        "'/Users/dougybarbo/Projects/fp-growth-for-frequent-itemsets'"
       ]
      }
     ],
     "prompt_number": 27
    },
    {
     "cell_type": "code",
     "collapsed": false,
     "input": [
      "os.path.abspath('tests/configs_test/')"
     ],
     "language": "python",
     "metadata": {},
     "outputs": [
      {
       "metadata": {},
       "output_type": "pyout",
       "prompt_number": 30,
       "text": [
        "'/Users/dougybarbo/Projects/fp-growth-for-frequent-itemsets/tests/configs_test'"
       ]
      }
     ],
     "prompt_number": 30
    },
    {
     "cell_type": "code",
     "collapsed": false,
     "input": [
      "import fptree_config as FPC"
     ],
     "language": "python",
     "metadata": {},
     "outputs": [],
     "prompt_number": 31
    },
    {
     "cell_type": "code",
     "collapsed": false,
     "input": [
      "configs = FPC.get_configs('config-t6.json')"
     ],
     "language": "python",
     "metadata": {},
     "outputs": [],
     "prompt_number": 32
    },
    {
     "cell_type": "code",
     "collapsed": false,
     "input": [
      "configs"
     ],
     "language": "python",
     "metadata": {},
     "outputs": [
      {
       "metadata": {},
       "output_type": "pyout",
       "prompt_number": 33,
       "text": [
        "{'data_file': '/Users/dougybarbo/Projects/fp-growth-for-frequent-itemsets/tests/data_test/sm_test_06.csv',\n",
        " 'db_config': 'redis-fpg.conf',\n",
        " 'db_filepath': 'data',\n",
        " 'db_host': 'http://127.0.0.1',\n",
        " 'db_id': 0,\n",
        " 'db_port': 6379,\n",
        " 'max_transactions': 'all',\n",
        " 'min_freq_itemset_length': 4,\n",
        " 'min_support': 0.2,\n",
        " 'project_dir': 'Projects/fp-growth-for-frequent-itemsets',\n",
        " 'remove_duplicate_items_in_trans': 0,\n",
        " 'target': {'ABDF': 5}}"
       ]
      }
     ],
     "prompt_number": 33
    },
    {
     "cell_type": "code",
     "collapsed": false,
     "input": [],
     "language": "python",
     "metadata": {},
     "outputs": []
    }
   ],
   "metadata": {}
  }
 ]
}